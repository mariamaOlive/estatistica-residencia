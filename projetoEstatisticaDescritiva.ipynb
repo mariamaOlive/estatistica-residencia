{
  "cells": [
    {
      "cell_type": "markdown",
      "metadata": {
        "id": "-nX1TdbTgL87"
      },
      "source": [
        "# Projeto Estatística Descritiva de Dados\n",
        "## Lucas Natan Correia Couri e Mariama Oliveira"
      ]
    },
    {
      "cell_type": "markdown",
      "metadata": {
        "id": "K7hgBrxasDXN"
      },
      "source": [
        "# Análise exploratória"
      ]
    },
    {
      "cell_type": "code",
      "execution_count": 184,
      "metadata": {},
      "outputs": [],
      "source": [
        "import pandas as pd\n",
        "import seaborn as sns\n",
        "import numpy as np\n",
        "import matplotlib.pyplot as plt\n",
        "import scipy.stats as stats\n",
        "import researchpy as rp\n",
        "from sklearn.model_selection import train_test_split\n",
        "from sklearn.naive_bayes import CategoricalNB\n",
        "from sklearn.metrics import f1_score\n",
        "from sklearn.metrics import accuracy_score\n",
        "from sklearn.neighbors import KNeighborsClassifier\n",
        "from IPython.core.interactiveshell import InteractiveShell\n",
        "from sklearn.metrics import confusion_matrix\n",
        "from sklearn.metrics import classification_report\n",
        "InteractiveShell.ast_node_interactivity = 'all'\n",
        "import warnings\n",
        "warnings.filterwarnings('ignore')"
      ]
    },
    {
      "cell_type": "code",
      "execution_count": 185,
      "metadata": {},
      "outputs": [],
      "source": [
        "dados = pd.read_csv(\"dataset_stroke.csv\")"
      ]
    },
    {
      "cell_type": "code",
      "execution_count": 186,
      "metadata": {
        "id": "IaCtHNE0gB2-"
      },
      "outputs": [
        {
          "data": {
            "text/html": [
              "<div>\n",
              "<style scoped>\n",
              "    .dataframe tbody tr th:only-of-type {\n",
              "        vertical-align: middle;\n",
              "    }\n",
              "\n",
              "    .dataframe tbody tr th {\n",
              "        vertical-align: top;\n",
              "    }\n",
              "\n",
              "    .dataframe thead th {\n",
              "        text-align: right;\n",
              "    }\n",
              "</style>\n",
              "<table border=\"1\" class=\"dataframe\">\n",
              "  <thead>\n",
              "    <tr style=\"text-align: right;\">\n",
              "      <th></th>\n",
              "      <th>id</th>\n",
              "      <th>gender</th>\n",
              "      <th>age</th>\n",
              "      <th>hypertension</th>\n",
              "      <th>heart_disease</th>\n",
              "      <th>ever_married</th>\n",
              "      <th>work_type</th>\n",
              "      <th>Residence_type</th>\n",
              "      <th>avg_glucose_level</th>\n",
              "      <th>bmi</th>\n",
              "      <th>smoking_status</th>\n",
              "      <th>stroke</th>\n",
              "    </tr>\n",
              "  </thead>\n",
              "  <tbody>\n",
              "    <tr>\n",
              "      <th>0</th>\n",
              "      <td>9046</td>\n",
              "      <td>Male</td>\n",
              "      <td>67.0</td>\n",
              "      <td>0</td>\n",
              "      <td>1</td>\n",
              "      <td>Yes</td>\n",
              "      <td>Private</td>\n",
              "      <td>Urban</td>\n",
              "      <td>228.69</td>\n",
              "      <td>36.6</td>\n",
              "      <td>formerly smoked</td>\n",
              "      <td>1</td>\n",
              "    </tr>\n",
              "    <tr>\n",
              "      <th>1</th>\n",
              "      <td>51676</td>\n",
              "      <td>Female</td>\n",
              "      <td>61.0</td>\n",
              "      <td>0</td>\n",
              "      <td>0</td>\n",
              "      <td>Yes</td>\n",
              "      <td>Self-employed</td>\n",
              "      <td>Rural</td>\n",
              "      <td>202.21</td>\n",
              "      <td>NaN</td>\n",
              "      <td>never smoked</td>\n",
              "      <td>1</td>\n",
              "    </tr>\n",
              "    <tr>\n",
              "      <th>2</th>\n",
              "      <td>31112</td>\n",
              "      <td>Male</td>\n",
              "      <td>80.0</td>\n",
              "      <td>0</td>\n",
              "      <td>1</td>\n",
              "      <td>Yes</td>\n",
              "      <td>Private</td>\n",
              "      <td>Rural</td>\n",
              "      <td>105.92</td>\n",
              "      <td>32.5</td>\n",
              "      <td>never smoked</td>\n",
              "      <td>1</td>\n",
              "    </tr>\n",
              "    <tr>\n",
              "      <th>3</th>\n",
              "      <td>60182</td>\n",
              "      <td>Female</td>\n",
              "      <td>49.0</td>\n",
              "      <td>0</td>\n",
              "      <td>0</td>\n",
              "      <td>Yes</td>\n",
              "      <td>Private</td>\n",
              "      <td>Urban</td>\n",
              "      <td>171.23</td>\n",
              "      <td>34.4</td>\n",
              "      <td>smokes</td>\n",
              "      <td>1</td>\n",
              "    </tr>\n",
              "    <tr>\n",
              "      <th>4</th>\n",
              "      <td>1665</td>\n",
              "      <td>Female</td>\n",
              "      <td>79.0</td>\n",
              "      <td>1</td>\n",
              "      <td>0</td>\n",
              "      <td>Yes</td>\n",
              "      <td>Self-employed</td>\n",
              "      <td>Rural</td>\n",
              "      <td>174.12</td>\n",
              "      <td>24.0</td>\n",
              "      <td>never smoked</td>\n",
              "      <td>1</td>\n",
              "    </tr>\n",
              "  </tbody>\n",
              "</table>\n",
              "</div>"
            ],
            "text/plain": [
              "      id  gender   age  hypertension  heart_disease ever_married  \\\n",
              "0   9046    Male  67.0             0              1          Yes   \n",
              "1  51676  Female  61.0             0              0          Yes   \n",
              "2  31112    Male  80.0             0              1          Yes   \n",
              "3  60182  Female  49.0             0              0          Yes   \n",
              "4   1665  Female  79.0             1              0          Yes   \n",
              "\n",
              "       work_type Residence_type  avg_glucose_level   bmi   smoking_status  \\\n",
              "0        Private          Urban             228.69  36.6  formerly smoked   \n",
              "1  Self-employed          Rural             202.21   NaN     never smoked   \n",
              "2        Private          Rural             105.92  32.5     never smoked   \n",
              "3        Private          Urban             171.23  34.4           smokes   \n",
              "4  Self-employed          Rural             174.12  24.0     never smoked   \n",
              "\n",
              "   stroke  \n",
              "0       1  \n",
              "1       1  \n",
              "2       1  \n",
              "3       1  \n",
              "4       1  "
            ]
          },
          "execution_count": 186,
          "metadata": {},
          "output_type": "execute_result"
        }
      ],
      "source": [
        "dados.head()"
      ]
    },
    {
      "cell_type": "code",
      "execution_count": 187,
      "metadata": {},
      "outputs": [
        {
          "data": {
            "text/plain": [
              "(5110, 12)"
            ]
          },
          "execution_count": 187,
          "metadata": {},
          "output_type": "execute_result"
        }
      ],
      "source": [
        "dados.shape"
      ]
    },
    {
      "cell_type": "markdown",
      "metadata": {},
      "source": [
        "## Pré-processamento de dados"
      ]
    },
    {
      "cell_type": "code",
      "execution_count": 188,
      "metadata": {},
      "outputs": [
        {
          "data": {
            "text/plain": [
              "id                     int64\n",
              "gender                object\n",
              "age                  float64\n",
              "hypertension           int64\n",
              "heart_disease          int64\n",
              "ever_married          object\n",
              "work_type             object\n",
              "Residence_type        object\n",
              "avg_glucose_level    float64\n",
              "bmi                  float64\n",
              "smoking_status        object\n",
              "stroke                 int64\n",
              "dtype: object"
            ]
          },
          "execution_count": 188,
          "metadata": {},
          "output_type": "execute_result"
        }
      ],
      "source": [
        "dados.dtypes"
      ]
    },
    {
      "cell_type": "markdown",
      "metadata": {},
      "source": [
        "Convertendos tipos \"object\" para \"category\""
      ]
    },
    {
      "cell_type": "code",
      "execution_count": 189,
      "metadata": {
        "id": "bLUYhOJFsRnA"
      },
      "outputs": [],
      "source": [
        "dados['gender'] = dados['gender'].astype('category')\n",
        "dados['ever_married'] = dados['ever_married'].astype('category')\n",
        "dados['work_type'] = dados['work_type'].astype('category')\n",
        "dados['Residence_type'] = dados['Residence_type'].astype('category')\n",
        "dados['smoking_status'] = dados['smoking_status'].astype('category')\n",
        "dados['hypertension'] = dados['hypertension'].astype('category')\n",
        "dados['heart_disease'] = dados['heart_disease'].astype('category')\n",
        "dados['stroke'] = dados['stroke'].astype('category')\n"
      ]
    },
    {
      "cell_type": "code",
      "execution_count": 190,
      "metadata": {},
      "outputs": [
        {
          "data": {
            "text/html": [
              "<div>\n",
              "<style scoped>\n",
              "    .dataframe tbody tr th:only-of-type {\n",
              "        vertical-align: middle;\n",
              "    }\n",
              "\n",
              "    .dataframe tbody tr th {\n",
              "        vertical-align: top;\n",
              "    }\n",
              "\n",
              "    .dataframe thead th {\n",
              "        text-align: right;\n",
              "    }\n",
              "</style>\n",
              "<table border=\"1\" class=\"dataframe\">\n",
              "  <thead>\n",
              "    <tr style=\"text-align: right;\">\n",
              "      <th></th>\n",
              "      <th>id</th>\n",
              "      <th>age</th>\n",
              "      <th>avg_glucose_level</th>\n",
              "      <th>bmi</th>\n",
              "    </tr>\n",
              "  </thead>\n",
              "  <tbody>\n",
              "    <tr>\n",
              "      <th>count</th>\n",
              "      <td>5110.000000</td>\n",
              "      <td>5110.000000</td>\n",
              "      <td>5110.000000</td>\n",
              "      <td>4909.000000</td>\n",
              "    </tr>\n",
              "    <tr>\n",
              "      <th>mean</th>\n",
              "      <td>36517.829354</td>\n",
              "      <td>43.226614</td>\n",
              "      <td>106.147677</td>\n",
              "      <td>28.893237</td>\n",
              "    </tr>\n",
              "    <tr>\n",
              "      <th>std</th>\n",
              "      <td>21161.721625</td>\n",
              "      <td>22.612647</td>\n",
              "      <td>45.283560</td>\n",
              "      <td>7.854067</td>\n",
              "    </tr>\n",
              "    <tr>\n",
              "      <th>min</th>\n",
              "      <td>67.000000</td>\n",
              "      <td>0.080000</td>\n",
              "      <td>55.120000</td>\n",
              "      <td>10.300000</td>\n",
              "    </tr>\n",
              "    <tr>\n",
              "      <th>25%</th>\n",
              "      <td>17741.250000</td>\n",
              "      <td>25.000000</td>\n",
              "      <td>77.245000</td>\n",
              "      <td>23.500000</td>\n",
              "    </tr>\n",
              "    <tr>\n",
              "      <th>50%</th>\n",
              "      <td>36932.000000</td>\n",
              "      <td>45.000000</td>\n",
              "      <td>91.885000</td>\n",
              "      <td>28.100000</td>\n",
              "    </tr>\n",
              "    <tr>\n",
              "      <th>75%</th>\n",
              "      <td>54682.000000</td>\n",
              "      <td>61.000000</td>\n",
              "      <td>114.090000</td>\n",
              "      <td>33.100000</td>\n",
              "    </tr>\n",
              "    <tr>\n",
              "      <th>max</th>\n",
              "      <td>72940.000000</td>\n",
              "      <td>82.000000</td>\n",
              "      <td>271.740000</td>\n",
              "      <td>97.600000</td>\n",
              "    </tr>\n",
              "  </tbody>\n",
              "</table>\n",
              "</div>"
            ],
            "text/plain": [
              "                 id          age  avg_glucose_level          bmi\n",
              "count   5110.000000  5110.000000        5110.000000  4909.000000\n",
              "mean   36517.829354    43.226614         106.147677    28.893237\n",
              "std    21161.721625    22.612647          45.283560     7.854067\n",
              "min       67.000000     0.080000          55.120000    10.300000\n",
              "25%    17741.250000    25.000000          77.245000    23.500000\n",
              "50%    36932.000000    45.000000          91.885000    28.100000\n",
              "75%    54682.000000    61.000000         114.090000    33.100000\n",
              "max    72940.000000    82.000000         271.740000    97.600000"
            ]
          },
          "execution_count": 190,
          "metadata": {},
          "output_type": "execute_result"
        }
      ],
      "source": [
        "dados.describe()"
      ]
    },
    {
      "cell_type": "code",
      "execution_count": 191,
      "metadata": {},
      "outputs": [
        {
          "data": {
            "text/html": [
              "<div>\n",
              "<style scoped>\n",
              "    .dataframe tbody tr th:only-of-type {\n",
              "        vertical-align: middle;\n",
              "    }\n",
              "\n",
              "    .dataframe tbody tr th {\n",
              "        vertical-align: top;\n",
              "    }\n",
              "\n",
              "    .dataframe thead th {\n",
              "        text-align: right;\n",
              "    }\n",
              "</style>\n",
              "<table border=\"1\" class=\"dataframe\">\n",
              "  <thead>\n",
              "    <tr style=\"text-align: right;\">\n",
              "      <th></th>\n",
              "      <th>id</th>\n",
              "      <th>gender</th>\n",
              "      <th>age</th>\n",
              "      <th>hypertension</th>\n",
              "      <th>heart_disease</th>\n",
              "      <th>ever_married</th>\n",
              "      <th>work_type</th>\n",
              "      <th>Residence_type</th>\n",
              "      <th>avg_glucose_level</th>\n",
              "      <th>bmi</th>\n",
              "      <th>smoking_status</th>\n",
              "      <th>stroke</th>\n",
              "    </tr>\n",
              "  </thead>\n",
              "  <tbody>\n",
              "    <tr>\n",
              "      <th>363</th>\n",
              "      <td>7559</td>\n",
              "      <td>Female</td>\n",
              "      <td>0.64</td>\n",
              "      <td>0</td>\n",
              "      <td>0</td>\n",
              "      <td>No</td>\n",
              "      <td>children</td>\n",
              "      <td>Urban</td>\n",
              "      <td>83.82</td>\n",
              "      <td>24.9</td>\n",
              "      <td>Unknown</td>\n",
              "      <td>0</td>\n",
              "    </tr>\n",
              "    <tr>\n",
              "      <th>376</th>\n",
              "      <td>22706</td>\n",
              "      <td>Female</td>\n",
              "      <td>0.88</td>\n",
              "      <td>0</td>\n",
              "      <td>0</td>\n",
              "      <td>No</td>\n",
              "      <td>children</td>\n",
              "      <td>Rural</td>\n",
              "      <td>88.11</td>\n",
              "      <td>15.5</td>\n",
              "      <td>Unknown</td>\n",
              "      <td>0</td>\n",
              "    </tr>\n",
              "    <tr>\n",
              "      <th>562</th>\n",
              "      <td>45238</td>\n",
              "      <td>Female</td>\n",
              "      <td>1.80</td>\n",
              "      <td>0</td>\n",
              "      <td>0</td>\n",
              "      <td>No</td>\n",
              "      <td>children</td>\n",
              "      <td>Urban</td>\n",
              "      <td>58.26</td>\n",
              "      <td>16.5</td>\n",
              "      <td>Unknown</td>\n",
              "      <td>0</td>\n",
              "    </tr>\n",
              "    <tr>\n",
              "      <th>564</th>\n",
              "      <td>61511</td>\n",
              "      <td>Female</td>\n",
              "      <td>0.32</td>\n",
              "      <td>0</td>\n",
              "      <td>0</td>\n",
              "      <td>No</td>\n",
              "      <td>children</td>\n",
              "      <td>Rural</td>\n",
              "      <td>73.71</td>\n",
              "      <td>16.2</td>\n",
              "      <td>Unknown</td>\n",
              "      <td>0</td>\n",
              "    </tr>\n",
              "    <tr>\n",
              "      <th>597</th>\n",
              "      <td>40639</td>\n",
              "      <td>Female</td>\n",
              "      <td>1.08</td>\n",
              "      <td>0</td>\n",
              "      <td>0</td>\n",
              "      <td>No</td>\n",
              "      <td>children</td>\n",
              "      <td>Rural</td>\n",
              "      <td>60.53</td>\n",
              "      <td>17.5</td>\n",
              "      <td>Unknown</td>\n",
              "      <td>0</td>\n",
              "    </tr>\n",
              "    <tr>\n",
              "      <th>...</th>\n",
              "      <td>...</td>\n",
              "      <td>...</td>\n",
              "      <td>...</td>\n",
              "      <td>...</td>\n",
              "      <td>...</td>\n",
              "      <td>...</td>\n",
              "      <td>...</td>\n",
              "      <td>...</td>\n",
              "      <td>...</td>\n",
              "      <td>...</td>\n",
              "      <td>...</td>\n",
              "      <td>...</td>\n",
              "    </tr>\n",
              "    <tr>\n",
              "      <th>4934</th>\n",
              "      <td>32147</td>\n",
              "      <td>Male</td>\n",
              "      <td>1.32</td>\n",
              "      <td>0</td>\n",
              "      <td>0</td>\n",
              "      <td>No</td>\n",
              "      <td>children</td>\n",
              "      <td>Rural</td>\n",
              "      <td>107.02</td>\n",
              "      <td>NaN</td>\n",
              "      <td>Unknown</td>\n",
              "      <td>0</td>\n",
              "    </tr>\n",
              "    <tr>\n",
              "      <th>5032</th>\n",
              "      <td>67426</td>\n",
              "      <td>Female</td>\n",
              "      <td>1.24</td>\n",
              "      <td>0</td>\n",
              "      <td>0</td>\n",
              "      <td>No</td>\n",
              "      <td>children</td>\n",
              "      <td>Rural</td>\n",
              "      <td>61.94</td>\n",
              "      <td>20.3</td>\n",
              "      <td>Unknown</td>\n",
              "      <td>0</td>\n",
              "    </tr>\n",
              "    <tr>\n",
              "      <th>5079</th>\n",
              "      <td>42709</td>\n",
              "      <td>Male</td>\n",
              "      <td>1.72</td>\n",
              "      <td>0</td>\n",
              "      <td>0</td>\n",
              "      <td>No</td>\n",
              "      <td>children</td>\n",
              "      <td>Urban</td>\n",
              "      <td>77.28</td>\n",
              "      <td>17.1</td>\n",
              "      <td>Unknown</td>\n",
              "      <td>0</td>\n",
              "    </tr>\n",
              "    <tr>\n",
              "      <th>5089</th>\n",
              "      <td>56714</td>\n",
              "      <td>Female</td>\n",
              "      <td>0.72</td>\n",
              "      <td>0</td>\n",
              "      <td>0</td>\n",
              "      <td>No</td>\n",
              "      <td>children</td>\n",
              "      <td>Rural</td>\n",
              "      <td>62.13</td>\n",
              "      <td>16.8</td>\n",
              "      <td>Unknown</td>\n",
              "      <td>0</td>\n",
              "    </tr>\n",
              "    <tr>\n",
              "      <th>5095</th>\n",
              "      <td>68598</td>\n",
              "      <td>Male</td>\n",
              "      <td>1.08</td>\n",
              "      <td>0</td>\n",
              "      <td>0</td>\n",
              "      <td>No</td>\n",
              "      <td>children</td>\n",
              "      <td>Rural</td>\n",
              "      <td>79.15</td>\n",
              "      <td>17.4</td>\n",
              "      <td>Unknown</td>\n",
              "      <td>0</td>\n",
              "    </tr>\n",
              "  </tbody>\n",
              "</table>\n",
              "<p>119 rows × 12 columns</p>\n",
              "</div>"
            ],
            "text/plain": [
              "         id  gender   age hypertension heart_disease ever_married work_type  \\\n",
              "363    7559  Female  0.64            0             0           No  children   \n",
              "376   22706  Female  0.88            0             0           No  children   \n",
              "562   45238  Female  1.80            0             0           No  children   \n",
              "564   61511  Female  0.32            0             0           No  children   \n",
              "597   40639  Female  1.08            0             0           No  children   \n",
              "...     ...     ...   ...          ...           ...          ...       ...   \n",
              "4934  32147    Male  1.32            0             0           No  children   \n",
              "5032  67426  Female  1.24            0             0           No  children   \n",
              "5079  42709    Male  1.72            0             0           No  children   \n",
              "5089  56714  Female  0.72            0             0           No  children   \n",
              "5095  68598    Male  1.08            0             0           No  children   \n",
              "\n",
              "     Residence_type  avg_glucose_level   bmi smoking_status stroke  \n",
              "363           Urban              83.82  24.9        Unknown      0  \n",
              "376           Rural              88.11  15.5        Unknown      0  \n",
              "562           Urban              58.26  16.5        Unknown      0  \n",
              "564           Rural              73.71  16.2        Unknown      0  \n",
              "597           Rural              60.53  17.5        Unknown      0  \n",
              "...             ...                ...   ...            ...    ...  \n",
              "4934          Rural             107.02   NaN        Unknown      0  \n",
              "5032          Rural              61.94  20.3        Unknown      0  \n",
              "5079          Urban              77.28  17.1        Unknown      0  \n",
              "5089          Rural              62.13  16.8        Unknown      0  \n",
              "5095          Rural              79.15  17.4        Unknown      0  \n",
              "\n",
              "[119 rows x 12 columns]"
            ]
          },
          "execution_count": 191,
          "metadata": {},
          "output_type": "execute_result"
        }
      ],
      "source": [
        "dados[(dados['age']<2) & (dados['stroke']==0)]"
      ]
    },
    {
      "cell_type": "markdown",
      "metadata": {},
      "source": [
        "Verificando outliers do IMC usando o boxplot"
      ]
    },
    {
      "cell_type": "code",
      "execution_count": 192,
      "metadata": {},
      "outputs": [
        {
          "data": {
            "text/plain": [
              "<AxesSubplot:>"
            ]
          },
          "execution_count": 192,
          "metadata": {},
          "output_type": "execute_result"
        },
        {
          "data": {
            "image/png": "[encoded data removed]",
            "text/plain": [
              "<Figure size 432x288 with 1 Axes>"
            ]
          },
          "metadata": {
            "needs_background": "light"
          },
          "output_type": "display_data"
        }
      ],
      "source": [
        "dados['bmi'].plot.box()"
      ]
    },
    {
      "cell_type": "markdown",
      "metadata": {},
      "source": [
        "### **Verificando dados nulos**"
      ]
    },
    {
      "cell_type": "code",
      "execution_count": 193,
      "metadata": {},
      "outputs": [
        {
          "data": {
            "text/plain": [
              "id                   0.000000\n",
              "gender               0.000000\n",
              "age                  0.000000\n",
              "hypertension         0.000000\n",
              "heart_disease        0.000000\n",
              "ever_married         0.000000\n",
              "work_type            0.000000\n",
              "Residence_type       0.000000\n",
              "avg_glucose_level    0.000000\n",
              "bmi                  0.039335\n",
              "smoking_status       0.000000\n",
              "stroke               0.000000\n",
              "dtype: float64"
            ]
          },
          "execution_count": 193,
          "metadata": {},
          "output_type": "execute_result"
        }
      ],
      "source": [
        "dados.isnull().sum()/len(dados)"
      ]
    },
    {
      "cell_type": "code",
      "execution_count": 194,
      "metadata": {},
      "outputs": [
        {
          "data": {
            "text/plain": [
              "Female    2994\n",
              "Male      2115\n",
              "Other        1\n",
              "Name: gender, dtype: int64"
            ]
          },
          "execution_count": 194,
          "metadata": {},
          "output_type": "execute_result"
        },
        {
          "data": {
            "text/plain": [
              "Yes    3353\n",
              "No     1757\n",
              "Name: ever_married, dtype: int64"
            ]
          },
          "execution_count": 194,
          "metadata": {},
          "output_type": "execute_result"
        },
        {
          "data": {
            "text/plain": [
              "Private          2925\n",
              "Self-employed     819\n",
              "children          687\n",
              "Govt_job          657\n",
              "Never_worked       22\n",
              "Name: work_type, dtype: int64"
            ]
          },
          "execution_count": 194,
          "metadata": {},
          "output_type": "execute_result"
        },
        {
          "data": {
            "text/plain": [
              "Urban    2596\n",
              "Rural    2514\n",
              "Name: Residence_type, dtype: int64"
            ]
          },
          "execution_count": 194,
          "metadata": {},
          "output_type": "execute_result"
        },
        {
          "data": {
            "text/plain": [
              "never smoked       1892\n",
              "Unknown            1544\n",
              "formerly smoked     885\n",
              "smokes              789\n",
              "Name: smoking_status, dtype: int64"
            ]
          },
          "execution_count": 194,
          "metadata": {},
          "output_type": "execute_result"
        }
      ],
      "source": [
        "dados['gender'].value_counts() \n",
        "dados['ever_married'].value_counts()\n",
        "dados['work_type'].value_counts()\n",
        "dados['Residence_type'].value_counts()\n",
        "dados['smoking_status'].value_counts()"
      ]
    },
    {
      "cell_type": "code",
      "execution_count": 195,
      "metadata": {},
      "outputs": [
        {
          "data": {
            "text/html": [
              "<div>\n",
              "<style scoped>\n",
              "    .dataframe tbody tr th:only-of-type {\n",
              "        vertical-align: middle;\n",
              "    }\n",
              "\n",
              "    .dataframe tbody tr th {\n",
              "        vertical-align: top;\n",
              "    }\n",
              "\n",
              "    .dataframe thead th {\n",
              "        text-align: right;\n",
              "    }\n",
              "</style>\n",
              "<table border=\"1\" class=\"dataframe\">\n",
              "  <thead>\n",
              "    <tr style=\"text-align: right;\">\n",
              "      <th></th>\n",
              "      <th>hypertension</th>\n",
              "      <th>heart_disease</th>\n",
              "      <th>stroke</th>\n",
              "    </tr>\n",
              "  </thead>\n",
              "  <tbody>\n",
              "    <tr>\n",
              "      <th>0</th>\n",
              "      <td>4612</td>\n",
              "      <td>4834</td>\n",
              "      <td>4861</td>\n",
              "    </tr>\n",
              "    <tr>\n",
              "      <th>1</th>\n",
              "      <td>498</td>\n",
              "      <td>276</td>\n",
              "      <td>249</td>\n",
              "    </tr>\n",
              "  </tbody>\n",
              "</table>\n",
              "</div>"
            ],
            "text/plain": [
              "   hypertension  heart_disease  stroke\n",
              "0          4612           4834    4861\n",
              "1           498            276     249"
            ]
          },
          "execution_count": 195,
          "metadata": {},
          "output_type": "execute_result"
        }
      ],
      "source": [
        "dados[['hypertension', 'heart_disease','stroke']].apply(pd.Series.value_counts)"
      ]
    },
    {
      "cell_type": "code",
      "execution_count": 196,
      "metadata": {},
      "outputs": [
        {
          "data": {
            "text/plain": [
              "(40, 12)"
            ]
          },
          "execution_count": 196,
          "metadata": {},
          "output_type": "execute_result"
        }
      ],
      "source": [
        "dados[(dados['bmi'].isnull()) & (dados['stroke']==1)].shape"
      ]
    },
    {
      "cell_type": "code",
      "execution_count": 197,
      "metadata": {},
      "outputs": [
        {
          "data": {
            "text/plain": [
              "(249, 12)"
            ]
          },
          "execution_count": 197,
          "metadata": {},
          "output_type": "execute_result"
        }
      ],
      "source": [
        "dados[(dados['stroke']==1)].shape"
      ]
    },
    {
      "cell_type": "markdown",
      "metadata": {},
      "source": [
        "### Iremos retirar as instâncias que apresentam valores nulos para bmi (IMC). Futuramente, iremos comparar se caso esse atributo for inputado, o classificador apresentará uma melhor performance."
      ]
    },
    {
      "cell_type": "code",
      "execution_count": 198,
      "metadata": {},
      "outputs": [],
      "source": [
        "dados.dropna(inplace = True)"
      ]
    },
    {
      "cell_type": "code",
      "execution_count": 199,
      "metadata": {},
      "outputs": [
        {
          "data": {
            "text/html": [
              "<div>\n",
              "<style scoped>\n",
              "    .dataframe tbody tr th:only-of-type {\n",
              "        vertical-align: middle;\n",
              "    }\n",
              "\n",
              "    .dataframe tbody tr th {\n",
              "        vertical-align: top;\n",
              "    }\n",
              "\n",
              "    .dataframe thead th {\n",
              "        text-align: right;\n",
              "    }\n",
              "</style>\n",
              "<table border=\"1\" class=\"dataframe\">\n",
              "  <thead>\n",
              "    <tr style=\"text-align: right;\">\n",
              "      <th></th>\n",
              "      <th>id</th>\n",
              "      <th>gender</th>\n",
              "      <th>age</th>\n",
              "      <th>hypertension</th>\n",
              "      <th>heart_disease</th>\n",
              "      <th>ever_married</th>\n",
              "      <th>work_type</th>\n",
              "      <th>Residence_type</th>\n",
              "      <th>avg_glucose_level</th>\n",
              "      <th>bmi</th>\n",
              "      <th>smoking_status</th>\n",
              "      <th>stroke</th>\n",
              "    </tr>\n",
              "  </thead>\n",
              "  <tbody>\n",
              "  </tbody>\n",
              "</table>\n",
              "</div>"
            ],
            "text/plain": [
              "Empty DataFrame\n",
              "Columns: [id, gender, age, hypertension, heart_disease, ever_married, work_type, Residence_type, avg_glucose_level, bmi, smoking_status, stroke]\n",
              "Index: []"
            ]
          },
          "execution_count": 199,
          "metadata": {},
          "output_type": "execute_result"
        }
      ],
      "source": [
        "dados[dados.duplicated()]"
      ]
    },
    {
      "cell_type": "code",
      "execution_count": 200,
      "metadata": {},
      "outputs": [
        {
          "data": {
            "text/plain": [
              "(29, 12)"
            ]
          },
          "execution_count": 200,
          "metadata": {},
          "output_type": "execute_result"
        }
      ],
      "source": [
        "dados[ ( dados['smoking_status']==\"Unknown\" ) & ( dados['stroke']==1 ) ].shape"
      ]
    },
    {
      "cell_type": "code",
      "execution_count": 201,
      "metadata": {},
      "outputs": [],
      "source": [
        "dados = dados[dados['smoking_status']!=\"Unknown\"]"
      ]
    },
    {
      "cell_type": "code",
      "execution_count": 202,
      "metadata": {},
      "outputs": [],
      "source": [
        "dados = dados[dados['gender']!=\"Other\"]"
      ]
    },
    {
      "cell_type": "markdown",
      "metadata": {},
      "source": [
        "Número final de instâncias\n"
      ]
    },
    {
      "cell_type": "code",
      "execution_count": 203,
      "metadata": {},
      "outputs": [
        {
          "data": {
            "text/plain": [
              "3425"
            ]
          },
          "execution_count": 203,
          "metadata": {},
          "output_type": "execute_result"
        }
      ],
      "source": [
        "dados.shape[0]"
      ]
    },
    {
      "cell_type": "markdown",
      "metadata": {},
      "source": [
        "## Discretizando variáveis contínuas"
      ]
    },
    {
      "cell_type": "code",
      "execution_count": 204,
      "metadata": {},
      "outputs": [],
      "source": [
        "dados['faixaIdade'] = pd.cut(dados['age'], [0, 10, 25, 50, 75, 90])\n",
        "dados['faixaIMC'] = pd.cut(dados['bmi'], [0, 18.5, 25, 30, 40, 100])\n",
        "#https://www.euro.who.int/en/health-topics/disease-prevention/nutrition/a-healthy-lifestyle/body-mass-index-bmi\n",
        "dados['faixaGlicose'] = pd.cut(dados['avg_glucose_level'], [0, 70, 100, 125, 300])\n",
        "#https://www.who.int/data/gho/indicator-metadata-registry/imr-details/2380\n",
        "dados['faixaIdade'] = dados['faixaIdade'].astype('category')\n",
        "dados['faixaIMC'] = dados['faixaIMC'].astype('category')\n",
        "dados['faixaGlicose'] = dados['faixaGlicose'].astype('category')\n"
      ]
    },
    {
      "cell_type": "markdown",
      "metadata": {},
      "source": [
        "# Análise"
      ]
    },
    {
      "cell_type": "markdown",
      "metadata": {},
      "source": [
        "Verificando distribuição dos atributos"
      ]
    },
    {
      "cell_type": "code",
      "execution_count": 205,
      "metadata": {},
      "outputs": [
        {
          "data": {
            "text/html": [
              "<div>\n",
              "<style scoped>\n",
              "    .dataframe tbody tr th:only-of-type {\n",
              "        vertical-align: middle;\n",
              "    }\n",
              "\n",
              "    .dataframe tbody tr th {\n",
              "        vertical-align: top;\n",
              "    }\n",
              "\n",
              "    .dataframe thead th {\n",
              "        text-align: right;\n",
              "    }\n",
              "</style>\n",
              "<table border=\"1\" class=\"dataframe\">\n",
              "  <thead>\n",
              "    <tr style=\"text-align: right;\">\n",
              "      <th></th>\n",
              "      <th>hypertension</th>\n",
              "      <th>heart_disease</th>\n",
              "      <th>stroke</th>\n",
              "    </tr>\n",
              "  </thead>\n",
              "  <tbody>\n",
              "    <tr>\n",
              "      <th>0</th>\n",
              "      <td>3017</td>\n",
              "      <td>3219</td>\n",
              "      <td>3245</td>\n",
              "    </tr>\n",
              "    <tr>\n",
              "      <th>1</th>\n",
              "      <td>408</td>\n",
              "      <td>206</td>\n",
              "      <td>180</td>\n",
              "    </tr>\n",
              "  </tbody>\n",
              "</table>\n",
              "</div>"
            ],
            "text/plain": [
              "   hypertension  heart_disease  stroke\n",
              "0          3017           3219    3245\n",
              "1           408            206     180"
            ]
          },
          "execution_count": 205,
          "metadata": {},
          "output_type": "execute_result"
        }
      ],
      "source": [
        "dados[['hypertension', 'heart_disease','stroke']].apply(pd.Series.value_counts)"
      ]
    },
    {
      "cell_type": "code",
      "execution_count": 206,
      "metadata": {},
      "outputs": [
        {
          "data": {
            "text/plain": [
              "Yes    2599\n",
              "No      826\n",
              "Name: ever_married, dtype: int64"
            ]
          },
          "execution_count": 206,
          "metadata": {},
          "output_type": "execute_result"
        },
        {
          "data": {
            "text/plain": [
              "(50, 75]    1304\n",
              "(25, 50]    1299\n",
              "(10, 25]     469\n",
              "(75, 90]     344\n",
              "(0, 10]        9\n",
              "Name: faixaIdade, dtype: int64"
            ]
          },
          "execution_count": 206,
          "metadata": {},
          "output_type": "execute_result"
        },
        {
          "data": {
            "text/plain": [
              "(30.0, 40.0]     1186\n",
              "(25.0, 30.0]     1093\n",
              "(18.5, 25.0]      764\n",
              "(40.0, 100.0]     330\n",
              "(0.0, 18.5]        52\n",
              "Name: faixaIMC, dtype: int64"
            ]
          },
          "execution_count": 206,
          "metadata": {},
          "output_type": "execute_result"
        },
        {
          "data": {
            "text/plain": [
              "(70, 100]     1550\n",
              "(125, 300]     725\n",
              "(100, 125]     642\n",
              "(0, 70]        508\n",
              "Name: faixaGlicose, dtype: int64"
            ]
          },
          "execution_count": 206,
          "metadata": {},
          "output_type": "execute_result"
        },
        {
          "data": {
            "text/plain": [
              "Female    2086\n",
              "Male      1339\n",
              "Other        0\n",
              "Name: gender, dtype: int64"
            ]
          },
          "execution_count": 206,
          "metadata": {},
          "output_type": "execute_result"
        },
        {
          "data": {
            "text/plain": [
              "0    3219\n",
              "1     206\n",
              "Name: heart_disease, dtype: int64"
            ]
          },
          "execution_count": 206,
          "metadata": {},
          "output_type": "execute_result"
        },
        {
          "data": {
            "text/plain": [
              "0    3017\n",
              "1     408\n",
              "Name: hypertension, dtype: int64"
            ]
          },
          "execution_count": 206,
          "metadata": {},
          "output_type": "execute_result"
        },
        {
          "data": {
            "text/plain": [
              "Urban    1745\n",
              "Rural    1680\n",
              "Name: Residence_type, dtype: int64"
            ]
          },
          "execution_count": 206,
          "metadata": {},
          "output_type": "execute_result"
        },
        {
          "data": {
            "text/plain": [
              "never smoked       1852\n",
              "formerly smoked     836\n",
              "smokes              737\n",
              "Unknown               0\n",
              "Name: smoking_status, dtype: int64"
            ]
          },
          "execution_count": 206,
          "metadata": {},
          "output_type": "execute_result"
        },
        {
          "data": {
            "text/plain": [
              "0    3245\n",
              "1     180\n",
              "Name: stroke, dtype: int64"
            ]
          },
          "execution_count": 206,
          "metadata": {},
          "output_type": "execute_result"
        },
        {
          "data": {
            "text/plain": [
              "Private          2200\n",
              "Self-employed     629\n",
              "Govt_job          514\n",
              "children           68\n",
              "Never_worked       14\n",
              "Name: work_type, dtype: int64"
            ]
          },
          "execution_count": 206,
          "metadata": {},
          "output_type": "execute_result"
        }
      ],
      "source": [
        "dados['ever_married'].value_counts()\n",
        "dados['faixaIdade'].value_counts()\n",
        "dados['faixaIMC'].value_counts()\n",
        "dados['faixaGlicose'].value_counts()\n",
        "dados['gender'].value_counts() \n",
        "dados['heart_disease'].value_counts()\n",
        "dados['hypertension'].value_counts()\n",
        "dados['Residence_type'].value_counts()\n",
        "dados['smoking_status'].value_counts()\n",
        "dados['stroke'].value_counts()\n",
        "dados['work_type'].value_counts()\n"
      ]
    },
    {
      "cell_type": "code",
      "execution_count": 207,
      "metadata": {},
      "outputs": [
        {
          "data": {
            "text/plain": [
              "0.052554744525547446"
            ]
          },
          "execution_count": 207,
          "metadata": {},
          "output_type": "execute_result"
        }
      ],
      "source": [
        "len(dados[dados.stroke == 1])/len(dados)"
      ]
    },
    {
      "cell_type": "code",
      "execution_count": 208,
      "metadata": {},
      "outputs": [
        {
          "data": {
            "text/plain": [
              "[Text(0.5, 0, 'Idade'),\n",
              " Text(0, 0.5, 'Número de pessoas'),\n",
              " Text(0.5, 1.0, 'Distribuição de idades')]"
            ]
          },
          "execution_count": 208,
          "metadata": {},
          "output_type": "execute_result"
        },
        {
          "data": {
            "text/plain": [
              "[Text(0.5, 0, 'Nível médio de glicose (mg/dL)'),\n",
              " Text(0, 0.5, 'Número de pessoas'),\n",
              " Text(0.5, 1.0, 'Distribuição do nível médio de glicose')]"
            ]
          },
          "execution_count": 208,
          "metadata": {},
          "output_type": "execute_result"
        },
        {
          "data": {
            "text/plain": [
              "[Text(0.5, 0, 'IMC (kg/m²)'),\n",
              " Text(0, 0.5, 'Número de pessoas'),\n",
              " Text(0.5, 1.0, 'Distribuição do IMC')]"
            ]
          },
          "execution_count": 208,
          "metadata": {},
          "output_type": "execute_result"
        },
        {
          "data": {
            "image/png": "[encoded data removed]",
            "text/plain": [
              "<Figure size 1440x360 with 3 Axes>"
            ]
          },
          "metadata": {
            "needs_background": "light"
          },
          "output_type": "display_data"
        }
      ],
      "source": [
        "corGraficos = sns.color_palette(\"husl\", 5)[3]\n",
        "fig, axes = plt.subplots(1, 3, figsize=(20, 5), sharey=False)\n",
        "vis1 = sns.histplot(ax = axes[0], data=dados, x=\"age\", color=corGraficos)\n",
        "vis1.set(xlabel='Idade', ylabel='Número de pessoas', title = \"Distribuição de idades\")\n",
        "vis2 = sns.histplot(ax=axes[2], data=dados, x=\"avg_glucose_level\", color=corGraficos)\n",
        "vis2.set(xlabel='Nível médio de glicose (mg/dL)', ylabel='Número de pessoas', title = \"Distribuição do nível médio de glicose\")\n",
        "vis3 = sns.histplot(ax = axes[1],data=dados, x=\"bmi\", color=corGraficos)\n",
        "vis3.set(xlabel='IMC (kg/m²)', ylabel='Número de pessoas', title = \"Distribuição do IMC\")"
      ]
    },
    {
      "cell_type": "code",
      "execution_count": 209,
      "metadata": {},
      "outputs": [
        {
          "data": {
            "text/plain": [
              "Text(0.5, 0.98, 'Frequência de atributos de pessoas sem AVC')"
            ]
          },
          "execution_count": 209,
          "metadata": {},
          "output_type": "execute_result"
        },
        {
          "data": {
            "text/plain": [
              "<AxesSubplot:xlabel='heart_disease', ylabel='count'>"
            ]
          },
          "execution_count": 209,
          "metadata": {},
          "output_type": "execute_result"
        },
        {
          "data": {
            "text/plain": [
              "Text(0, 0.5, 'Número de Pessoas')"
            ]
          },
          "execution_count": 209,
          "metadata": {},
          "output_type": "execute_result"
        },
        {
          "data": {
            "text/plain": [
              "Text(0.5, 0, 'Doença do coração')"
            ]
          },
          "execution_count": 209,
          "metadata": {},
          "output_type": "execute_result"
        },
        {
          "data": {
            "text/plain": [
              "[Text(0, 0, 'Não'), Text(1, 0, 'Sim')]"
            ]
          },
          "execution_count": 209,
          "metadata": {},
          "output_type": "execute_result"
        },
        {
          "data": {
            "text/plain": [
              "<AxesSubplot:xlabel='hypertension', ylabel='count'>"
            ]
          },
          "execution_count": 209,
          "metadata": {},
          "output_type": "execute_result"
        },
        {
          "data": {
            "text/plain": [
              "Text(0, 0.5, 'Número de Pessoas')"
            ]
          },
          "execution_count": 209,
          "metadata": {},
          "output_type": "execute_result"
        },
        {
          "data": {
            "text/plain": [
              "Text(0.5, 0, 'Hipertensão')"
            ]
          },
          "execution_count": 209,
          "metadata": {},
          "output_type": "execute_result"
        },
        {
          "data": {
            "text/plain": [
              "[Text(0, 0, 'Não'), Text(1, 0, 'Sim')]"
            ]
          },
          "execution_count": 209,
          "metadata": {},
          "output_type": "execute_result"
        },
        {
          "data": {
            "text/plain": [
              "<AxesSubplot:xlabel='faixaIdade', ylabel='count'>"
            ]
          },
          "execution_count": 209,
          "metadata": {},
          "output_type": "execute_result"
        },
        {
          "data": {
            "text/plain": [
              "Text(0, 0.5, 'Número de Pessoas')"
            ]
          },
          "execution_count": 209,
          "metadata": {},
          "output_type": "execute_result"
        },
        {
          "data": {
            "text/plain": [
              "Text(0.5, 0, 'Faixas de idade')"
            ]
          },
          "execution_count": 209,
          "metadata": {},
          "output_type": "execute_result"
        },
        {
          "data": {
            "text/plain": [
              "<AxesSubplot:xlabel='faixaGlicose', ylabel='count'>"
            ]
          },
          "execution_count": 209,
          "metadata": {},
          "output_type": "execute_result"
        },
        {
          "data": {
            "text/plain": [
              "Text(0, 0.5, 'Número de Pessoas')"
            ]
          },
          "execution_count": 209,
          "metadata": {},
          "output_type": "execute_result"
        },
        {
          "data": {
            "text/plain": [
              "Text(0.5, 0, 'Faixas de glicose')"
            ]
          },
          "execution_count": 209,
          "metadata": {},
          "output_type": "execute_result"
        },
        {
          "data": {
            "image/png": "[encoded data removed]",
            "text/plain": [
              "<Figure size 1008x720 with 4 Axes>"
            ]
          },
          "metadata": {
            "needs_background": "light"
          },
          "output_type": "display_data"
        }
      ],
      "source": [
        "fig, axes = plt.subplots(2, 2, figsize=(14, 10), sharey=False)\n",
        "plt.subplots_adjust(hspace = .4)\n",
        "fig.suptitle(\"Frequência de atributos de pessoas sem AVC\", fontsize=20)\n",
        "\n",
        "sns.countplot(ax=axes[0,0], x=\"heart_disease\", data=dados[dados['stroke']==0])\n",
        "axes[0,0].tick_params(rotation=90, axis='x')\n",
        "axes[0,0].set_ylabel('Número de Pessoas')\n",
        "axes[0,0].set_xlabel('Doença do coração')\n",
        "axes[0,0].set_xticklabels([\"Não\", \"Sim\"])\n",
        "\n",
        "sns.countplot(ax=axes[0,1], x=\"hypertension\", data=dados[dados['stroke']==0])\n",
        "axes[0,1].tick_params(rotation=90, axis='x')\n",
        "axes[0,1].set_ylabel('Número de Pessoas')\n",
        "axes[0,1].set_xlabel('Hipertensão')\n",
        "axes[0,1].set_xticklabels([\"Não\", \"Sim\"])\n",
        "\n",
        "sns.countplot(ax=axes[1,0], x=\"faixaIdade\", data=dados[dados['stroke']==0])\n",
        "axes[1,0].tick_params(rotation=90, axis='x')\n",
        "axes[1,0].set_ylabel('Número de Pessoas')\n",
        "axes[1,0].set_xlabel('Faixas de idade')\n",
        "\n",
        "sns.countplot(ax=axes[1,1], x=\"faixaGlicose\", data=dados[dados['stroke']==0])\n",
        "axes[1,1].tick_params(rotation=90, axis='x')\n",
        "axes[1,1].set_ylabel('Número de Pessoas')\n",
        "axes[1,1].set_xlabel('Faixas de glicose')"
      ]
    },
    {
      "cell_type": "code",
      "execution_count": 210,
      "metadata": {},
      "outputs": [
        {
          "data": {
            "text/plain": [
              "Text(0.5, 0.98, 'Frequência de atributos de pessoas com AVC')"
            ]
          },
          "execution_count": 210,
          "metadata": {},
          "output_type": "execute_result"
        },
        {
          "data": {
            "text/plain": [
              "<AxesSubplot:xlabel='heart_disease', ylabel='count'>"
            ]
          },
          "execution_count": 210,
          "metadata": {},
          "output_type": "execute_result"
        },
        {
          "data": {
            "text/plain": [
              "Text(0, 0.5, 'Número de Pessoas')"
            ]
          },
          "execution_count": 210,
          "metadata": {},
          "output_type": "execute_result"
        },
        {
          "data": {
            "text/plain": [
              "Text(0.5, 0, 'Doença do coração')"
            ]
          },
          "execution_count": 210,
          "metadata": {},
          "output_type": "execute_result"
        },
        {
          "data": {
            "text/plain": [
              "[Text(0, 0, 'Não'), Text(1, 0, 'Sim')]"
            ]
          },
          "execution_count": 210,
          "metadata": {},
          "output_type": "execute_result"
        },
        {
          "data": {
            "text/plain": [
              "<AxesSubplot:xlabel='hypertension', ylabel='count'>"
            ]
          },
          "execution_count": 210,
          "metadata": {},
          "output_type": "execute_result"
        },
        {
          "data": {
            "text/plain": [
              "Text(0, 0.5, 'Número de Pessoas')"
            ]
          },
          "execution_count": 210,
          "metadata": {},
          "output_type": "execute_result"
        },
        {
          "data": {
            "text/plain": [
              "Text(0.5, 0, 'Hipertensão')"
            ]
          },
          "execution_count": 210,
          "metadata": {},
          "output_type": "execute_result"
        },
        {
          "data": {
            "text/plain": [
              "[Text(0, 0, 'Não'), Text(1, 0, 'Sim')]"
            ]
          },
          "execution_count": 210,
          "metadata": {},
          "output_type": "execute_result"
        },
        {
          "data": {
            "text/plain": [
              "<AxesSubplot:xlabel='faixaIdade', ylabel='count'>"
            ]
          },
          "execution_count": 210,
          "metadata": {},
          "output_type": "execute_result"
        },
        {
          "data": {
            "text/plain": [
              "Text(0, 0.5, 'Número de Pessoas')"
            ]
          },
          "execution_count": 210,
          "metadata": {},
          "output_type": "execute_result"
        },
        {
          "data": {
            "text/plain": [
              "Text(0.5, 0, 'Faixas de idade')"
            ]
          },
          "execution_count": 210,
          "metadata": {},
          "output_type": "execute_result"
        },
        {
          "data": {
            "text/plain": [
              "<AxesSubplot:xlabel='faixaGlicose', ylabel='count'>"
            ]
          },
          "execution_count": 210,
          "metadata": {},
          "output_type": "execute_result"
        },
        {
          "data": {
            "text/plain": [
              "Text(0, 0.5, 'Número de Pessoas')"
            ]
          },
          "execution_count": 210,
          "metadata": {},
          "output_type": "execute_result"
        },
        {
          "data": {
            "text/plain": [
              "Text(0.5, 0, 'Faixas de glicose')"
            ]
          },
          "execution_count": 210,
          "metadata": {},
          "output_type": "execute_result"
        },
        {
          "data": {
            "image/png": "[encoded data removed]",
            "text/plain": [
              "<Figure size 1008x720 with 4 Axes>"
            ]
          },
          "metadata": {
            "needs_background": "light"
          },
          "output_type": "display_data"
        }
      ],
      "source": [
        "fig, axes = plt.subplots(2, 2, figsize=(14, 10), sharey=False)\n",
        "plt.subplots_adjust(hspace = .4)\n",
        "fig.suptitle(\"Frequência de atributos de pessoas com AVC\", fontsize=20)\n",
        "\n",
        "sns.countplot(ax=axes[0,0], x=\"heart_disease\", data=dados[dados['stroke']==1])\n",
        "axes[0,0].tick_params(rotation=90, axis='x')\n",
        "axes[0,0].set_ylabel('Número de Pessoas')\n",
        "axes[0,0].set_xlabel('Doença do coração')\n",
        "axes[0,0].set_xticklabels([\"Não\", \"Sim\"])\n",
        "\n",
        "sns.countplot(ax=axes[0,1], x=\"hypertension\", data=dados[dados['stroke']==1])\n",
        "axes[0,1].tick_params(rotation=90, axis='x')\n",
        "axes[0,1].set_ylabel('Número de Pessoas')\n",
        "axes[0,1].set_xlabel('Hipertensão')\n",
        "axes[0,1].set_xticklabels([\"Não\", \"Sim\"])\n",
        "\n",
        "sns.countplot(ax=axes[1,0], x=\"faixaIdade\", data=dados[dados['stroke']==1])\n",
        "axes[1,0].tick_params(rotation=90, axis='x')\n",
        "axes[1,0].set_ylabel('Número de Pessoas')\n",
        "axes[1,0].set_xlabel('Faixas de idade')\n",
        "\n",
        "sns.countplot(ax=axes[1,1], x=\"faixaGlicose\", data=dados[dados['stroke']==1])\n",
        "axes[1,1].tick_params(rotation=90, axis='x')\n",
        "axes[1,1].set_ylabel('Número de Pessoas')\n",
        "axes[1,1].set_xlabel('Faixas de glicose')"
      ]
    },
    {
      "cell_type": "code",
      "execution_count": 211,
      "metadata": {},
      "outputs": [
        {
          "data": {
            "text/plain": [
              "Text(0.5, 1.0, 'Matriz de Correlação de Pearson')"
            ]
          },
          "execution_count": 211,
          "metadata": {},
          "output_type": "execute_result"
        },
        {
          "data": {
            "image/png": "[encoded data removed]",
            "text/plain": [
              "<Figure size 432x288 with 2 Axes>"
            ]
          },
          "metadata": {
            "needs_background": "light"
          },
          "output_type": "display_data"
        }
      ],
      "source": [
        "correlation_mat = dados.drop(columns = \"id\").corr()\n",
        "\n",
        "vis4 = sns.heatmap(correlation_mat, annot = True)\n",
        "vis4.set_title(\"Matriz de Correlação de Pearson\")\n",
        "\n",
        "plt.show()"
      ]
    },
    {
      "cell_type": "code",
      "execution_count": 212,
      "metadata": {},
      "outputs": [
        {
          "name": "stdout",
          "output_type": "stream",
          "text": [
            "gender 0.5169941898164226\n",
            "hypertension 1.158585663228229e-16\n",
            "heart_disease 1.915166158182386e-15\n",
            "ever_married 4.114765555930653e-05\n",
            "work_type 0.012797151633768608\n",
            "smoking_status 0.049062271297848944\n",
            "Residence_type 0.7837084243991301\n",
            "faixaIdade 8.74754958846977e-48\n",
            "faixaIMC 0.3078160316983966\n",
            "faixaGlicose 1.277924947059737e-11\n"
          ]
        }
      ],
      "source": [
        "varCategoricas = ['gender', 'hypertension', 'heart_disease', 'ever_married', 'work_type', 'smoking_status', 'Residence_type', 'faixaIdade', 'faixaIMC', 'faixaGlicose']\n",
        "\n",
        "pvalores = []\n",
        "\n",
        "for variavel in varCategoricas:\n",
        "    crosstab = pd.crosstab(dados[\"stroke\"], dados[variavel])\n",
        "    pvalor = stats.chi2_contingency(crosstab)[1]\n",
        "    pvalores.append(pvalor)\n",
        "    print(variavel, pvalor)"
      ]
    },
    {
      "cell_type": "markdown",
      "metadata": {
        "id": "yYx_yZ-msOp0"
      },
      "source": [
        "# Classificador Naive Bayes"
      ]
    },
    {
      "cell_type": "markdown",
      "metadata": {},
      "source": [
        "## Com scikit"
      ]
    },
    {
      "cell_type": "markdown",
      "metadata": {},
      "source": [
        "Separando em dados de treinamento e teste"
      ]
    },
    {
      "cell_type": "code",
      "execution_count": 213,
      "metadata": {},
      "outputs": [],
      "source": [
        "X = dados.drop(columns='stroke')\n",
        "\n",
        "y = dados['stroke']\n",
        "\n",
        "X_train, X_test, y_train, y_test = train_test_split(X, y, test_size=0.3, random_state=42)\n",
        "\n"
      ]
    },
    {
      "cell_type": "markdown",
      "metadata": {},
      "source": [
        "Codificando as variáveis"
      ]
    },
    {
      "cell_type": "code",
      "execution_count": 214,
      "metadata": {},
      "outputs": [],
      "source": [
        "X_trainNB = X_train\n",
        "X_testNB = X_test"
      ]
    },
    {
      "cell_type": "code",
      "execution_count": 215,
      "metadata": {},
      "outputs": [],
      "source": [
        "cat_columns = X_trainNB.select_dtypes(['category']).columns\n",
        "X_trainNB[cat_columns] = X_trainNB[cat_columns].apply(lambda x: x.cat.codes)\n",
        "\n",
        "cat_columns = X_testNB.select_dtypes(['category']).columns\n",
        "X_testNB[cat_columns] = X_testNB[cat_columns].apply(lambda x: x.cat.codes)\n",
        "\n",
        "X_trainNB = X_trainNB.drop(columns=[\"age\", \"bmi\", \"avg_glucose_level\", \"id\"])\n",
        "X_testNB = X_testNB.drop(columns=[\"age\", \"bmi\", \"avg_glucose_level\", \"id\"])\n"
      ]
    },
    {
      "cell_type": "code",
      "execution_count": 216,
      "metadata": {},
      "outputs": [
        {
          "data": {
            "text/plain": [
              "CategoricalNB(alpha=1)"
            ]
          },
          "execution_count": 216,
          "metadata": {},
          "output_type": "execute_result"
        },
        {
          "data": {
            "text/plain": [
              "array([[9.74888173e-01, 2.51118271e-02],\n",
              "       [9.57908017e-01, 4.20919833e-02],\n",
              "       [9.29867976e-01, 7.01320238e-02],\n",
              "       ...,\n",
              "       [8.70348123e-01, 1.29651877e-01],\n",
              "       [9.99166819e-01, 8.33181111e-04],\n",
              "       [9.93550315e-01, 6.44968529e-03]])"
            ]
          },
          "execution_count": 216,
          "metadata": {},
          "output_type": "execute_result"
        }
      ],
      "source": [
        "ctgrclNB = CategoricalNB(alpha=1)\n",
        "ctgrclNB.fit(X_trainNB, y_train)\n",
        "ctgrclNB.predict_proba(np.array(X_testNB))"
      ]
    },
    {
      "cell_type": "code",
      "execution_count": 217,
      "metadata": {},
      "outputs": [],
      "source": [
        "y_pred = ctgrclNB.predict(np.array(X_testNB))"
      ]
    },
    {
      "cell_type": "markdown",
      "metadata": {},
      "source": [
        "### Métricas"
      ]
    },
    {
      "cell_type": "code",
      "execution_count": 218,
      "metadata": {},
      "outputs": [
        {
          "data": {
            "text/plain": [
              "array([0.9592668 , 0.13043478])"
            ]
          },
          "execution_count": 218,
          "metadata": {},
          "output_type": "execute_result"
        }
      ],
      "source": [
        "f1_score(y_test, y_pred, average=None)"
      ]
    },
    {
      "cell_type": "code",
      "execution_count": 219,
      "metadata": {},
      "outputs": [
        {
          "data": {
            "text/plain": [
              "array([[942,  27],\n",
              "       [ 53,   6]], dtype=int64)"
            ]
          },
          "execution_count": 219,
          "metadata": {},
          "output_type": "execute_result"
        }
      ],
      "source": [
        "confusion_matrix(y_test, y_pred) #tn, fp, fn, tp"
      ]
    },
    {
      "cell_type": "code",
      "execution_count": 220,
      "metadata": {},
      "outputs": [
        {
          "name": "stdout",
          "output_type": "stream",
          "text": [
            "              precision    recall  f1-score   support\n",
            "\n",
            "   no stroke       0.95      0.97      0.96       969\n",
            "      stroke       0.18      0.10      0.13        59\n",
            "\n",
            "    accuracy                           0.92      1028\n",
            "   macro avg       0.56      0.54      0.54      1028\n",
            "weighted avg       0.90      0.92      0.91      1028\n",
            "\n"
          ]
        }
      ],
      "source": [
        "target_names = ['no stroke', 'stroke']\n",
        "print(classification_report(y_test, y_pred, target_names=target_names))"
      ]
    },
    {
      "cell_type": "markdown",
      "metadata": {},
      "source": [
        "## Sem scikit"
      ]
    },
    {
      "cell_type": "code",
      "execution_count": 221,
      "metadata": {},
      "outputs": [],
      "source": [
        "trainNB = X_trainNB\n",
        "trainNB['stroke'] = y_train\n",
        "#trainNB.head()"
      ]
    },
    {
      "cell_type": "code",
      "execution_count": 222,
      "metadata": {},
      "outputs": [],
      "source": [
        "def calculoProbCond(entradaTestar, conjuntoTreino):\n",
        "    \n",
        "    arrayProbabilidades = [[],[]]\n",
        "    for nomeColuna in conjuntoTreino.columns: #exceto stroke?\n",
        "\n",
        "        if nomeColuna!=\"stroke\":   \n",
        "            valorTestar = entradaTestar[nomeColuna] #Ver se precisa passar o valor da linha (0)\n",
        " \n",
        "            atributoNao = len(conjuntoTreino[(conjuntoTreino[nomeColuna]==valorTestar)&(conjuntoTreino['stroke']==0)]) / len(conjuntoTreino[conjuntoTreino['stroke']==0])\n",
        "            atributoSim = len(conjuntoTreino[(conjuntoTreino[nomeColuna]==valorTestar)&(conjuntoTreino['stroke']==1)]) / len(conjuntoTreino[conjuntoTreino['stroke']==1])\n",
        "\n",
        "            arrayProbabilidades[0].append(atributoNao)\n",
        "            arrayProbabilidades[1].append(atributoSim)\n",
        "\n",
        "    return arrayProbabilidades\n",
        "\n",
        "\n"
      ]
    },
    {
      "cell_type": "code",
      "execution_count": 223,
      "metadata": {},
      "outputs": [],
      "source": [
        "def calculoProbabilidadePred(listaProbabilidades, conjuntoTreino):\n",
        "\n",
        "    Likelihood0 = np.prod(listaProbabilidades[0])\n",
        "    Likelihood1 = np.prod(listaProbabilidades[1])\n",
        "\n",
        "    ProbStroke0 = len(conjuntoTreino[conjuntoTreino['stroke']==0])/len(conjuntoTreino)\n",
        "    ProbStroke1 = len(conjuntoTreino[conjuntoTreino['stroke']==1])/len(conjuntoTreino)\n",
        "\n",
        "\n",
        "    ProbTotal = (ProbStroke0*Likelihood0) + (ProbStroke1*Likelihood1)\n",
        "\n",
        "    probNao = (ProbStroke0*Likelihood0)/ProbTotal\n",
        "    probSim = (ProbStroke1*Likelihood1)/ProbTotal\n",
        "    return 0 if probNao>probSim else 1"
      ]
    },
    {
      "cell_type": "code",
      "execution_count": 224,
      "metadata": {},
      "outputs": [],
      "source": [
        "##Iterar sobre a base de teste\n",
        "def predictStroke(conjuntoTreino, conjuntoTeste) :\n",
        "\n",
        "    arrayPred = []\n",
        "    for index, linha in conjuntoTeste.iterrows():\n",
        "        resposta = calculoProbCond(linha, conjuntoTreino)\n",
        "        predicao = calculoProbabilidadePred(resposta, conjuntoTreino)\n",
        "        arrayPred.append(predicao)\n",
        "   \n",
        "    return arrayPred"
      ]
    },
    {
      "cell_type": "code",
      "execution_count": 225,
      "metadata": {},
      "outputs": [],
      "source": [
        "pred_Y  =  predictStroke(trainNB, X_test)\n"
      ]
    },
    {
      "cell_type": "markdown",
      "metadata": {},
      "source": [
        "### Métricas"
      ]
    },
    {
      "cell_type": "code",
      "execution_count": 226,
      "metadata": {},
      "outputs": [
        {
          "data": {
            "text/plain": [
              "0.9221789883268483"
            ]
          },
          "execution_count": 226,
          "metadata": {},
          "output_type": "execute_result"
        }
      ],
      "source": [
        "accuracy_score(y_test, pred_Y)"
      ]
    },
    {
      "cell_type": "code",
      "execution_count": 227,
      "metadata": {},
      "outputs": [
        {
          "data": {
            "text/plain": [
              "array([0.9592668 , 0.13043478])"
            ]
          },
          "execution_count": 227,
          "metadata": {},
          "output_type": "execute_result"
        }
      ],
      "source": [
        "f1_score(y_test, pred_Y, average=None)"
      ]
    },
    {
      "cell_type": "code",
      "execution_count": 228,
      "metadata": {},
      "outputs": [
        {
          "data": {
            "text/plain": [
              "array([[942,  27],\n",
              "       [ 53,   6]], dtype=int64)"
            ]
          },
          "execution_count": 228,
          "metadata": {},
          "output_type": "execute_result"
        }
      ],
      "source": [
        "confusion_matrix(y_test, pred_Y) #tn, fp, fn, tp f1=tp/tp+1/2(fp+fn) f0=942/942+1/2(27+53) e f1=6/6+1/2(27+53)"
      ]
    },
    {
      "cell_type": "code",
      "execution_count": 229,
      "metadata": {},
      "outputs": [
        {
          "name": "stdout",
          "output_type": "stream",
          "text": [
            "              precision    recall  f1-score   support\n",
            "\n",
            "   no stroke       0.95      0.97      0.96       969\n",
            "      stroke       0.18      0.10      0.13        59\n",
            "\n",
            "    accuracy                           0.92      1028\n",
            "   macro avg       0.56      0.54      0.54      1028\n",
            "weighted avg       0.90      0.92      0.91      1028\n",
            "\n"
          ]
        }
      ],
      "source": [
        "target_names = ['no stroke', 'stroke']\n",
        "print(classification_report(y_test, pred_Y, target_names=target_names))"
      ]
    },
    {
      "cell_type": "markdown",
      "metadata": {},
      "source": [
        "## KNN"
      ]
    },
    {
      "cell_type": "code",
      "execution_count": 230,
      "metadata": {},
      "outputs": [],
      "source": [
        "X_trainKN = X_train.drop(columns = [\"faixaIdade\", \"faixaIMC\", \"faixaGlicose\", \"id\"])\n",
        "X_testKN = X_test.drop(columns = [\"faixaIdade\", \"faixaIMC\", \"faixaGlicose\", \"id\"])"
      ]
    },
    {
      "cell_type": "code",
      "execution_count": 231,
      "metadata": {},
      "outputs": [],
      "source": [
        "train_dummies = pd.get_dummies(X_trainKN[[\"work_type\", \"smoking_status\"]].astype(str))\n",
        "test_dummies = pd.get_dummies(X_testKN[[\"work_type\", \"smoking_status\"]].astype(str))"
      ]
    },
    {
      "cell_type": "code",
      "execution_count": 232,
      "metadata": {},
      "outputs": [],
      "source": [
        "X_trainKN = X_trainKN.join(train_dummies)\n",
        "X_testKN = X_testKN.join(test_dummies)"
      ]
    },
    {
      "cell_type": "code",
      "execution_count": 233,
      "metadata": {},
      "outputs": [
        {
          "data": {
            "text/plain": [
              "KNeighborsClassifier(n_neighbors=1)"
            ]
          },
          "execution_count": 233,
          "metadata": {},
          "output_type": "execute_result"
        }
      ],
      "source": [
        "knnClassifier = KNeighborsClassifier(n_neighbors=1)\n",
        "knnClassifier.fit(X_trainKN, y_train)\n",
        "pred_KN = knnClassifier.predict(X_testKN)\n"
      ]
    },
    {
      "cell_type": "markdown",
      "metadata": {},
      "source": [
        "### Métricas"
      ]
    },
    {
      "cell_type": "code",
      "execution_count": 234,
      "metadata": {},
      "outputs": [
        {
          "data": {
            "text/plain": [
              "array([0.95213587, 0.17699115])"
            ]
          },
          "execution_count": 234,
          "metadata": {},
          "output_type": "execute_result"
        }
      ],
      "source": [
        "f1_score(y_test, pred_KN, average=None)"
      ]
    },
    {
      "cell_type": "code",
      "execution_count": 235,
      "metadata": {},
      "outputs": [
        {
          "data": {
            "text/plain": [
              "0.9095330739299611"
            ]
          },
          "execution_count": 235,
          "metadata": {},
          "output_type": "execute_result"
        }
      ],
      "source": [
        "accuracy_score(y_test, pred_KN)"
      ]
    },
    {
      "cell_type": "code",
      "execution_count": 236,
      "metadata": {},
      "outputs": [
        {
          "data": {
            "text/plain": [
              "array([[925,  44],\n",
              "       [ 49,  10]], dtype=int64)"
            ]
          },
          "execution_count": 236,
          "metadata": {},
          "output_type": "execute_result"
        }
      ],
      "source": [
        "confusion_matrix(y_test, pred_KN) #tn, fp, fn, tp"
      ]
    },
    {
      "cell_type": "code",
      "execution_count": 237,
      "metadata": {},
      "outputs": [
        {
          "name": "stdout",
          "output_type": "stream",
          "text": [
            "              precision    recall  f1-score   support\n",
            "\n",
            "   no stroke       0.95      0.95      0.95       969\n",
            "      stroke       0.19      0.17      0.18        59\n",
            "\n",
            "    accuracy                           0.91      1028\n",
            "   macro avg       0.57      0.56      0.56      1028\n",
            "weighted avg       0.91      0.91      0.91      1028\n",
            "\n"
          ]
        }
      ],
      "source": [
        "target_names = ['no stroke', 'stroke']\n",
        "print(classification_report(y_test, pred_KN, target_names=target_names))"
      ]
    },
    {
      "cell_type": "markdown",
      "metadata": {},
      "source": [
        "# Experimento balanceamento (sugerido pelo professor)"
      ]
    },
    {
      "cell_type": "code",
      "execution_count": 238,
      "metadata": {},
      "outputs": [],
      "source": [
        "avcSim = dados[dados['stroke']==1]\n",
        "avcNao = dados[dados['stroke']==0]\n",
        "avcNao = avcNao.sample(frac=0.0555, replace=False, random_state=195)"
      ]
    },
    {
      "cell_type": "code",
      "execution_count": 239,
      "metadata": {},
      "outputs": [
        {
          "data": {
            "text/plain": [
              "180"
            ]
          },
          "execution_count": 239,
          "metadata": {},
          "output_type": "execute_result"
        },
        {
          "data": {
            "text/plain": [
              "180"
            ]
          },
          "execution_count": 239,
          "metadata": {},
          "output_type": "execute_result"
        }
      ],
      "source": [
        "len(avcNao)\n",
        "len(avcSim)"
      ]
    },
    {
      "cell_type": "markdown",
      "metadata": {},
      "source": [
        "Base balanceada (180 sim e 180 nao) "
      ]
    },
    {
      "cell_type": "code",
      "execution_count": 240,
      "metadata": {},
      "outputs": [],
      "source": [
        "balanceado = avcSim.append(avcNao)"
      ]
    },
    {
      "cell_type": "markdown",
      "metadata": {},
      "source": [
        "Base de validação (o que sobrou)"
      ]
    },
    {
      "cell_type": "code",
      "execution_count": 241,
      "metadata": {},
      "outputs": [],
      "source": [
        "validation = dados[~dados.index.isin(balanceado.index)]"
      ]
    },
    {
      "cell_type": "code",
      "execution_count": 242,
      "metadata": {},
      "outputs": [],
      "source": [
        "yv_testNB = validation['stroke']\n",
        "Xv_testNB = validation.drop(columns=\"stroke\")\n",
        "\n",
        "\n",
        "cat_columnsv = Xv_testNB.select_dtypes(['category']).columns\n",
        "Xv_testNB[cat_columnsv] = Xv_testNB[cat_columnsv].apply(lambda x: x.cat.codes)\n",
        "\n",
        "Xv_testNB = Xv_testNB.drop(columns=[\"age\", \"bmi\", \"avg_glucose_level\", \"id\"])"
      ]
    },
    {
      "cell_type": "code",
      "execution_count": 243,
      "metadata": {},
      "outputs": [],
      "source": [
        "Xb = balanceado.drop(columns='stroke')\n",
        "\n",
        "yb = balanceado['stroke']\n",
        "\n",
        "Xb_train, Xb_test, yb_train, yb_test = train_test_split(Xb, yb, test_size=0.3, random_state=42)\n"
      ]
    },
    {
      "cell_type": "markdown",
      "metadata": {},
      "source": [
        "## Naive Bayes (sem scikit) com dados balanceados"
      ]
    },
    {
      "cell_type": "code",
      "execution_count": 244,
      "metadata": {},
      "outputs": [],
      "source": [
        "Xb_trainNB = Xb_train\n",
        "Xb_testNB = Xb_test\n",
        "\n",
        "cat_columnsb = Xb_trainNB.select_dtypes(['category']).columns\n",
        "Xb_trainNB[cat_columnsb] = Xb_trainNB[cat_columnsb].apply(lambda x: x.cat.codes)\n",
        "\n",
        "cat_columnsb = Xb_testNB.select_dtypes(['category']).columns\n",
        "Xb_testNB[cat_columnsb] = Xb_testNB[cat_columnsb].apply(lambda x: x.cat.codes)\n",
        "\n",
        "Xb_trainNB = Xb_trainNB.drop(columns=[\"age\", \"bmi\", \"avg_glucose_level\", \"id\"])\n",
        "Xb_testNB = Xb_testNB.drop(columns=[\"age\", \"bmi\", \"avg_glucose_level\", \"id\"])"
      ]
    },
    {
      "cell_type": "code",
      "execution_count": 245,
      "metadata": {},
      "outputs": [],
      "source": [
        "btrainNB = Xb_trainNB\n",
        "btrainNB['stroke'] = yb_train"
      ]
    },
    {
      "cell_type": "code",
      "execution_count": 246,
      "metadata": {},
      "outputs": [],
      "source": [
        "predb_Y  =  predictStroke(btrainNB, Xb_test)"
      ]
    },
    {
      "cell_type": "markdown",
      "metadata": {},
      "source": [
        "### Métricas"
      ]
    },
    {
      "cell_type": "code",
      "execution_count": 247,
      "metadata": {},
      "outputs": [
        {
          "name": "stdout",
          "output_type": "stream",
          "text": [
            "              precision    recall  f1-score   support\n",
            "\n",
            "   no stroke       0.73      0.68      0.71        53\n",
            "      stroke       0.71      0.76      0.74        55\n",
            "\n",
            "    accuracy                           0.72       108\n",
            "   macro avg       0.72      0.72      0.72       108\n",
            "weighted avg       0.72      0.72      0.72       108\n",
            "\n"
          ]
        }
      ],
      "source": [
        "target_names = ['no stroke', 'stroke']\n",
        "print(classification_report(yb_test, predb_Y, target_names=target_names))"
      ]
    },
    {
      "cell_type": "code",
      "execution_count": 248,
      "metadata": {},
      "outputs": [
        {
          "data": {
            "text/plain": [
              "array([0.70588235, 0.73684211])"
            ]
          },
          "execution_count": 248,
          "metadata": {},
          "output_type": "execute_result"
        },
        {
          "data": {
            "text/plain": [
              "0.7222222222222222"
            ]
          },
          "execution_count": 248,
          "metadata": {},
          "output_type": "execute_result"
        }
      ],
      "source": [
        "f1_score(yb_test, predb_Y, average=None)\n",
        "accuracy_score(yb_test, predb_Y)"
      ]
    },
    {
      "cell_type": "code",
      "execution_count": 249,
      "metadata": {},
      "outputs": [
        {
          "data": {
            "text/plain": [
              "array([[36, 17],\n",
              "       [13, 42]], dtype=int64)"
            ]
          },
          "execution_count": 249,
          "metadata": {},
          "output_type": "execute_result"
        }
      ],
      "source": [
        "confusion_matrix(yb_test, predb_Y) #tn, fp, fn, tp "
      ]
    },
    {
      "cell_type": "markdown",
      "metadata": {},
      "source": [
        "De fato trabalhar com a base balanceada melhorou os resultados! Perdemos acurácia (0,72) mas ganhamos no f1-score (0,74)"
      ]
    },
    {
      "cell_type": "markdown",
      "metadata": {},
      "source": [
        "### Testando na base de validação (o que sobrou)"
      ]
    },
    {
      "cell_type": "code",
      "execution_count": 250,
      "metadata": {},
      "outputs": [],
      "source": [
        "valid_Y  =  predictStroke(btrainNB, Xv_testNB)"
      ]
    },
    {
      "cell_type": "code",
      "execution_count": 251,
      "metadata": {},
      "outputs": [
        {
          "name": "stdout",
          "output_type": "stream",
          "text": [
            "              precision    recall  f1-score   support\n",
            "\n",
            "   no stroke       1.00      0.67      0.80      3065\n",
            "      stroke       0.00      0.00      0.00         0\n",
            "\n",
            "    accuracy                           0.67      3065\n",
            "   macro avg       0.50      0.33      0.40      3065\n",
            "weighted avg       1.00      0.67      0.80      3065\n",
            "\n"
          ]
        },
        {
          "data": {
            "text/plain": [
              "0.665252854812398"
            ]
          },
          "execution_count": 251,
          "metadata": {},
          "output_type": "execute_result"
        }
      ],
      "source": [
        "target_names = ['no stroke', 'stroke']\n",
        "print(classification_report(yv_testNB, valid_Y, target_names=target_names))\n",
        "accuracy_score(yv_testNB, valid_Y)"
      ]
    },
    {
      "cell_type": "code",
      "execution_count": 252,
      "metadata": {},
      "outputs": [
        {
          "data": {
            "text/plain": [
              "array([[2039, 1026],\n",
              "       [   0,    0]], dtype=int64)"
            ]
          },
          "execution_count": 252,
          "metadata": {},
          "output_type": "execute_result"
        }
      ],
      "source": [
        "confusion_matrix(yv_testNB, valid_Y) #tn, fp, fn, tp"
      ]
    },
    {
      "cell_type": "markdown",
      "metadata": {},
      "source": [
        "## Knn com dados balanceados"
      ]
    },
    {
      "cell_type": "code",
      "execution_count": 261,
      "metadata": {},
      "outputs": [],
      "source": [
        "Xb_trainKN = Xb_train.drop(columns = [\"faixaIdade\", \"faixaIMC\", \"faixaGlicose\", \"id\"])\n",
        "Xb_testKN = Xb_test.drop(columns = [\"faixaIdade\", \"faixaIMC\", \"faixaGlicose\", \"id\"])\n",
        "train_dummiesb = pd.get_dummies(Xb_trainKN[[\"work_type\", \"smoking_status\"]].astype(str))\n",
        "test_dummiesb = pd.get_dummies(Xb_testKN[[\"work_type\", \"smoking_status\"]].astype(str))\n",
        "Xb_trainKN = Xb_trainKN.join(train_dummiesb)\n",
        "Xb_testKN = Xb_testKN.join(test_dummiesb)"
      ]
    },
    {
      "cell_type": "code",
      "execution_count": 262,
      "metadata": {},
      "outputs": [],
      "source": [
        "yv_testKN = validation['stroke']\n",
        "Xv_testKN = validation.drop(columns=\"stroke\")\n",
        "\n",
        "\n",
        "cat_columnsv = Xv_testKN.select_dtypes(['category']).columns\n",
        "Xv_testKN[cat_columnsv] = Xv_testKN[cat_columnsv].apply(lambda x: x.cat.codes)\n",
        "\n",
        "Xv_testKN = Xv_testKN.drop(columns = [\"faixaIdade\", \"faixaIMC\", \"faixaGlicose\", \"id\"])\n",
        "test_dummiesc = pd.get_dummies(Xv_testKN[[\"work_type\", \"smoking_status\"]].astype(str))\n",
        "Xv_testKN = Xv_testKN.join(test_dummiesc)\n"
      ]
    },
    {
      "cell_type": "code",
      "execution_count": 263,
      "metadata": {},
      "outputs": [],
      "source": [
        "btrainKNN = Xb_trainKN\n",
        "btrainKNN['stroke'] = yb_train"
      ]
    },
    {
      "cell_type": "code",
      "execution_count": 277,
      "metadata": {},
      "outputs": [
        {
          "data": {
            "text/plain": [
              "KNeighborsClassifier()"
            ]
          },
          "execution_count": 277,
          "metadata": {},
          "output_type": "execute_result"
        }
      ],
      "source": [
        "knnClassifier = KNeighborsClassifier(n_neighbors=5)\n",
        "knnClassifier.fit(Xb_trainKN, yb_train)\n",
        "pred_KNb = knnClassifier.predict(Xb_testKN)"
      ]
    },
    {
      "cell_type": "markdown",
      "metadata": {},
      "source": [
        "### Métricas"
      ]
    },
    {
      "cell_type": "code",
      "execution_count": 278,
      "metadata": {},
      "outputs": [
        {
          "data": {
            "text/plain": [
              "array([0.7047619 , 0.72072072])"
            ]
          },
          "execution_count": 278,
          "metadata": {},
          "output_type": "execute_result"
        },
        {
          "data": {
            "text/plain": [
              "0.7129629629629629"
            ]
          },
          "execution_count": 278,
          "metadata": {},
          "output_type": "execute_result"
        },
        {
          "data": {
            "text/plain": [
              "array([[37, 16],\n",
              "       [15, 40]], dtype=int64)"
            ]
          },
          "execution_count": 278,
          "metadata": {},
          "output_type": "execute_result"
        },
        {
          "name": "stdout",
          "output_type": "stream",
          "text": [
            "              precision    recall  f1-score   support\n",
            "\n",
            "   no stroke       0.71      0.70      0.70        53\n",
            "      stroke       0.71      0.73      0.72        55\n",
            "\n",
            "    accuracy                           0.71       108\n",
            "   macro avg       0.71      0.71      0.71       108\n",
            "weighted avg       0.71      0.71      0.71       108\n",
            "\n"
          ]
        }
      ],
      "source": [
        "f1_score(yb_test, pred_KNb, average=None)\n",
        "accuracy_score(yb_test, pred_KNb)\n",
        "confusion_matrix(yb_test, pred_KNb) #tn, fp, fn, tp\n",
        "target_names = ['no stroke', 'stroke']\n",
        "print(classification_report(yb_test, pred_KNb, target_names=target_names))\n"
      ]
    },
    {
      "cell_type": "markdown",
      "metadata": {},
      "source": [
        "### Testando na base de validação (tudo stroke=0):"
      ]
    },
    {
      "cell_type": "code",
      "execution_count": 258,
      "metadata": {},
      "outputs": [],
      "source": [
        "Xb_trainKN['work_type_1'] = 0"
      ]
    },
    {
      "cell_type": "code",
      "execution_count": 259,
      "metadata": {},
      "outputs": [
        {
          "data": {
            "text/plain": [
              "KNeighborsClassifier()"
            ]
          },
          "execution_count": 259,
          "metadata": {},
          "output_type": "execute_result"
        }
      ],
      "source": [
        "knnClassifier = KNeighborsClassifier(n_neighbors=5)\n",
        "knnClassifier.fit(Xb_trainKN, yb_train)\n",
        "pred_KNv = knnClassifier.predict(Xv_testKN)\n"
      ]
    },
    {
      "cell_type": "markdown",
      "metadata": {},
      "source": [
        "### Métricas"
      ]
    },
    {
      "cell_type": "code",
      "execution_count": 260,
      "metadata": {},
      "outputs": [
        {
          "data": {
            "text/plain": [
              "array([0.80436903, 0.        ])"
            ]
          },
          "execution_count": 260,
          "metadata": {},
          "output_type": "execute_result"
        },
        {
          "data": {
            "text/plain": [
              "0.6727569331158239"
            ]
          },
          "execution_count": 260,
          "metadata": {},
          "output_type": "execute_result"
        },
        {
          "data": {
            "text/plain": [
              "array([[2062, 1003],\n",
              "       [   0,    0]], dtype=int64)"
            ]
          },
          "execution_count": 260,
          "metadata": {},
          "output_type": "execute_result"
        },
        {
          "name": "stdout",
          "output_type": "stream",
          "text": [
            "              precision    recall  f1-score   support\n",
            "\n",
            "   no stroke       1.00      0.67      0.80      3065\n",
            "      stroke       0.00      0.00      0.00         0\n",
            "\n",
            "    accuracy                           0.67      3065\n",
            "   macro avg       0.50      0.34      0.40      3065\n",
            "weighted avg       1.00      0.67      0.80      3065\n",
            "\n"
          ]
        }
      ],
      "source": [
        "f1_score(yv_testKN, pred_KNv, average=None)\n",
        "accuracy_score(yv_testKN, pred_KNv)\n",
        "confusion_matrix(yv_testKN, pred_KNv) #tn, fp, fn, tp\n",
        "target_names = ['no stroke', 'stroke']\n",
        "print(classification_report(yv_testKN, pred_KNv, target_names=target_names))\n"
      ]
    }
  ],
  "metadata": {
    "colab": {
      "name": "projetoEstatisticaDescritiva.ipynb",
      "provenance": []
    },
    "interpreter": {
      "hash": "0e1898d504e473bdd4635340539d41a5cecc72accb8598f6f0c7bcb5921af418"
    },
    "kernelspec": {
      "display_name": "Python 3.8.8 64-bit ('base': conda)",
      "name": "python3"
    },
    "language_info": {
      "codemirror_mode": {
        "name": "ipython",
        "version": 3
      },
      "file_extension": ".py",
      "mimetype": "text/x-python",
      "name": "python",
      "nbconvert_exporter": "python",
      "pygments_lexer": "ipython3",
      "version": "3.8.8"
    }
  },
  "nbformat": 4,
  "nbformat_minor": 0
}
