{
  "cells": [
    {
      "cell_type": "markdown",
      "metadata": {
        "id": "-nX1TdbTgL87"
      },
      "source": [
        "# Projeto Estatística Descritiva de Dados\n",
        "## Lucas Natan Correia Couri e Mariama Oliveira"
      ]
    },
    {
      "cell_type": "markdown",
      "metadata": {
        "id": "K7hgBrxasDXN"
      },
      "source": [
        "# Análise exploratória"
      ]
    },
    {
      "cell_type": "code",
      "execution_count": 81,
      "metadata": {},
      "outputs": [],
      "source": [
        "import pandas as pd\n",
        "import seaborn as sns\n",
        "import numpy as np\n",
        "import matplotlib.pyplot as plt\n",
        "import scipy.stats as stats\n",
        "import researchpy as rp\n",
        "from sklearn.model_selection import train_test_split\n",
        "from sklearn.naive_bayes import CategoricalNB\n",
        "from sklearn.metrics import f1_score\n",
        "from sklearn.metrics import accuracy_score\n",
        "from sklearn.neighbors import KNeighborsClassifier\n",
        "from IPython.core.interactiveshell import InteractiveShell\n",
        "from sklearn.metrics import confusion_matrix\n",
        "from sklearn.metrics import classification_report\n",
        "InteractiveShell.ast_node_interactivity = 'all'"
      ]
    },
    {
      "cell_type": "code",
      "execution_count": 82,
      "metadata": {},
      "outputs": [],
      "source": [
        "dados = pd.read_csv(\"dataset_stroke.csv\")"
      ]
    },
    {
      "cell_type": "code",
      "execution_count": 83,
      "metadata": {
        "id": "IaCtHNE0gB2-"
      },
      "outputs": [
        {
          "data": {
            "text/html": [
              "<div>\n",
              "<style scoped>\n",
              "    .dataframe tbody tr th:only-of-type {\n",
              "        vertical-align: middle;\n",
              "    }\n",
              "\n",
              "    .dataframe tbody tr th {\n",
              "        vertical-align: top;\n",
              "    }\n",
              "\n",
              "    .dataframe thead th {\n",
              "        text-align: right;\n",
              "    }\n",
              "</style>\n",
              "<table border=\"1\" class=\"dataframe\">\n",
              "  <thead>\n",
              "    <tr style=\"text-align: right;\">\n",
              "      <th></th>\n",
              "      <th>id</th>\n",
              "      <th>gender</th>\n",
              "      <th>age</th>\n",
              "      <th>hypertension</th>\n",
              "      <th>heart_disease</th>\n",
              "      <th>ever_married</th>\n",
              "      <th>work_type</th>\n",
              "      <th>Residence_type</th>\n",
              "      <th>avg_glucose_level</th>\n",
              "      <th>bmi</th>\n",
              "      <th>smoking_status</th>\n",
              "      <th>stroke</th>\n",
              "    </tr>\n",
              "  </thead>\n",
              "  <tbody>\n",
              "    <tr>\n",
              "      <th>0</th>\n",
              "      <td>9046</td>\n",
              "      <td>Male</td>\n",
              "      <td>67.0</td>\n",
              "      <td>0</td>\n",
              "      <td>1</td>\n",
              "      <td>Yes</td>\n",
              "      <td>Private</td>\n",
              "      <td>Urban</td>\n",
              "      <td>228.69</td>\n",
              "      <td>36.6</td>\n",
              "      <td>formerly smoked</td>\n",
              "      <td>1</td>\n",
              "    </tr>\n",
              "    <tr>\n",
              "      <th>1</th>\n",
              "      <td>51676</td>\n",
              "      <td>Female</td>\n",
              "      <td>61.0</td>\n",
              "      <td>0</td>\n",
              "      <td>0</td>\n",
              "      <td>Yes</td>\n",
              "      <td>Self-employed</td>\n",
              "      <td>Rural</td>\n",
              "      <td>202.21</td>\n",
              "      <td>NaN</td>\n",
              "      <td>never smoked</td>\n",
              "      <td>1</td>\n",
              "    </tr>\n",
              "    <tr>\n",
              "      <th>2</th>\n",
              "      <td>31112</td>\n",
              "      <td>Male</td>\n",
              "      <td>80.0</td>\n",
              "      <td>0</td>\n",
              "      <td>1</td>\n",
              "      <td>Yes</td>\n",
              "      <td>Private</td>\n",
              "      <td>Rural</td>\n",
              "      <td>105.92</td>\n",
              "      <td>32.5</td>\n",
              "      <td>never smoked</td>\n",
              "      <td>1</td>\n",
              "    </tr>\n",
              "    <tr>\n",
              "      <th>3</th>\n",
              "      <td>60182</td>\n",
              "      <td>Female</td>\n",
              "      <td>49.0</td>\n",
              "      <td>0</td>\n",
              "      <td>0</td>\n",
              "      <td>Yes</td>\n",
              "      <td>Private</td>\n",
              "      <td>Urban</td>\n",
              "      <td>171.23</td>\n",
              "      <td>34.4</td>\n",
              "      <td>smokes</td>\n",
              "      <td>1</td>\n",
              "    </tr>\n",
              "    <tr>\n",
              "      <th>4</th>\n",
              "      <td>1665</td>\n",
              "      <td>Female</td>\n",
              "      <td>79.0</td>\n",
              "      <td>1</td>\n",
              "      <td>0</td>\n",
              "      <td>Yes</td>\n",
              "      <td>Self-employed</td>\n",
              "      <td>Rural</td>\n",
              "      <td>174.12</td>\n",
              "      <td>24.0</td>\n",
              "      <td>never smoked</td>\n",
              "      <td>1</td>\n",
              "    </tr>\n",
              "  </tbody>\n",
              "</table>\n",
              "</div>"
            ],
            "text/plain": [
              "      id  gender   age  hypertension  heart_disease ever_married  \\\n",
              "0   9046    Male  67.0             0              1          Yes   \n",
              "1  51676  Female  61.0             0              0          Yes   \n",
              "2  31112    Male  80.0             0              1          Yes   \n",
              "3  60182  Female  49.0             0              0          Yes   \n",
              "4   1665  Female  79.0             1              0          Yes   \n",
              "\n",
              "       work_type Residence_type  avg_glucose_level   bmi   smoking_status  \\\n",
              "0        Private          Urban             228.69  36.6  formerly smoked   \n",
              "1  Self-employed          Rural             202.21   NaN     never smoked   \n",
              "2        Private          Rural             105.92  32.5     never smoked   \n",
              "3        Private          Urban             171.23  34.4           smokes   \n",
              "4  Self-employed          Rural             174.12  24.0     never smoked   \n",
              "\n",
              "   stroke  \n",
              "0       1  \n",
              "1       1  \n",
              "2       1  \n",
              "3       1  \n",
              "4       1  "
            ]
          },
          "execution_count": 83,
          "metadata": {},
          "output_type": "execute_result"
        }
      ],
      "source": [
        "dados.head()"
      ]
    },
    {
      "cell_type": "code",
      "execution_count": 84,
      "metadata": {},
      "outputs": [
        {
          "data": {
            "text/plain": [
              "(5110, 12)"
            ]
          },
          "execution_count": 84,
          "metadata": {},
          "output_type": "execute_result"
        }
      ],
      "source": [
        "dados.shape"
      ]
    },
    {
      "cell_type": "markdown",
      "metadata": {},
      "source": [
        "## Pré-processamento de dados"
      ]
    },
    {
      "cell_type": "code",
      "execution_count": 85,
      "metadata": {},
      "outputs": [
        {
          "data": {
            "text/plain": [
              "id                     int64\n",
              "gender                object\n",
              "age                  float64\n",
              "hypertension           int64\n",
              "heart_disease          int64\n",
              "ever_married          object\n",
              "work_type             object\n",
              "Residence_type        object\n",
              "avg_glucose_level    float64\n",
              "bmi                  float64\n",
              "smoking_status        object\n",
              "stroke                 int64\n",
              "dtype: object"
            ]
          },
          "execution_count": 85,
          "metadata": {},
          "output_type": "execute_result"
        }
      ],
      "source": [
        "dados.dtypes"
      ]
    },
    {
      "cell_type": "markdown",
      "metadata": {},
      "source": [
        "Convertendos tipos \"object\" para \"category\""
      ]
    },
    {
      "cell_type": "code",
      "execution_count": 86,
      "metadata": {
        "id": "bLUYhOJFsRnA"
      },
      "outputs": [],
      "source": [
        "dados['gender'] = dados['gender'].astype('category')\n",
        "dados['ever_married'] = dados['ever_married'].astype('category')\n",
        "dados['work_type'] = dados['work_type'].astype('category')\n",
        "dados['Residence_type'] = dados['Residence_type'].astype('category')\n",
        "dados['smoking_status'] = dados['smoking_status'].astype('category')\n",
        "dados['hypertension'] = dados['hypertension'].astype('category')\n",
        "dados['heart_disease'] = dados['heart_disease'].astype('category')\n",
        "dados['stroke'] = dados['stroke'].astype('category')\n"
      ]
    },
    {
      "cell_type": "code",
      "execution_count": 87,
      "metadata": {},
      "outputs": [
        {
          "data": {
            "text/html": [
              "<div>\n",
              "<style scoped>\n",
              "    .dataframe tbody tr th:only-of-type {\n",
              "        vertical-align: middle;\n",
              "    }\n",
              "\n",
              "    .dataframe tbody tr th {\n",
              "        vertical-align: top;\n",
              "    }\n",
              "\n",
              "    .dataframe thead th {\n",
              "        text-align: right;\n",
              "    }\n",
              "</style>\n",
              "<table border=\"1\" class=\"dataframe\">\n",
              "  <thead>\n",
              "    <tr style=\"text-align: right;\">\n",
              "      <th></th>\n",
              "      <th>id</th>\n",
              "      <th>age</th>\n",
              "      <th>avg_glucose_level</th>\n",
              "      <th>bmi</th>\n",
              "    </tr>\n",
              "  </thead>\n",
              "  <tbody>\n",
              "    <tr>\n",
              "      <th>count</th>\n",
              "      <td>5110.000000</td>\n",
              "      <td>5110.000000</td>\n",
              "      <td>5110.000000</td>\n",
              "      <td>4909.000000</td>\n",
              "    </tr>\n",
              "    <tr>\n",
              "      <th>mean</th>\n",
              "      <td>36517.829354</td>\n",
              "      <td>43.226614</td>\n",
              "      <td>106.147677</td>\n",
              "      <td>28.893237</td>\n",
              "    </tr>\n",
              "    <tr>\n",
              "      <th>std</th>\n",
              "      <td>21161.721625</td>\n",
              "      <td>22.612647</td>\n",
              "      <td>45.283560</td>\n",
              "      <td>7.854067</td>\n",
              "    </tr>\n",
              "    <tr>\n",
              "      <th>min</th>\n",
              "      <td>67.000000</td>\n",
              "      <td>0.080000</td>\n",
              "      <td>55.120000</td>\n",
              "      <td>10.300000</td>\n",
              "    </tr>\n",
              "    <tr>\n",
              "      <th>25%</th>\n",
              "      <td>17741.250000</td>\n",
              "      <td>25.000000</td>\n",
              "      <td>77.245000</td>\n",
              "      <td>23.500000</td>\n",
              "    </tr>\n",
              "    <tr>\n",
              "      <th>50%</th>\n",
              "      <td>36932.000000</td>\n",
              "      <td>45.000000</td>\n",
              "      <td>91.885000</td>\n",
              "      <td>28.100000</td>\n",
              "    </tr>\n",
              "    <tr>\n",
              "      <th>75%</th>\n",
              "      <td>54682.000000</td>\n",
              "      <td>61.000000</td>\n",
              "      <td>114.090000</td>\n",
              "      <td>33.100000</td>\n",
              "    </tr>\n",
              "    <tr>\n",
              "      <th>max</th>\n",
              "      <td>72940.000000</td>\n",
              "      <td>82.000000</td>\n",
              "      <td>271.740000</td>\n",
              "      <td>97.600000</td>\n",
              "    </tr>\n",
              "  </tbody>\n",
              "</table>\n",
              "</div>"
            ],
            "text/plain": [
              "                 id          age  avg_glucose_level          bmi\n",
              "count   5110.000000  5110.000000        5110.000000  4909.000000\n",
              "mean   36517.829354    43.226614         106.147677    28.893237\n",
              "std    21161.721625    22.612647          45.283560     7.854067\n",
              "min       67.000000     0.080000          55.120000    10.300000\n",
              "25%    17741.250000    25.000000          77.245000    23.500000\n",
              "50%    36932.000000    45.000000          91.885000    28.100000\n",
              "75%    54682.000000    61.000000         114.090000    33.100000\n",
              "max    72940.000000    82.000000         271.740000    97.600000"
            ]
          },
          "execution_count": 87,
          "metadata": {},
          "output_type": "execute_result"
        }
      ],
      "source": [
        "dados.describe()"
      ]
    },
    {
      "cell_type": "code",
      "execution_count": 88,
      "metadata": {},
      "outputs": [
        {
          "data": {
            "text/html": [
              "<div>\n",
              "<style scoped>\n",
              "    .dataframe tbody tr th:only-of-type {\n",
              "        vertical-align: middle;\n",
              "    }\n",
              "\n",
              "    .dataframe tbody tr th {\n",
              "        vertical-align: top;\n",
              "    }\n",
              "\n",
              "    .dataframe thead th {\n",
              "        text-align: right;\n",
              "    }\n",
              "</style>\n",
              "<table border=\"1\" class=\"dataframe\">\n",
              "  <thead>\n",
              "    <tr style=\"text-align: right;\">\n",
              "      <th></th>\n",
              "      <th>id</th>\n",
              "      <th>gender</th>\n",
              "      <th>age</th>\n",
              "      <th>hypertension</th>\n",
              "      <th>heart_disease</th>\n",
              "      <th>ever_married</th>\n",
              "      <th>work_type</th>\n",
              "      <th>Residence_type</th>\n",
              "      <th>avg_glucose_level</th>\n",
              "      <th>bmi</th>\n",
              "      <th>smoking_status</th>\n",
              "      <th>stroke</th>\n",
              "    </tr>\n",
              "  </thead>\n",
              "  <tbody>\n",
              "    <tr>\n",
              "      <th>363</th>\n",
              "      <td>7559</td>\n",
              "      <td>Female</td>\n",
              "      <td>0.64</td>\n",
              "      <td>0</td>\n",
              "      <td>0</td>\n",
              "      <td>No</td>\n",
              "      <td>children</td>\n",
              "      <td>Urban</td>\n",
              "      <td>83.82</td>\n",
              "      <td>24.9</td>\n",
              "      <td>Unknown</td>\n",
              "      <td>0</td>\n",
              "    </tr>\n",
              "    <tr>\n",
              "      <th>376</th>\n",
              "      <td>22706</td>\n",
              "      <td>Female</td>\n",
              "      <td>0.88</td>\n",
              "      <td>0</td>\n",
              "      <td>0</td>\n",
              "      <td>No</td>\n",
              "      <td>children</td>\n",
              "      <td>Rural</td>\n",
              "      <td>88.11</td>\n",
              "      <td>15.5</td>\n",
              "      <td>Unknown</td>\n",
              "      <td>0</td>\n",
              "    </tr>\n",
              "    <tr>\n",
              "      <th>562</th>\n",
              "      <td>45238</td>\n",
              "      <td>Female</td>\n",
              "      <td>1.80</td>\n",
              "      <td>0</td>\n",
              "      <td>0</td>\n",
              "      <td>No</td>\n",
              "      <td>children</td>\n",
              "      <td>Urban</td>\n",
              "      <td>58.26</td>\n",
              "      <td>16.5</td>\n",
              "      <td>Unknown</td>\n",
              "      <td>0</td>\n",
              "    </tr>\n",
              "    <tr>\n",
              "      <th>564</th>\n",
              "      <td>61511</td>\n",
              "      <td>Female</td>\n",
              "      <td>0.32</td>\n",
              "      <td>0</td>\n",
              "      <td>0</td>\n",
              "      <td>No</td>\n",
              "      <td>children</td>\n",
              "      <td>Rural</td>\n",
              "      <td>73.71</td>\n",
              "      <td>16.2</td>\n",
              "      <td>Unknown</td>\n",
              "      <td>0</td>\n",
              "    </tr>\n",
              "    <tr>\n",
              "      <th>597</th>\n",
              "      <td>40639</td>\n",
              "      <td>Female</td>\n",
              "      <td>1.08</td>\n",
              "      <td>0</td>\n",
              "      <td>0</td>\n",
              "      <td>No</td>\n",
              "      <td>children</td>\n",
              "      <td>Rural</td>\n",
              "      <td>60.53</td>\n",
              "      <td>17.5</td>\n",
              "      <td>Unknown</td>\n",
              "      <td>0</td>\n",
              "    </tr>\n",
              "    <tr>\n",
              "      <th>...</th>\n",
              "      <td>...</td>\n",
              "      <td>...</td>\n",
              "      <td>...</td>\n",
              "      <td>...</td>\n",
              "      <td>...</td>\n",
              "      <td>...</td>\n",
              "      <td>...</td>\n",
              "      <td>...</td>\n",
              "      <td>...</td>\n",
              "      <td>...</td>\n",
              "      <td>...</td>\n",
              "      <td>...</td>\n",
              "    </tr>\n",
              "    <tr>\n",
              "      <th>4934</th>\n",
              "      <td>32147</td>\n",
              "      <td>Male</td>\n",
              "      <td>1.32</td>\n",
              "      <td>0</td>\n",
              "      <td>0</td>\n",
              "      <td>No</td>\n",
              "      <td>children</td>\n",
              "      <td>Rural</td>\n",
              "      <td>107.02</td>\n",
              "      <td>NaN</td>\n",
              "      <td>Unknown</td>\n",
              "      <td>0</td>\n",
              "    </tr>\n",
              "    <tr>\n",
              "      <th>5032</th>\n",
              "      <td>67426</td>\n",
              "      <td>Female</td>\n",
              "      <td>1.24</td>\n",
              "      <td>0</td>\n",
              "      <td>0</td>\n",
              "      <td>No</td>\n",
              "      <td>children</td>\n",
              "      <td>Rural</td>\n",
              "      <td>61.94</td>\n",
              "      <td>20.3</td>\n",
              "      <td>Unknown</td>\n",
              "      <td>0</td>\n",
              "    </tr>\n",
              "    <tr>\n",
              "      <th>5079</th>\n",
              "      <td>42709</td>\n",
              "      <td>Male</td>\n",
              "      <td>1.72</td>\n",
              "      <td>0</td>\n",
              "      <td>0</td>\n",
              "      <td>No</td>\n",
              "      <td>children</td>\n",
              "      <td>Urban</td>\n",
              "      <td>77.28</td>\n",
              "      <td>17.1</td>\n",
              "      <td>Unknown</td>\n",
              "      <td>0</td>\n",
              "    </tr>\n",
              "    <tr>\n",
              "      <th>5089</th>\n",
              "      <td>56714</td>\n",
              "      <td>Female</td>\n",
              "      <td>0.72</td>\n",
              "      <td>0</td>\n",
              "      <td>0</td>\n",
              "      <td>No</td>\n",
              "      <td>children</td>\n",
              "      <td>Rural</td>\n",
              "      <td>62.13</td>\n",
              "      <td>16.8</td>\n",
              "      <td>Unknown</td>\n",
              "      <td>0</td>\n",
              "    </tr>\n",
              "    <tr>\n",
              "      <th>5095</th>\n",
              "      <td>68598</td>\n",
              "      <td>Male</td>\n",
              "      <td>1.08</td>\n",
              "      <td>0</td>\n",
              "      <td>0</td>\n",
              "      <td>No</td>\n",
              "      <td>children</td>\n",
              "      <td>Rural</td>\n",
              "      <td>79.15</td>\n",
              "      <td>17.4</td>\n",
              "      <td>Unknown</td>\n",
              "      <td>0</td>\n",
              "    </tr>\n",
              "  </tbody>\n",
              "</table>\n",
              "<p>119 rows × 12 columns</p>\n",
              "</div>"
            ],
            "text/plain": [
              "         id  gender   age hypertension heart_disease ever_married work_type  \\\n",
              "363    7559  Female  0.64            0             0           No  children   \n",
              "376   22706  Female  0.88            0             0           No  children   \n",
              "562   45238  Female  1.80            0             0           No  children   \n",
              "564   61511  Female  0.32            0             0           No  children   \n",
              "597   40639  Female  1.08            0             0           No  children   \n",
              "...     ...     ...   ...          ...           ...          ...       ...   \n",
              "4934  32147    Male  1.32            0             0           No  children   \n",
              "5032  67426  Female  1.24            0             0           No  children   \n",
              "5079  42709    Male  1.72            0             0           No  children   \n",
              "5089  56714  Female  0.72            0             0           No  children   \n",
              "5095  68598    Male  1.08            0             0           No  children   \n",
              "\n",
              "     Residence_type  avg_glucose_level   bmi smoking_status stroke  \n",
              "363           Urban              83.82  24.9        Unknown      0  \n",
              "376           Rural              88.11  15.5        Unknown      0  \n",
              "562           Urban              58.26  16.5        Unknown      0  \n",
              "564           Rural              73.71  16.2        Unknown      0  \n",
              "597           Rural              60.53  17.5        Unknown      0  \n",
              "...             ...                ...   ...            ...    ...  \n",
              "4934          Rural             107.02   NaN        Unknown      0  \n",
              "5032          Rural              61.94  20.3        Unknown      0  \n",
              "5079          Urban              77.28  17.1        Unknown      0  \n",
              "5089          Rural              62.13  16.8        Unknown      0  \n",
              "5095          Rural              79.15  17.4        Unknown      0  \n",
              "\n",
              "[119 rows x 12 columns]"
            ]
          },
          "execution_count": 88,
          "metadata": {},
          "output_type": "execute_result"
        }
      ],
      "source": [
        "dados[(dados['age']<2) & (dados['stroke']==0)]"
      ]
    },
    {
      "cell_type": "code",
      "execution_count": 89,
      "metadata": {},
      "outputs": [
        {
          "data": {
            "text/plain": [
              "<AxesSubplot:>"
            ]
          },
          "execution_count": 89,
          "metadata": {},
          "output_type": "execute_result"
        },
        {
          "data": {
            "image/png": "[encoded data removed]",
            "text/plain": [
              "<Figure size 432x288 with 1 Axes>"
            ]
          },
          "metadata": {
            "needs_background": "light"
          },
          "output_type": "display_data"
        }
      ],
      "source": [
        "dados['bmi'].plot.box()"
      ]
    },
    {
      "cell_type": "markdown",
      "metadata": {},
      "source": [
        "### **Verificando dados nulos**"
      ]
    },
    {
      "cell_type": "code",
      "execution_count": 90,
      "metadata": {},
      "outputs": [
        {
          "data": {
            "text/plain": [
              "id                   0.000000\n",
              "gender               0.000000\n",
              "age                  0.000000\n",
              "hypertension         0.000000\n",
              "heart_disease        0.000000\n",
              "ever_married         0.000000\n",
              "work_type            0.000000\n",
              "Residence_type       0.000000\n",
              "avg_glucose_level    0.000000\n",
              "bmi                  0.039335\n",
              "smoking_status       0.000000\n",
              "stroke               0.000000\n",
              "dtype: float64"
            ]
          },
          "execution_count": 90,
          "metadata": {},
          "output_type": "execute_result"
        }
      ],
      "source": [
        "dados.isnull().sum()/len(dados)"
      ]
    },
    {
      "cell_type": "code",
      "execution_count": 91,
      "metadata": {},
      "outputs": [
        {
          "data": {
            "text/plain": [
              "Female    2994\n",
              "Male      2115\n",
              "Other        1\n",
              "Name: gender, dtype: int64"
            ]
          },
          "execution_count": 91,
          "metadata": {},
          "output_type": "execute_result"
        },
        {
          "data": {
            "text/plain": [
              "Yes    3353\n",
              "No     1757\n",
              "Name: ever_married, dtype: int64"
            ]
          },
          "execution_count": 91,
          "metadata": {},
          "output_type": "execute_result"
        },
        {
          "data": {
            "text/plain": [
              "Private          2925\n",
              "Self-employed     819\n",
              "children          687\n",
              "Govt_job          657\n",
              "Never_worked       22\n",
              "Name: work_type, dtype: int64"
            ]
          },
          "execution_count": 91,
          "metadata": {},
          "output_type": "execute_result"
        },
        {
          "data": {
            "text/plain": [
              "Urban    2596\n",
              "Rural    2514\n",
              "Name: Residence_type, dtype: int64"
            ]
          },
          "execution_count": 91,
          "metadata": {},
          "output_type": "execute_result"
        },
        {
          "data": {
            "text/plain": [
              "never smoked       1892\n",
              "Unknown            1544\n",
              "formerly smoked     885\n",
              "smokes              789\n",
              "Name: smoking_status, dtype: int64"
            ]
          },
          "execution_count": 91,
          "metadata": {},
          "output_type": "execute_result"
        }
      ],
      "source": [
        "dados['gender'].value_counts() \n",
        "dados['ever_married'].value_counts()\n",
        "dados['work_type'].value_counts()\n",
        "dados['Residence_type'].value_counts()\n",
        "dados['smoking_status'].value_counts()"
      ]
    },
    {
      "cell_type": "code",
      "execution_count": 92,
      "metadata": {},
      "outputs": [
        {
          "data": {
            "text/html": [
              "<div>\n",
              "<style scoped>\n",
              "    .dataframe tbody tr th:only-of-type {\n",
              "        vertical-align: middle;\n",
              "    }\n",
              "\n",
              "    .dataframe tbody tr th {\n",
              "        vertical-align: top;\n",
              "    }\n",
              "\n",
              "    .dataframe thead th {\n",
              "        text-align: right;\n",
              "    }\n",
              "</style>\n",
              "<table border=\"1\" class=\"dataframe\">\n",
              "  <thead>\n",
              "    <tr style=\"text-align: right;\">\n",
              "      <th></th>\n",
              "      <th>hypertension</th>\n",
              "      <th>heart_disease</th>\n",
              "      <th>stroke</th>\n",
              "    </tr>\n",
              "  </thead>\n",
              "  <tbody>\n",
              "    <tr>\n",
              "      <th>0</th>\n",
              "      <td>4612</td>\n",
              "      <td>4834</td>\n",
              "      <td>4861</td>\n",
              "    </tr>\n",
              "    <tr>\n",
              "      <th>1</th>\n",
              "      <td>498</td>\n",
              "      <td>276</td>\n",
              "      <td>249</td>\n",
              "    </tr>\n",
              "  </tbody>\n",
              "</table>\n",
              "</div>"
            ],
            "text/plain": [
              "   hypertension  heart_disease  stroke\n",
              "0          4612           4834    4861\n",
              "1           498            276     249"
            ]
          },
          "execution_count": 92,
          "metadata": {},
          "output_type": "execute_result"
        }
      ],
      "source": [
        "dados[['hypertension', 'heart_disease','stroke']].apply(pd.Series.value_counts)"
      ]
    },
    {
      "cell_type": "code",
      "execution_count": 93,
      "metadata": {},
      "outputs": [
        {
          "data": {
            "text/plain": [
              "(40, 12)"
            ]
          },
          "execution_count": 93,
          "metadata": {},
          "output_type": "execute_result"
        }
      ],
      "source": [
        "dados[(dados['bmi'].isnull()) & (dados['stroke']==1)].shape"
      ]
    },
    {
      "cell_type": "code",
      "execution_count": 94,
      "metadata": {},
      "outputs": [
        {
          "data": {
            "text/plain": [
              "(249, 12)"
            ]
          },
          "execution_count": 94,
          "metadata": {},
          "output_type": "execute_result"
        }
      ],
      "source": [
        "dados[(dados['stroke']==1)].shape"
      ]
    },
    {
      "cell_type": "markdown",
      "metadata": {},
      "source": [
        "### Iremos retirar as instâncias que apresentam valores nulos para bmi (IMC). Futuramente, iremos comparar se caso esse atributo for inputado, o classificador apresentará uma melhor performance."
      ]
    },
    {
      "cell_type": "code",
      "execution_count": 95,
      "metadata": {},
      "outputs": [],
      "source": [
        "dados.dropna(inplace = True)\n",
        "#dados['bmi'] = dados['bmi'].fillna(dados['bmi'].mean())"
      ]
    },
    {
      "cell_type": "code",
      "execution_count": 96,
      "metadata": {},
      "outputs": [
        {
          "data": {
            "text/html": [
              "<div>\n",
              "<style scoped>\n",
              "    .dataframe tbody tr th:only-of-type {\n",
              "        vertical-align: middle;\n",
              "    }\n",
              "\n",
              "    .dataframe tbody tr th {\n",
              "        vertical-align: top;\n",
              "    }\n",
              "\n",
              "    .dataframe thead th {\n",
              "        text-align: right;\n",
              "    }\n",
              "</style>\n",
              "<table border=\"1\" class=\"dataframe\">\n",
              "  <thead>\n",
              "    <tr style=\"text-align: right;\">\n",
              "      <th></th>\n",
              "      <th>id</th>\n",
              "      <th>gender</th>\n",
              "      <th>age</th>\n",
              "      <th>hypertension</th>\n",
              "      <th>heart_disease</th>\n",
              "      <th>ever_married</th>\n",
              "      <th>work_type</th>\n",
              "      <th>Residence_type</th>\n",
              "      <th>avg_glucose_level</th>\n",
              "      <th>bmi</th>\n",
              "      <th>smoking_status</th>\n",
              "      <th>stroke</th>\n",
              "    </tr>\n",
              "  </thead>\n",
              "  <tbody>\n",
              "  </tbody>\n",
              "</table>\n",
              "</div>"
            ],
            "text/plain": [
              "Empty DataFrame\n",
              "Columns: [id, gender, age, hypertension, heart_disease, ever_married, work_type, Residence_type, avg_glucose_level, bmi, smoking_status, stroke]\n",
              "Index: []"
            ]
          },
          "execution_count": 96,
          "metadata": {},
          "output_type": "execute_result"
        }
      ],
      "source": [
        "dados[dados.duplicated()]"
      ]
    },
    {
      "cell_type": "code",
      "execution_count": 97,
      "metadata": {},
      "outputs": [
        {
          "data": {
            "text/plain": [
              "(29, 12)"
            ]
          },
          "execution_count": 97,
          "metadata": {},
          "output_type": "execute_result"
        }
      ],
      "source": [
        "dados[ ( dados['smoking_status']==\"Unknown\" ) & ( dados['stroke']==1 ) ].shape"
      ]
    },
    {
      "cell_type": "code",
      "execution_count": 98,
      "metadata": {},
      "outputs": [],
      "source": [
        "#dados.shape #4909\n",
        "dados = dados[dados['smoking_status']!=\"Unknown\"]"
      ]
    },
    {
      "cell_type": "code",
      "execution_count": 99,
      "metadata": {},
      "outputs": [],
      "source": [
        "dados = dados[dados['gender']!=\"Other\"]"
      ]
    },
    {
      "cell_type": "markdown",
      "metadata": {},
      "source": [
        "Número final de instâncias\n"
      ]
    },
    {
      "cell_type": "code",
      "execution_count": 100,
      "metadata": {},
      "outputs": [
        {
          "data": {
            "text/plain": [
              "3425"
            ]
          },
          "execution_count": 100,
          "metadata": {},
          "output_type": "execute_result"
        }
      ],
      "source": [
        "dados.shape[0]"
      ]
    },
    {
      "cell_type": "markdown",
      "metadata": {},
      "source": [
        "## Discretizando variáveis contínuas"
      ]
    },
    {
      "cell_type": "code",
      "execution_count": 101,
      "metadata": {},
      "outputs": [],
      "source": [
        "dados['faixaIdade'] = pd.cut(dados['age'], [0, 10, 25, 50, 75, 90])\n",
        "dados['faixaIMC'] = pd.cut(dados['bmi'], [0, 18.5, 25, 30, 40, 100])\n",
        "#https://www.euro.who.int/en/health-topics/disease-prevention/nutrition/a-healthy-lifestyle/body-mass-index-bmi\n",
        "dados['faixaGlicose'] = pd.cut(dados['avg_glucose_level'], [0, 70, 100, 125, 300])\n",
        "#https://www.who.int/data/gho/indicator-metadata-registry/imr-details/2380\n",
        "dados['faixaIdade'] = dados['faixaIdade'].astype('category')\n",
        "dados['faixaIMC'] = dados['faixaIMC'].astype('category')\n",
        "dados['faixaGlicose'] = dados['faixaGlicose'].astype('category')\n"
      ]
    },
    {
      "cell_type": "markdown",
      "metadata": {},
      "source": [
        "# Análise"
      ]
    },
    {
      "cell_type": "markdown",
      "metadata": {},
      "source": [
        "Verificando distribuição dos atributos"
      ]
    },
    {
      "cell_type": "code",
      "execution_count": 102,
      "metadata": {},
      "outputs": [],
      "source": [
        "# ax = sns.countplot(x=\"stroke\", data=dados)\n",
        "#ax = sns.barplot(x=\"day\", y=\"total_bill\", hue=\"sex\", data=tips)\n"
      ]
    },
    {
      "cell_type": "code",
      "execution_count": 103,
      "metadata": {},
      "outputs": [
        {
          "data": {
            "text/html": [
              "<div>\n",
              "<style scoped>\n",
              "    .dataframe tbody tr th:only-of-type {\n",
              "        vertical-align: middle;\n",
              "    }\n",
              "\n",
              "    .dataframe tbody tr th {\n",
              "        vertical-align: top;\n",
              "    }\n",
              "\n",
              "    .dataframe thead th {\n",
              "        text-align: right;\n",
              "    }\n",
              "</style>\n",
              "<table border=\"1\" class=\"dataframe\">\n",
              "  <thead>\n",
              "    <tr style=\"text-align: right;\">\n",
              "      <th></th>\n",
              "      <th>hypertension</th>\n",
              "      <th>heart_disease</th>\n",
              "      <th>stroke</th>\n",
              "    </tr>\n",
              "  </thead>\n",
              "  <tbody>\n",
              "    <tr>\n",
              "      <th>0</th>\n",
              "      <td>3017</td>\n",
              "      <td>3219</td>\n",
              "      <td>3245</td>\n",
              "    </tr>\n",
              "    <tr>\n",
              "      <th>1</th>\n",
              "      <td>408</td>\n",
              "      <td>206</td>\n",
              "      <td>180</td>\n",
              "    </tr>\n",
              "  </tbody>\n",
              "</table>\n",
              "</div>"
            ],
            "text/plain": [
              "   hypertension  heart_disease  stroke\n",
              "0          3017           3219    3245\n",
              "1           408            206     180"
            ]
          },
          "execution_count": 103,
          "metadata": {},
          "output_type": "execute_result"
        }
      ],
      "source": [
        "#dados['hypertension'] \n",
        "#dados['heart_disease']\n",
        "#dados['stroke']\n",
        "dados[['hypertension', 'heart_disease','stroke']].apply(pd.Series.value_counts)"
      ]
    },
    {
      "cell_type": "code",
      "execution_count": 104,
      "metadata": {},
      "outputs": [
        {
          "data": {
            "text/plain": [
              "Yes    2599\n",
              "No      826\n",
              "Name: ever_married, dtype: int64"
            ]
          },
          "execution_count": 104,
          "metadata": {},
          "output_type": "execute_result"
        },
        {
          "data": {
            "text/plain": [
              "(50, 75]    1304\n",
              "(25, 50]    1299\n",
              "(10, 25]     469\n",
              "(75, 90]     344\n",
              "(0, 10]        9\n",
              "Name: faixaIdade, dtype: int64"
            ]
          },
          "execution_count": 104,
          "metadata": {},
          "output_type": "execute_result"
        },
        {
          "data": {
            "text/plain": [
              "(30.0, 40.0]     1186\n",
              "(25.0, 30.0]     1093\n",
              "(18.5, 25.0]      764\n",
              "(40.0, 100.0]     330\n",
              "(0.0, 18.5]        52\n",
              "Name: faixaIMC, dtype: int64"
            ]
          },
          "execution_count": 104,
          "metadata": {},
          "output_type": "execute_result"
        },
        {
          "data": {
            "text/plain": [
              "(70, 100]     1550\n",
              "(125, 300]     725\n",
              "(100, 125]     642\n",
              "(0, 70]        508\n",
              "Name: faixaGlicose, dtype: int64"
            ]
          },
          "execution_count": 104,
          "metadata": {},
          "output_type": "execute_result"
        },
        {
          "data": {
            "text/plain": [
              "Female    2086\n",
              "Male      1339\n",
              "Other        0\n",
              "Name: gender, dtype: int64"
            ]
          },
          "execution_count": 104,
          "metadata": {},
          "output_type": "execute_result"
        },
        {
          "data": {
            "text/plain": [
              "0    3219\n",
              "1     206\n",
              "Name: heart_disease, dtype: int64"
            ]
          },
          "execution_count": 104,
          "metadata": {},
          "output_type": "execute_result"
        },
        {
          "data": {
            "text/plain": [
              "0    3017\n",
              "1     408\n",
              "Name: hypertension, dtype: int64"
            ]
          },
          "execution_count": 104,
          "metadata": {},
          "output_type": "execute_result"
        },
        {
          "data": {
            "text/plain": [
              "Urban    1745\n",
              "Rural    1680\n",
              "Name: Residence_type, dtype: int64"
            ]
          },
          "execution_count": 104,
          "metadata": {},
          "output_type": "execute_result"
        },
        {
          "data": {
            "text/plain": [
              "never smoked       1852\n",
              "formerly smoked     836\n",
              "smokes              737\n",
              "Unknown               0\n",
              "Name: smoking_status, dtype: int64"
            ]
          },
          "execution_count": 104,
          "metadata": {},
          "output_type": "execute_result"
        },
        {
          "data": {
            "text/plain": [
              "0    3245\n",
              "1     180\n",
              "Name: stroke, dtype: int64"
            ]
          },
          "execution_count": 104,
          "metadata": {},
          "output_type": "execute_result"
        },
        {
          "data": {
            "text/plain": [
              "Private          2200\n",
              "Self-employed     629\n",
              "Govt_job          514\n",
              "children           68\n",
              "Never_worked       14\n",
              "Name: work_type, dtype: int64"
            ]
          },
          "execution_count": 104,
          "metadata": {},
          "output_type": "execute_result"
        }
      ],
      "source": [
        "dados['ever_married'].value_counts()\n",
        "dados['faixaIdade'].value_counts()\n",
        "dados['faixaIMC'].value_counts()\n",
        "dados['faixaGlicose'].value_counts()\n",
        "dados['gender'].value_counts() \n",
        "dados['heart_disease'].value_counts()\n",
        "dados['hypertension'].value_counts()\n",
        "dados['Residence_type'].value_counts()\n",
        "dados['smoking_status'].value_counts()\n",
        "dados['stroke'].value_counts()\n",
        "dados['work_type'].value_counts()\n"
      ]
    },
    {
      "cell_type": "code",
      "execution_count": 105,
      "metadata": {},
      "outputs": [
        {
          "data": {
            "text/plain": [
              "0.052554744525547446"
            ]
          },
          "execution_count": 105,
          "metadata": {},
          "output_type": "execute_result"
        }
      ],
      "source": [
        "len(dados[dados.stroke == 1])/len(dados)"
      ]
    },
    {
      "cell_type": "code",
      "execution_count": 106,
      "metadata": {},
      "outputs": [
        {
          "data": {
            "text/plain": [
              "<AxesSubplot:xlabel='heart_disease', ylabel='count'>"
            ]
          },
          "execution_count": 106,
          "metadata": {},
          "output_type": "execute_result"
        },
        {
          "data": {
            "image/png": "[encoded data removed]",
            "text/plain": [
              "<Figure size 432x288 with 1 Axes>"
            ]
          },
          "metadata": {
            "needs_background": "light"
          },
          "output_type": "display_data"
        }
      ],
      "source": [
        "sns.countplot(x=\"heart_disease\", data=dados[dados['stroke']==1])"
      ]
    },
    {
      "cell_type": "code",
      "execution_count": 107,
      "metadata": {},
      "outputs": [
        {
          "data": {
            "text/plain": [
              "[Text(0.5, 0, 'Idade'),\n",
              " Text(0, 0.5, 'Número de pessoas'),\n",
              " Text(0.5, 1.0, 'Distribuição de idades')]"
            ]
          },
          "execution_count": 107,
          "metadata": {},
          "output_type": "execute_result"
        },
        {
          "data": {
            "text/plain": [
              "[Text(0.5, 0, 'Nível médio de glicose (mg/dL)'),\n",
              " Text(0, 0.5, 'Número de pessoas'),\n",
              " Text(0.5, 1.0, 'Distribuição do nível médio de glicose')]"
            ]
          },
          "execution_count": 107,
          "metadata": {},
          "output_type": "execute_result"
        },
        {
          "data": {
            "text/plain": [
              "[Text(0.5, 0, 'IMC (kg/m²)'),\n",
              " Text(0, 0.5, 'Número de pessoas'),\n",
              " Text(0.5, 1.0, 'Distribuição do IMC')]"
            ]
          },
          "execution_count": 107,
          "metadata": {},
          "output_type": "execute_result"
        },
        {
          "data": {
            "image/png": "[encoded data removed]",
            "text/plain": [
              "<Figure size 1440x360 with 3 Axes>"
            ]
          },
          "metadata": {
            "needs_background": "light"
          },
          "output_type": "display_data"
        }
      ],
      "source": [
        "corGraficos = sns.color_palette(\"husl\", 5)[3]\n",
        "fig, axes = plt.subplots(1, 3, figsize=(20, 5), sharey=False)\n",
        "vis1 = sns.histplot(ax = axes[0], data=dados, x=\"age\", color=corGraficos)\n",
        "vis1.set(xlabel='Idade', ylabel='Número de pessoas', title = \"Distribuição de idades\")\n",
        "vis2 = sns.histplot(ax=axes[2], data=dados, x=\"avg_glucose_level\", color=corGraficos)\n",
        "vis2.set(xlabel='Nível médio de glicose (mg/dL)', ylabel='Número de pessoas', title = \"Distribuição do nível médio de glicose\")\n",
        "vis3 = sns.histplot(ax = axes[1],data=dados, x=\"bmi\", color=corGraficos)\n",
        "vis3.set(xlabel='IMC (kg/m²)', ylabel='Número de pessoas', title = \"Distribuição do IMC\")"
      ]
    },
    {
      "cell_type": "code",
      "execution_count": 108,
      "metadata": {},
      "outputs": [
        {
          "data": {
            "text/plain": [
              "<AxesSubplot:xlabel='age', ylabel='bmi'>"
            ]
          },
          "execution_count": 108,
          "metadata": {},
          "output_type": "execute_result"
        },
        {
          "data": {
            "image/png": "[encoded data removed]",
            "text/plain": [
              "<Figure size 432x288 with 1 Axes>"
            ]
          },
          "metadata": {
            "needs_background": "light"
          },
          "output_type": "display_data"
        }
      ],
      "source": [
        "sns.scatterplot(data=dados, x=\"age\", y=\"bmi\", hue=dados['stroke'])"
      ]
    },
    {
      "cell_type": "code",
      "execution_count": 109,
      "metadata": {},
      "outputs": [
        {
          "data": {
            "text/plain": [
              "<AxesSubplot:xlabel='bmi', ylabel='avg_glucose_level'>"
            ]
          },
          "execution_count": 109,
          "metadata": {},
          "output_type": "execute_result"
        },
        {
          "data": {
            "image/png": "[encoded data removed]",
            "text/plain": [
              "<Figure size 432x288 with 1 Axes>"
            ]
          },
          "metadata": {
            "needs_background": "light"
          },
          "output_type": "display_data"
        }
      ],
      "source": [
        "sns.scatterplot(data=dados, x=\"bmi\", y=\"avg_glucose_level\", hue=dados['stroke'])"
      ]
    },
    {
      "cell_type": "code",
      "execution_count": 110,
      "metadata": {},
      "outputs": [
        {
          "data": {
            "text/plain": [
              "<AxesSubplot:xlabel='age', ylabel='avg_glucose_level'>"
            ]
          },
          "execution_count": 110,
          "metadata": {},
          "output_type": "execute_result"
        },
        {
          "data": {
            "image/png": "[encoded data removed]",
            "text/plain": [
              "<Figure size 432x288 with 1 Axes>"
            ]
          },
          "metadata": {
            "needs_background": "light"
          },
          "output_type": "display_data"
        }
      ],
      "source": [
        "sns.scatterplot(data=dados, x=\"age\", y=\"avg_glucose_level\", hue=dados['stroke'])"
      ]
    },
    {
      "cell_type": "code",
      "execution_count": 111,
      "metadata": {},
      "outputs": [],
      "source": [
        "### Fazer os graficos para as categoricas (4 plots por janela)\n",
        "### Fazer os graficos para as categoricas apenas para stroke==1"
      ]
    },
    {
      "cell_type": "code",
      "execution_count": 112,
      "metadata": {},
      "outputs": [
        {
          "data": {
            "text/html": [
              "<div>\n",
              "<style scoped>\n",
              "    .dataframe tbody tr th:only-of-type {\n",
              "        vertical-align: middle;\n",
              "    }\n",
              "\n",
              "    .dataframe tbody tr th {\n",
              "        vertical-align: top;\n",
              "    }\n",
              "\n",
              "    .dataframe thead th {\n",
              "        text-align: right;\n",
              "    }\n",
              "</style>\n",
              "<table border=\"1\" class=\"dataframe\">\n",
              "  <thead>\n",
              "    <tr style=\"text-align: right;\">\n",
              "      <th></th>\n",
              "      <th>id</th>\n",
              "      <th>gender</th>\n",
              "      <th>age</th>\n",
              "      <th>hypertension</th>\n",
              "      <th>heart_disease</th>\n",
              "      <th>ever_married</th>\n",
              "      <th>work_type</th>\n",
              "      <th>Residence_type</th>\n",
              "      <th>avg_glucose_level</th>\n",
              "      <th>bmi</th>\n",
              "      <th>smoking_status</th>\n",
              "      <th>stroke</th>\n",
              "      <th>faixaIdade</th>\n",
              "      <th>faixaIMC</th>\n",
              "      <th>faixaGlicose</th>\n",
              "    </tr>\n",
              "  </thead>\n",
              "  <tbody>\n",
              "    <tr>\n",
              "      <th>0</th>\n",
              "      <td>9046</td>\n",
              "      <td>Male</td>\n",
              "      <td>67.0</td>\n",
              "      <td>0</td>\n",
              "      <td>1</td>\n",
              "      <td>Yes</td>\n",
              "      <td>Private</td>\n",
              "      <td>Urban</td>\n",
              "      <td>228.69</td>\n",
              "      <td>36.6</td>\n",
              "      <td>formerly smoked</td>\n",
              "      <td>1</td>\n",
              "      <td>(50, 75]</td>\n",
              "      <td>(30.0, 40.0]</td>\n",
              "      <td>(125, 300]</td>\n",
              "    </tr>\n",
              "    <tr>\n",
              "      <th>2</th>\n",
              "      <td>31112</td>\n",
              "      <td>Male</td>\n",
              "      <td>80.0</td>\n",
              "      <td>0</td>\n",
              "      <td>1</td>\n",
              "      <td>Yes</td>\n",
              "      <td>Private</td>\n",
              "      <td>Rural</td>\n",
              "      <td>105.92</td>\n",
              "      <td>32.5</td>\n",
              "      <td>never smoked</td>\n",
              "      <td>1</td>\n",
              "      <td>(75, 90]</td>\n",
              "      <td>(30.0, 40.0]</td>\n",
              "      <td>(100, 125]</td>\n",
              "    </tr>\n",
              "    <tr>\n",
              "      <th>3</th>\n",
              "      <td>60182</td>\n",
              "      <td>Female</td>\n",
              "      <td>49.0</td>\n",
              "      <td>0</td>\n",
              "      <td>0</td>\n",
              "      <td>Yes</td>\n",
              "      <td>Private</td>\n",
              "      <td>Urban</td>\n",
              "      <td>171.23</td>\n",
              "      <td>34.4</td>\n",
              "      <td>smokes</td>\n",
              "      <td>1</td>\n",
              "      <td>(25, 50]</td>\n",
              "      <td>(30.0, 40.0]</td>\n",
              "      <td>(125, 300]</td>\n",
              "    </tr>\n",
              "    <tr>\n",
              "      <th>4</th>\n",
              "      <td>1665</td>\n",
              "      <td>Female</td>\n",
              "      <td>79.0</td>\n",
              "      <td>1</td>\n",
              "      <td>0</td>\n",
              "      <td>Yes</td>\n",
              "      <td>Self-employed</td>\n",
              "      <td>Rural</td>\n",
              "      <td>174.12</td>\n",
              "      <td>24.0</td>\n",
              "      <td>never smoked</td>\n",
              "      <td>1</td>\n",
              "      <td>(75, 90]</td>\n",
              "      <td>(18.5, 25.0]</td>\n",
              "      <td>(125, 300]</td>\n",
              "    </tr>\n",
              "    <tr>\n",
              "      <th>5</th>\n",
              "      <td>56669</td>\n",
              "      <td>Male</td>\n",
              "      <td>81.0</td>\n",
              "      <td>0</td>\n",
              "      <td>0</td>\n",
              "      <td>Yes</td>\n",
              "      <td>Private</td>\n",
              "      <td>Urban</td>\n",
              "      <td>186.21</td>\n",
              "      <td>29.0</td>\n",
              "      <td>formerly smoked</td>\n",
              "      <td>1</td>\n",
              "      <td>(75, 90]</td>\n",
              "      <td>(25.0, 30.0]</td>\n",
              "      <td>(125, 300]</td>\n",
              "    </tr>\n",
              "  </tbody>\n",
              "</table>\n",
              "</div>"
            ],
            "text/plain": [
              "      id  gender   age hypertension heart_disease ever_married      work_type  \\\n",
              "0   9046    Male  67.0            0             1          Yes        Private   \n",
              "2  31112    Male  80.0            0             1          Yes        Private   \n",
              "3  60182  Female  49.0            0             0          Yes        Private   \n",
              "4   1665  Female  79.0            1             0          Yes  Self-employed   \n",
              "5  56669    Male  81.0            0             0          Yes        Private   \n",
              "\n",
              "  Residence_type  avg_glucose_level   bmi   smoking_status stroke faixaIdade  \\\n",
              "0          Urban             228.69  36.6  formerly smoked      1   (50, 75]   \n",
              "2          Rural             105.92  32.5     never smoked      1   (75, 90]   \n",
              "3          Urban             171.23  34.4           smokes      1   (25, 50]   \n",
              "4          Rural             174.12  24.0     never smoked      1   (75, 90]   \n",
              "5          Urban             186.21  29.0  formerly smoked      1   (75, 90]   \n",
              "\n",
              "       faixaIMC faixaGlicose  \n",
              "0  (30.0, 40.0]   (125, 300]  \n",
              "2  (30.0, 40.0]   (100, 125]  \n",
              "3  (30.0, 40.0]   (125, 300]  \n",
              "4  (18.5, 25.0]   (125, 300]  \n",
              "5  (25.0, 30.0]   (125, 300]  "
            ]
          },
          "execution_count": 112,
          "metadata": {},
          "output_type": "execute_result"
        }
      ],
      "source": [
        "dados.head()"
      ]
    },
    {
      "cell_type": "code",
      "execution_count": 113,
      "metadata": {},
      "outputs": [
        {
          "data": {
            "text/plain": [
              "Text(0.5, 0.98, 'Frequência de atributos de pessoas sem AVC')"
            ]
          },
          "execution_count": 113,
          "metadata": {},
          "output_type": "execute_result"
        },
        {
          "data": {
            "text/plain": [
              "<AxesSubplot:xlabel='heart_disease', ylabel='count'>"
            ]
          },
          "execution_count": 113,
          "metadata": {},
          "output_type": "execute_result"
        },
        {
          "data": {
            "text/plain": [
              "Text(0, 0.5, 'Número de Pessoas')"
            ]
          },
          "execution_count": 113,
          "metadata": {},
          "output_type": "execute_result"
        },
        {
          "data": {
            "text/plain": [
              "Text(0.5, 0, 'Doença do coração')"
            ]
          },
          "execution_count": 113,
          "metadata": {},
          "output_type": "execute_result"
        },
        {
          "data": {
            "text/plain": [
              "[Text(0, 0, 'Não'), Text(1, 0, 'Sim')]"
            ]
          },
          "execution_count": 113,
          "metadata": {},
          "output_type": "execute_result"
        },
        {
          "data": {
            "text/plain": [
              "<AxesSubplot:xlabel='hypertension', ylabel='count'>"
            ]
          },
          "execution_count": 113,
          "metadata": {},
          "output_type": "execute_result"
        },
        {
          "data": {
            "text/plain": [
              "Text(0, 0.5, 'Número de Pessoas')"
            ]
          },
          "execution_count": 113,
          "metadata": {},
          "output_type": "execute_result"
        },
        {
          "data": {
            "text/plain": [
              "Text(0.5, 0, 'Hipertensão')"
            ]
          },
          "execution_count": 113,
          "metadata": {},
          "output_type": "execute_result"
        },
        {
          "data": {
            "text/plain": [
              "[Text(0, 0, 'Não'), Text(1, 0, 'Sim')]"
            ]
          },
          "execution_count": 113,
          "metadata": {},
          "output_type": "execute_result"
        },
        {
          "data": {
            "text/plain": [
              "<AxesSubplot:xlabel='faixaIdade', ylabel='count'>"
            ]
          },
          "execution_count": 113,
          "metadata": {},
          "output_type": "execute_result"
        },
        {
          "data": {
            "text/plain": [
              "Text(0, 0.5, 'Número de Pessoas')"
            ]
          },
          "execution_count": 113,
          "metadata": {},
          "output_type": "execute_result"
        },
        {
          "data": {
            "text/plain": [
              "Text(0.5, 0, 'Faixas de idade')"
            ]
          },
          "execution_count": 113,
          "metadata": {},
          "output_type": "execute_result"
        },
        {
          "data": {
            "text/plain": [
              "<AxesSubplot:xlabel='faixaGlicose', ylabel='count'>"
            ]
          },
          "execution_count": 113,
          "metadata": {},
          "output_type": "execute_result"
        },
        {
          "data": {
            "text/plain": [
              "Text(0, 0.5, 'Número de Pessoas')"
            ]
          },
          "execution_count": 113,
          "metadata": {},
          "output_type": "execute_result"
        },
        {
          "data": {
            "text/plain": [
              "Text(0.5, 0, 'Faixas de glicose')"
            ]
          },
          "execution_count": 113,
          "metadata": {},
          "output_type": "execute_result"
        },
        {
          "data": {
            "image/png": "[encoded data removed]",
            "text/plain": [
              "<Figure size 1008x720 with 4 Axes>"
            ]
          },
          "metadata": {
            "needs_background": "light"
          },
          "output_type": "display_data"
        }
      ],
      "source": [
        "fig, axes = plt.subplots(2, 2, figsize=(14, 10), sharey=False)\n",
        "plt.subplots_adjust(hspace = .4)\n",
        "fig.suptitle(\"Frequência de atributos de pessoas sem AVC\", fontsize=20)\n",
        "\n",
        "sns.countplot(ax=axes[0,0], x=\"heart_disease\", data=dados[dados['stroke']==0])\n",
        "axes[0,0].tick_params(rotation=90, axis='x')\n",
        "axes[0,0].set_ylabel('Número de Pessoas')\n",
        "axes[0,0].set_xlabel('Doença do coração')\n",
        "axes[0,0].set_xticklabels([\"Não\", \"Sim\"])\n",
        "\n",
        "sns.countplot(ax=axes[0,1], x=\"hypertension\", data=dados[dados['stroke']==0])\n",
        "axes[0,1].tick_params(rotation=90, axis='x')\n",
        "axes[0,1].set_ylabel('Número de Pessoas')\n",
        "axes[0,1].set_xlabel('Hipertensão')\n",
        "axes[0,1].set_xticklabels([\"Não\", \"Sim\"])\n",
        "\n",
        "sns.countplot(ax=axes[1,0], x=\"faixaIdade\", data=dados[dados['stroke']==0])\n",
        "axes[1,0].tick_params(rotation=90, axis='x')\n",
        "axes[1,0].set_ylabel('Número de Pessoas')\n",
        "axes[1,0].set_xlabel('Faixas de idade')\n",
        "\n",
        "sns.countplot(ax=axes[1,1], x=\"faixaGlicose\", data=dados[dados['stroke']==0])\n",
        "axes[1,1].tick_params(rotation=90, axis='x')\n",
        "axes[1,1].set_ylabel('Número de Pessoas')\n",
        "axes[1,1].set_xlabel('Faixas de glicose')"
      ]
    },
    {
      "cell_type": "code",
      "execution_count": 114,
      "metadata": {},
      "outputs": [
        {
          "data": {
            "text/html": [
              "<div>\n",
              "<style scoped>\n",
              "    .dataframe tbody tr th:only-of-type {\n",
              "        vertical-align: middle;\n",
              "    }\n",
              "\n",
              "    .dataframe tbody tr th {\n",
              "        vertical-align: top;\n",
              "    }\n",
              "\n",
              "    .dataframe thead th {\n",
              "        text-align: right;\n",
              "    }\n",
              "</style>\n",
              "<table border=\"1\" class=\"dataframe\">\n",
              "  <thead>\n",
              "    <tr style=\"text-align: right;\">\n",
              "      <th></th>\n",
              "      <th>id</th>\n",
              "      <th>age</th>\n",
              "      <th>avg_glucose_level</th>\n",
              "      <th>bmi</th>\n",
              "    </tr>\n",
              "  </thead>\n",
              "  <tbody>\n",
              "    <tr>\n",
              "      <th>count</th>\n",
              "      <td>3425.000000</td>\n",
              "      <td>3425.000000</td>\n",
              "      <td>3425.000000</td>\n",
              "      <td>3425.000000</td>\n",
              "    </tr>\n",
              "    <tr>\n",
              "      <th>mean</th>\n",
              "      <td>37333.512117</td>\n",
              "      <td>48.652555</td>\n",
              "      <td>108.311670</td>\n",
              "      <td>30.292350</td>\n",
              "    </tr>\n",
              "    <tr>\n",
              "      <th>std</th>\n",
              "      <td>21050.593185</td>\n",
              "      <td>18.850018</td>\n",
              "      <td>47.706754</td>\n",
              "      <td>7.295778</td>\n",
              "    </tr>\n",
              "    <tr>\n",
              "      <th>min</th>\n",
              "      <td>84.000000</td>\n",
              "      <td>10.000000</td>\n",
              "      <td>55.120000</td>\n",
              "      <td>11.500000</td>\n",
              "    </tr>\n",
              "    <tr>\n",
              "      <th>25%</th>\n",
              "      <td>18986.000000</td>\n",
              "      <td>34.000000</td>\n",
              "      <td>77.230000</td>\n",
              "      <td>25.300000</td>\n",
              "    </tr>\n",
              "    <tr>\n",
              "      <th>50%</th>\n",
              "      <td>38067.000000</td>\n",
              "      <td>50.000000</td>\n",
              "      <td>92.350000</td>\n",
              "      <td>29.100000</td>\n",
              "    </tr>\n",
              "    <tr>\n",
              "      <th>75%</th>\n",
              "      <td>55459.000000</td>\n",
              "      <td>63.000000</td>\n",
              "      <td>116.200000</td>\n",
              "      <td>34.100000</td>\n",
              "    </tr>\n",
              "    <tr>\n",
              "      <th>max</th>\n",
              "      <td>72915.000000</td>\n",
              "      <td>82.000000</td>\n",
              "      <td>271.740000</td>\n",
              "      <td>92.000000</td>\n",
              "    </tr>\n",
              "  </tbody>\n",
              "</table>\n",
              "</div>"
            ],
            "text/plain": [
              "                 id          age  avg_glucose_level          bmi\n",
              "count   3425.000000  3425.000000        3425.000000  3425.000000\n",
              "mean   37333.512117    48.652555         108.311670    30.292350\n",
              "std    21050.593185    18.850018          47.706754     7.295778\n",
              "min       84.000000    10.000000          55.120000    11.500000\n",
              "25%    18986.000000    34.000000          77.230000    25.300000\n",
              "50%    38067.000000    50.000000          92.350000    29.100000\n",
              "75%    55459.000000    63.000000         116.200000    34.100000\n",
              "max    72915.000000    82.000000         271.740000    92.000000"
            ]
          },
          "execution_count": 114,
          "metadata": {},
          "output_type": "execute_result"
        }
      ],
      "source": [
        "dados.describe()"
      ]
    },
    {
      "cell_type": "code",
      "execution_count": 115,
      "metadata": {},
      "outputs": [
        {
          "data": {
            "text/plain": [
              "Text(0.5, 0.98, 'Frequência de atributos de pessoas com AVC')"
            ]
          },
          "execution_count": 115,
          "metadata": {},
          "output_type": "execute_result"
        },
        {
          "data": {
            "text/plain": [
              "<AxesSubplot:xlabel='heart_disease', ylabel='count'>"
            ]
          },
          "execution_count": 115,
          "metadata": {},
          "output_type": "execute_result"
        },
        {
          "data": {
            "text/plain": [
              "Text(0, 0.5, 'Número de Pessoas')"
            ]
          },
          "execution_count": 115,
          "metadata": {},
          "output_type": "execute_result"
        },
        {
          "data": {
            "text/plain": [
              "Text(0.5, 0, 'Doença do coração')"
            ]
          },
          "execution_count": 115,
          "metadata": {},
          "output_type": "execute_result"
        },
        {
          "data": {
            "text/plain": [
              "[Text(0, 0, 'Não'), Text(1, 0, 'Sim')]"
            ]
          },
          "execution_count": 115,
          "metadata": {},
          "output_type": "execute_result"
        },
        {
          "data": {
            "text/plain": [
              "<AxesSubplot:xlabel='hypertension', ylabel='count'>"
            ]
          },
          "execution_count": 115,
          "metadata": {},
          "output_type": "execute_result"
        },
        {
          "data": {
            "text/plain": [
              "Text(0, 0.5, 'Número de Pessoas')"
            ]
          },
          "execution_count": 115,
          "metadata": {},
          "output_type": "execute_result"
        },
        {
          "data": {
            "text/plain": [
              "Text(0.5, 0, 'Hipertensão')"
            ]
          },
          "execution_count": 115,
          "metadata": {},
          "output_type": "execute_result"
        },
        {
          "data": {
            "text/plain": [
              "[Text(0, 0, 'Não'), Text(1, 0, 'Sim')]"
            ]
          },
          "execution_count": 115,
          "metadata": {},
          "output_type": "execute_result"
        },
        {
          "data": {
            "text/plain": [
              "<AxesSubplot:xlabel='faixaIdade', ylabel='count'>"
            ]
          },
          "execution_count": 115,
          "metadata": {},
          "output_type": "execute_result"
        },
        {
          "data": {
            "text/plain": [
              "Text(0, 0.5, 'Número de Pessoas')"
            ]
          },
          "execution_count": 115,
          "metadata": {},
          "output_type": "execute_result"
        },
        {
          "data": {
            "text/plain": [
              "Text(0.5, 0, 'Faixas de idade')"
            ]
          },
          "execution_count": 115,
          "metadata": {},
          "output_type": "execute_result"
        },
        {
          "data": {
            "text/plain": [
              "<AxesSubplot:xlabel='faixaGlicose', ylabel='count'>"
            ]
          },
          "execution_count": 115,
          "metadata": {},
          "output_type": "execute_result"
        },
        {
          "data": {
            "text/plain": [
              "Text(0, 0.5, 'Número de Pessoas')"
            ]
          },
          "execution_count": 115,
          "metadata": {},
          "output_type": "execute_result"
        },
        {
          "data": {
            "text/plain": [
              "Text(0.5, 0, 'Faixas de glicose')"
            ]
          },
          "execution_count": 115,
          "metadata": {},
          "output_type": "execute_result"
        },
        {
          "data": {
            "image/png": "[encoded data removed]",
            "text/plain": [
              "<Figure size 1008x720 with 4 Axes>"
            ]
          },
          "metadata": {
            "needs_background": "light"
          },
          "output_type": "display_data"
        }
      ],
      "source": [
        "fig, axes = plt.subplots(2, 2, figsize=(14, 10), sharey=False)\n",
        "plt.subplots_adjust(hspace = .4)\n",
        "fig.suptitle(\"Frequência de atributos de pessoas com AVC\", fontsize=20)\n",
        "\n",
        "sns.countplot(ax=axes[0,0], x=\"heart_disease\", data=dados[dados['stroke']==1])\n",
        "axes[0,0].tick_params(rotation=90, axis='x')\n",
        "axes[0,0].set_ylabel('Número de Pessoas')\n",
        "axes[0,0].set_xlabel('Doença do coração')\n",
        "axes[0,0].set_xticklabels([\"Não\", \"Sim\"])\n",
        "\n",
        "sns.countplot(ax=axes[0,1], x=\"hypertension\", data=dados[dados['stroke']==1])\n",
        "axes[0,1].tick_params(rotation=90, axis='x')\n",
        "axes[0,1].set_ylabel('Número de Pessoas')\n",
        "axes[0,1].set_xlabel('Hipertensão')\n",
        "axes[0,1].set_xticklabels([\"Não\", \"Sim\"])\n",
        "\n",
        "sns.countplot(ax=axes[1,0], x=\"faixaIdade\", data=dados[dados['stroke']==1])\n",
        "axes[1,0].tick_params(rotation=90, axis='x')\n",
        "axes[1,0].set_ylabel('Número de Pessoas')\n",
        "axes[1,0].set_xlabel('Faixas de idade')\n",
        "\n",
        "sns.countplot(ax=axes[1,1], x=\"faixaGlicose\", data=dados[dados['stroke']==1])\n",
        "axes[1,1].tick_params(rotation=90, axis='x')\n",
        "axes[1,1].set_ylabel('Número de Pessoas')\n",
        "axes[1,1].set_xlabel('Faixas de glicose')"
      ]
    },
    {
      "cell_type": "code",
      "execution_count": 116,
      "metadata": {},
      "outputs": [
        {
          "data": {
            "text/html": [
              "<div>\n",
              "<style scoped>\n",
              "    .dataframe tbody tr th:only-of-type {\n",
              "        vertical-align: middle;\n",
              "    }\n",
              "\n",
              "    .dataframe tbody tr th {\n",
              "        vertical-align: top;\n",
              "    }\n",
              "\n",
              "    .dataframe thead th {\n",
              "        text-align: right;\n",
              "    }\n",
              "</style>\n",
              "<table border=\"1\" class=\"dataframe\">\n",
              "  <thead>\n",
              "    <tr style=\"text-align: right;\">\n",
              "      <th></th>\n",
              "      <th>id</th>\n",
              "      <th>age</th>\n",
              "      <th>avg_glucose_level</th>\n",
              "      <th>bmi</th>\n",
              "    </tr>\n",
              "  </thead>\n",
              "  <tbody>\n",
              "    <tr>\n",
              "      <th>id</th>\n",
              "      <td>1.000000</td>\n",
              "      <td>-0.003178</td>\n",
              "      <td>0.004135</td>\n",
              "      <td>-0.003581</td>\n",
              "    </tr>\n",
              "    <tr>\n",
              "      <th>age</th>\n",
              "      <td>-0.003178</td>\n",
              "      <td>1.000000</td>\n",
              "      <td>0.233974</td>\n",
              "      <td>0.079317</td>\n",
              "    </tr>\n",
              "    <tr>\n",
              "      <th>avg_glucose_level</th>\n",
              "      <td>0.004135</td>\n",
              "      <td>0.233974</td>\n",
              "      <td>1.000000</td>\n",
              "      <td>0.156675</td>\n",
              "    </tr>\n",
              "    <tr>\n",
              "      <th>bmi</th>\n",
              "      <td>-0.003581</td>\n",
              "      <td>0.079317</td>\n",
              "      <td>0.156675</td>\n",
              "      <td>1.000000</td>\n",
              "    </tr>\n",
              "  </tbody>\n",
              "</table>\n",
              "</div>"
            ],
            "text/plain": [
              "                         id       age  avg_glucose_level       bmi\n",
              "id                 1.000000 -0.003178           0.004135 -0.003581\n",
              "age               -0.003178  1.000000           0.233974  0.079317\n",
              "avg_glucose_level  0.004135  0.233974           1.000000  0.156675\n",
              "bmi               -0.003581  0.079317           0.156675  1.000000"
            ]
          },
          "execution_count": 116,
          "metadata": {},
          "output_type": "execute_result"
        }
      ],
      "source": [
        "dados.corr(method='pearson')"
      ]
    },
    {
      "cell_type": "code",
      "execution_count": 117,
      "metadata": {},
      "outputs": [
        {
          "data": {
            "text/plain": [
              "Text(0.5, 1.0, 'Matriz de Correlação de Pearson')"
            ]
          },
          "execution_count": 117,
          "metadata": {},
          "output_type": "execute_result"
        },
        {
          "data": {
            "image/png": "[encoded data removed]",
            "text/plain": [
              "<Figure size 432x288 with 2 Axes>"
            ]
          },
          "metadata": {
            "needs_background": "light"
          },
          "output_type": "display_data"
        }
      ],
      "source": [
        "correlation_mat = dados.drop(columns = \"id\").corr()\n",
        "\n",
        "vis4 = sns.heatmap(correlation_mat, annot = True)\n",
        "vis4.set_title(\"Matriz de Correlação de Pearson\")\n",
        "\n",
        "plt.show()"
      ]
    },
    {
      "cell_type": "code",
      "execution_count": 118,
      "metadata": {},
      "outputs": [
        {
          "name": "stdout",
          "output_type": "stream",
          "text": [
            "gender 0.5169941898164226\n",
            "hypertension 1.158585663228229e-16\n",
            "heart_disease 1.915166158182386e-15\n",
            "ever_married 4.114765555930653e-05\n",
            "work_type 0.012797151633768608\n",
            "smoking_status 0.049062271297848944\n",
            "Residence_type 0.7837084243991301\n",
            "faixaIdade 8.74754958846977e-48\n",
            "faixaIMC 0.3078160316983966\n",
            "faixaGlicose 1.277924947059737e-11\n"
          ]
        }
      ],
      "source": [
        "varCategoricas = ['gender', 'hypertension', 'heart_disease', 'ever_married', 'work_type', 'smoking_status', 'Residence_type', 'faixaIdade', 'faixaIMC', 'faixaGlicose']\n",
        "\n",
        "pvalores = []\n",
        "\n",
        "for variavel in varCategoricas:\n",
        "    crosstab = pd.crosstab(dados[\"stroke\"], dados[variavel])\n",
        "    pvalor = stats.chi2_contingency(crosstab)[1]\n",
        "    pvalores.append(pvalor)\n",
        "    print(variavel, pvalor)"
      ]
    },
    {
      "cell_type": "code",
      "execution_count": 119,
      "metadata": {},
      "outputs": [
        {
          "data": {
            "text/html": [
              "<div>\n",
              "<style scoped>\n",
              "    .dataframe tbody tr th:only-of-type {\n",
              "        vertical-align: middle;\n",
              "    }\n",
              "\n",
              "    .dataframe tbody tr th {\n",
              "        vertical-align: top;\n",
              "    }\n",
              "\n",
              "    .dataframe thead th {\n",
              "        text-align: right;\n",
              "    }\n",
              "</style>\n",
              "<table border=\"1\" class=\"dataframe\">\n",
              "  <thead>\n",
              "    <tr style=\"text-align: right;\">\n",
              "      <th></th>\n",
              "      <th>Chi-square test</th>\n",
              "      <th>results</th>\n",
              "    </tr>\n",
              "  </thead>\n",
              "  <tbody>\n",
              "    <tr>\n",
              "      <th>0</th>\n",
              "      <td>Pearson Chi-square ( 1.0) =</td>\n",
              "      <td>65.7357</td>\n",
              "    </tr>\n",
              "    <tr>\n",
              "      <th>1</th>\n",
              "      <td>p-value =</td>\n",
              "      <td>0.0000</td>\n",
              "    </tr>\n",
              "    <tr>\n",
              "      <th>2</th>\n",
              "      <td>Cramer's phi =</td>\n",
              "      <td>0.1385</td>\n",
              "    </tr>\n",
              "  </tbody>\n",
              "</table>\n",
              "</div>"
            ],
            "text/plain": [
              "                Chi-square test  results\n",
              "0  Pearson Chi-square ( 1.0) =   65.7357\n",
              "1                    p-value =    0.0000\n",
              "2               Cramer's phi =    0.1385"
            ]
          },
          "execution_count": 119,
          "metadata": {},
          "output_type": "execute_result"
        }
      ],
      "source": [
        "crosstab, test_results, expected = rp.crosstab(dados[\"stroke\"], dados[\"heart_disease\"],\n",
        "                                               test= \"chi-square\",\n",
        "                                               expected_freqs = True,\n",
        "                                               prop= \"cell\")\n",
        "\n",
        "#crosstab\n",
        "test_results"
      ]
    },
    {
      "cell_type": "markdown",
      "metadata": {},
      "source": [
        "## Discretizando variáveis contínuas"
      ]
    },
    {
      "cell_type": "code",
      "execution_count": 120,
      "metadata": {},
      "outputs": [],
      "source": [
        "dados['faixaIdade'] = pd.cut(dados['age'], [0, 10, 25, 50, 75, 90])"
      ]
    },
    {
      "cell_type": "code",
      "execution_count": 121,
      "metadata": {},
      "outputs": [],
      "source": [
        "dados['faixaIMC'] = pd.cut(dados['bmi'], [0, 18.5, 25, 30, 40, 100])"
      ]
    },
    {
      "cell_type": "code",
      "execution_count": 122,
      "metadata": {},
      "outputs": [],
      "source": [
        "dados['faixaGlicose'] = pd.cut(dados['avg_glucose_level'], [0, 70, 100, 125, 300])\n",
        "#https://www.who.int/data/gho/indicator-metadata-registry/imr-details/2380"
      ]
    },
    {
      "cell_type": "code",
      "execution_count": 123,
      "metadata": {},
      "outputs": [],
      "source": [
        "dados['faixaIdade'] = dados['faixaIdade'].astype('category')\n",
        "dados['faixaIMC'] = dados['faixaIMC'].astype('category')\n",
        "dados['faixaGlicose'] = dados['faixaGlicose'].astype('category')"
      ]
    },
    {
      "cell_type": "markdown",
      "metadata": {
        "id": "yYx_yZ-msOp0"
      },
      "source": [
        "# Classificador Naive Bayes"
      ]
    },
    {
      "cell_type": "markdown",
      "metadata": {},
      "source": [
        "## Com scikit"
      ]
    },
    {
      "cell_type": "markdown",
      "metadata": {},
      "source": [
        "Separando em dados de treinamento e teste"
      ]
    },
    {
      "cell_type": "code",
      "execution_count": 124,
      "metadata": {},
      "outputs": [
        {
          "data": {
            "text/html": [
              "<div>\n",
              "<style scoped>\n",
              "    .dataframe tbody tr th:only-of-type {\n",
              "        vertical-align: middle;\n",
              "    }\n",
              "\n",
              "    .dataframe tbody tr th {\n",
              "        vertical-align: top;\n",
              "    }\n",
              "\n",
              "    .dataframe thead th {\n",
              "        text-align: right;\n",
              "    }\n",
              "</style>\n",
              "<table border=\"1\" class=\"dataframe\">\n",
              "  <thead>\n",
              "    <tr style=\"text-align: right;\">\n",
              "      <th></th>\n",
              "      <th>id</th>\n",
              "      <th>gender</th>\n",
              "      <th>age</th>\n",
              "      <th>hypertension</th>\n",
              "      <th>heart_disease</th>\n",
              "      <th>ever_married</th>\n",
              "      <th>work_type</th>\n",
              "      <th>Residence_type</th>\n",
              "      <th>avg_glucose_level</th>\n",
              "      <th>bmi</th>\n",
              "      <th>smoking_status</th>\n",
              "      <th>stroke</th>\n",
              "      <th>faixaIdade</th>\n",
              "      <th>faixaIMC</th>\n",
              "      <th>faixaGlicose</th>\n",
              "    </tr>\n",
              "  </thead>\n",
              "  <tbody>\n",
              "    <tr>\n",
              "      <th>0</th>\n",
              "      <td>9046</td>\n",
              "      <td>Male</td>\n",
              "      <td>67.0</td>\n",
              "      <td>0</td>\n",
              "      <td>1</td>\n",
              "      <td>Yes</td>\n",
              "      <td>Private</td>\n",
              "      <td>Urban</td>\n",
              "      <td>228.69</td>\n",
              "      <td>36.6</td>\n",
              "      <td>formerly smoked</td>\n",
              "      <td>1</td>\n",
              "      <td>(50, 75]</td>\n",
              "      <td>(30.0, 40.0]</td>\n",
              "      <td>(125, 300]</td>\n",
              "    </tr>\n",
              "    <tr>\n",
              "      <th>2</th>\n",
              "      <td>31112</td>\n",
              "      <td>Male</td>\n",
              "      <td>80.0</td>\n",
              "      <td>0</td>\n",
              "      <td>1</td>\n",
              "      <td>Yes</td>\n",
              "      <td>Private</td>\n",
              "      <td>Rural</td>\n",
              "      <td>105.92</td>\n",
              "      <td>32.5</td>\n",
              "      <td>never smoked</td>\n",
              "      <td>1</td>\n",
              "      <td>(75, 90]</td>\n",
              "      <td>(30.0, 40.0]</td>\n",
              "      <td>(100, 125]</td>\n",
              "    </tr>\n",
              "    <tr>\n",
              "      <th>3</th>\n",
              "      <td>60182</td>\n",
              "      <td>Female</td>\n",
              "      <td>49.0</td>\n",
              "      <td>0</td>\n",
              "      <td>0</td>\n",
              "      <td>Yes</td>\n",
              "      <td>Private</td>\n",
              "      <td>Urban</td>\n",
              "      <td>171.23</td>\n",
              "      <td>34.4</td>\n",
              "      <td>smokes</td>\n",
              "      <td>1</td>\n",
              "      <td>(25, 50]</td>\n",
              "      <td>(30.0, 40.0]</td>\n",
              "      <td>(125, 300]</td>\n",
              "    </tr>\n",
              "    <tr>\n",
              "      <th>4</th>\n",
              "      <td>1665</td>\n",
              "      <td>Female</td>\n",
              "      <td>79.0</td>\n",
              "      <td>1</td>\n",
              "      <td>0</td>\n",
              "      <td>Yes</td>\n",
              "      <td>Self-employed</td>\n",
              "      <td>Rural</td>\n",
              "      <td>174.12</td>\n",
              "      <td>24.0</td>\n",
              "      <td>never smoked</td>\n",
              "      <td>1</td>\n",
              "      <td>(75, 90]</td>\n",
              "      <td>(18.5, 25.0]</td>\n",
              "      <td>(125, 300]</td>\n",
              "    </tr>\n",
              "    <tr>\n",
              "      <th>5</th>\n",
              "      <td>56669</td>\n",
              "      <td>Male</td>\n",
              "      <td>81.0</td>\n",
              "      <td>0</td>\n",
              "      <td>0</td>\n",
              "      <td>Yes</td>\n",
              "      <td>Private</td>\n",
              "      <td>Urban</td>\n",
              "      <td>186.21</td>\n",
              "      <td>29.0</td>\n",
              "      <td>formerly smoked</td>\n",
              "      <td>1</td>\n",
              "      <td>(75, 90]</td>\n",
              "      <td>(25.0, 30.0]</td>\n",
              "      <td>(125, 300]</td>\n",
              "    </tr>\n",
              "  </tbody>\n",
              "</table>\n",
              "</div>"
            ],
            "text/plain": [
              "      id  gender   age hypertension heart_disease ever_married      work_type  \\\n",
              "0   9046    Male  67.0            0             1          Yes        Private   \n",
              "2  31112    Male  80.0            0             1          Yes        Private   \n",
              "3  60182  Female  49.0            0             0          Yes        Private   \n",
              "4   1665  Female  79.0            1             0          Yes  Self-employed   \n",
              "5  56669    Male  81.0            0             0          Yes        Private   \n",
              "\n",
              "  Residence_type  avg_glucose_level   bmi   smoking_status stroke faixaIdade  \\\n",
              "0          Urban             228.69  36.6  formerly smoked      1   (50, 75]   \n",
              "2          Rural             105.92  32.5     never smoked      1   (75, 90]   \n",
              "3          Urban             171.23  34.4           smokes      1   (25, 50]   \n",
              "4          Rural             174.12  24.0     never smoked      1   (75, 90]   \n",
              "5          Urban             186.21  29.0  formerly smoked      1   (75, 90]   \n",
              "\n",
              "       faixaIMC faixaGlicose  \n",
              "0  (30.0, 40.0]   (125, 300]  \n",
              "2  (30.0, 40.0]   (100, 125]  \n",
              "3  (30.0, 40.0]   (125, 300]  \n",
              "4  (18.5, 25.0]   (125, 300]  \n",
              "5  (25.0, 30.0]   (125, 300]  "
            ]
          },
          "execution_count": 124,
          "metadata": {},
          "output_type": "execute_result"
        }
      ],
      "source": [
        "dados.head()"
      ]
    },
    {
      "cell_type": "code",
      "execution_count": 125,
      "metadata": {},
      "outputs": [],
      "source": [
        "X = dados.drop(columns='stroke')\n",
        "\n",
        "y = dados['stroke']\n",
        "\n",
        "X_train, X_test, y_train, y_test = train_test_split(X, y, test_size=0.3, random_state=42)\n",
        "\n"
      ]
    },
    {
      "cell_type": "markdown",
      "metadata": {},
      "source": [
        "Codificando as variáveis"
      ]
    },
    {
      "cell_type": "code",
      "execution_count": 126,
      "metadata": {},
      "outputs": [],
      "source": [
        "X_trainNB = X_train\n",
        "X_testNB = X_test\n",
        "#X_trainNB\n",
        "#X_testNB"
      ]
    },
    {
      "cell_type": "code",
      "execution_count": 127,
      "metadata": {},
      "outputs": [
        {
          "name": "stderr",
          "output_type": "stream",
          "text": [
            "C:\\Users\\Pichau\\anaconda3\\lib\\site-packages\\pandas\\core\\frame.py:3191: SettingWithCopyWarning: \n",
            "A value is trying to be set on a copy of a slice from a DataFrame.\n",
            "Try using .loc[row_indexer,col_indexer] = value instead\n",
            "\n",
            "See the caveats in the documentation: https://pandas.pydata.org/pandas-docs/stable/user_guide/indexing.html#returning-a-view-versus-a-copy\n",
            "  self[k1] = value[k2]\n"
          ]
        }
      ],
      "source": [
        "cat_columns = X_trainNB.select_dtypes(['category']).columns\n",
        "X_trainNB[cat_columns] = X_trainNB[cat_columns].apply(lambda x: x.cat.codes)\n",
        "\n",
        "cat_columns = X_testNB.select_dtypes(['category']).columns\n",
        "X_testNB[cat_columns] = X_testNB[cat_columns].apply(lambda x: x.cat.codes)\n",
        "\n",
        "X_trainNB = X_trainNB.drop(columns=[\"age\", \"bmi\", \"avg_glucose_level\", \"id\"])\n",
        "X_testNB = X_testNB.drop(columns=[\"age\", \"bmi\", \"avg_glucose_level\", \"id\"])\n",
        "\n",
        "\n"
      ]
    },
    {
      "cell_type": "code",
      "execution_count": 128,
      "metadata": {},
      "outputs": [
        {
          "data": {
            "text/plain": [
              "CategoricalNB(alpha=1)"
            ]
          },
          "execution_count": 128,
          "metadata": {},
          "output_type": "execute_result"
        },
        {
          "data": {
            "text/plain": [
              "array([[9.74888173e-01, 2.51118271e-02],\n",
              "       [9.57908017e-01, 4.20919833e-02],\n",
              "       [9.29867976e-01, 7.01320238e-02],\n",
              "       ...,\n",
              "       [8.70348123e-01, 1.29651877e-01],\n",
              "       [9.99166819e-01, 8.33181111e-04],\n",
              "       [9.93550315e-01, 6.44968529e-03]])"
            ]
          },
          "execution_count": 128,
          "metadata": {},
          "output_type": "execute_result"
        }
      ],
      "source": [
        "# With sklearn\n",
        "ctgrclNB = CategoricalNB(alpha=1)\n",
        "ctgrclNB.fit(X_trainNB, y_train)\n",
        "ctgrclNB.predict_proba(np.array(X_testNB))"
      ]
    },
    {
      "cell_type": "code",
      "execution_count": 129,
      "metadata": {},
      "outputs": [],
      "source": [
        "y_pred = ctgrclNB.predict(np.array(X_testNB))"
      ]
    },
    {
      "cell_type": "code",
      "execution_count": 130,
      "metadata": {},
      "outputs": [
        {
          "data": {
            "text/plain": [
              "array([0.9592668 , 0.13043478])"
            ]
          },
          "execution_count": 130,
          "metadata": {},
          "output_type": "execute_result"
        }
      ],
      "source": [
        "f1_score(y_test, y_pred, average=None)\n",
        "# accuracy_score(y_test, y_pred)\n",
        "\n",
        "#res_df = pd.DataFrame(resultado_predicao, y_test)"
      ]
    },
    {
      "cell_type": "code",
      "execution_count": 131,
      "metadata": {},
      "outputs": [
        {
          "data": {
            "text/plain": [
              "array([[942,  27],\n",
              "       [ 53,   6]], dtype=int64)"
            ]
          },
          "execution_count": 131,
          "metadata": {},
          "output_type": "execute_result"
        }
      ],
      "source": [
        "confusion_matrix(y_test, y_pred) #tn, fp, fn, tp"
      ]
    },
    {
      "cell_type": "code",
      "execution_count": 132,
      "metadata": {},
      "outputs": [
        {
          "name": "stdout",
          "output_type": "stream",
          "text": [
            "              precision    recall  f1-score   support\n",
            "\n",
            "   no stroke       0.95      0.97      0.96       969\n",
            "      stroke       0.18      0.10      0.13        59\n",
            "\n",
            "    accuracy                           0.92      1028\n",
            "   macro avg       0.56      0.54      0.54      1028\n",
            "weighted avg       0.90      0.92      0.91      1028\n",
            "\n"
          ]
        }
      ],
      "source": [
        "target_names = ['no stroke', 'stroke']\n",
        "print(classification_report(y_test, y_pred, target_names=target_names))"
      ]
    },
    {
      "cell_type": "markdown",
      "metadata": {},
      "source": [
        "## Sem scikit"
      ]
    },
    {
      "cell_type": "code",
      "execution_count": 133,
      "metadata": {},
      "outputs": [
        {
          "data": {
            "text/html": [
              "<div>\n",
              "<style scoped>\n",
              "    .dataframe tbody tr th:only-of-type {\n",
              "        vertical-align: middle;\n",
              "    }\n",
              "\n",
              "    .dataframe tbody tr th {\n",
              "        vertical-align: top;\n",
              "    }\n",
              "\n",
              "    .dataframe thead th {\n",
              "        text-align: right;\n",
              "    }\n",
              "</style>\n",
              "<table border=\"1\" class=\"dataframe\">\n",
              "  <thead>\n",
              "    <tr style=\"text-align: right;\">\n",
              "      <th></th>\n",
              "      <th>gender</th>\n",
              "      <th>hypertension</th>\n",
              "      <th>heart_disease</th>\n",
              "      <th>ever_married</th>\n",
              "      <th>work_type</th>\n",
              "      <th>Residence_type</th>\n",
              "      <th>smoking_status</th>\n",
              "      <th>faixaIdade</th>\n",
              "      <th>faixaIMC</th>\n",
              "      <th>faixaGlicose</th>\n",
              "      <th>stroke</th>\n",
              "    </tr>\n",
              "  </thead>\n",
              "  <tbody>\n",
              "    <tr>\n",
              "      <th>4166</th>\n",
              "      <td>1</td>\n",
              "      <td>0</td>\n",
              "      <td>0</td>\n",
              "      <td>1</td>\n",
              "      <td>2</td>\n",
              "      <td>0</td>\n",
              "      <td>1</td>\n",
              "      <td>2</td>\n",
              "      <td>1</td>\n",
              "      <td>2</td>\n",
              "      <td>0</td>\n",
              "    </tr>\n",
              "    <tr>\n",
              "      <th>4324</th>\n",
              "      <td>0</td>\n",
              "      <td>0</td>\n",
              "      <td>0</td>\n",
              "      <td>0</td>\n",
              "      <td>3</td>\n",
              "      <td>0</td>\n",
              "      <td>1</td>\n",
              "      <td>4</td>\n",
              "      <td>3</td>\n",
              "      <td>3</td>\n",
              "      <td>0</td>\n",
              "    </tr>\n",
              "    <tr>\n",
              "      <th>1444</th>\n",
              "      <td>0</td>\n",
              "      <td>0</td>\n",
              "      <td>0</td>\n",
              "      <td>0</td>\n",
              "      <td>2</td>\n",
              "      <td>0</td>\n",
              "      <td>2</td>\n",
              "      <td>1</td>\n",
              "      <td>0</td>\n",
              "      <td>2</td>\n",
              "      <td>0</td>\n",
              "    </tr>\n",
              "    <tr>\n",
              "      <th>663</th>\n",
              "      <td>0</td>\n",
              "      <td>0</td>\n",
              "      <td>0</td>\n",
              "      <td>1</td>\n",
              "      <td>2</td>\n",
              "      <td>0</td>\n",
              "      <td>2</td>\n",
              "      <td>2</td>\n",
              "      <td>1</td>\n",
              "      <td>1</td>\n",
              "      <td>0</td>\n",
              "    </tr>\n",
              "    <tr>\n",
              "      <th>2444</th>\n",
              "      <td>0</td>\n",
              "      <td>0</td>\n",
              "      <td>0</td>\n",
              "      <td>1</td>\n",
              "      <td>2</td>\n",
              "      <td>1</td>\n",
              "      <td>2</td>\n",
              "      <td>4</td>\n",
              "      <td>2</td>\n",
              "      <td>1</td>\n",
              "      <td>0</td>\n",
              "    </tr>\n",
              "  </tbody>\n",
              "</table>\n",
              "</div>"
            ],
            "text/plain": [
              "      gender  hypertension  heart_disease  ever_married  work_type  \\\n",
              "4166       1             0              0             1          2   \n",
              "4324       0             0              0             0          3   \n",
              "1444       0             0              0             0          2   \n",
              "663        0             0              0             1          2   \n",
              "2444       0             0              0             1          2   \n",
              "\n",
              "      Residence_type  smoking_status  faixaIdade  faixaIMC  faixaGlicose  \\\n",
              "4166               0               1           2         1             2   \n",
              "4324               0               1           4         3             3   \n",
              "1444               0               2           1         0             2   \n",
              "663                0               2           2         1             1   \n",
              "2444               1               2           4         2             1   \n",
              "\n",
              "     stroke  \n",
              "4166      0  \n",
              "4324      0  \n",
              "1444      0  \n",
              "663       0  \n",
              "2444      0  "
            ]
          },
          "execution_count": 133,
          "metadata": {},
          "output_type": "execute_result"
        }
      ],
      "source": [
        "trainNB = X_trainNB\n",
        "trainNB['stroke'] = y_train\n",
        "trainNB.head()"
      ]
    },
    {
      "cell_type": "code",
      "execution_count": 134,
      "metadata": {},
      "outputs": [],
      "source": [
        "def calculoProbCond(entradaTestar, conjuntoTreino):\n",
        "    \n",
        "    arrayProbabilidades = [[],[]]\n",
        "    for nomeColuna in conjuntoTreino.columns: #exceto stroke?\n",
        "\n",
        "        if nomeColuna!=\"stroke\":   \n",
        "            valorTestar = entradaTestar[nomeColuna] #Ver se precisa passar o valor da linha (0)\n",
        " \n",
        "            atributoNao = len(conjuntoTreino[(conjuntoTreino[nomeColuna]==valorTestar)&(conjuntoTreino['stroke']==0)]) / len(conjuntoTreino[conjuntoTreino['stroke']==0])\n",
        "            atributoSim = len(conjuntoTreino[(conjuntoTreino[nomeColuna]==valorTestar)&(conjuntoTreino['stroke']==1)]) / len(conjuntoTreino[conjuntoTreino['stroke']==1])\n",
        "\n",
        "            arrayProbabilidades[0].append(atributoNao)\n",
        "            arrayProbabilidades[1].append(atributoSim)\n",
        "\n",
        "        #genderp0 = (len(XcomY[(XcomY['gender']==1)&(XcomY['stroke']==0)])+1) / (len(XcomY[XcomY['Y']==0])+(1*5))\n",
        "        #ctgrclX15p1 = (len(XcomY[(XcomY['gender']==1)&(XcomY['stroke']==1)])+1) / (len(XcomY[XcomY['Y']==1])+(1*5))\n",
        "\n",
        "\n",
        "    return arrayProbabilidades\n",
        "\n",
        "\n"
      ]
    },
    {
      "cell_type": "code",
      "execution_count": 135,
      "metadata": {},
      "outputs": [],
      "source": [
        "def calculoProbabilidadePred(listaProbabilidades, conjuntoTreino):\n",
        "\n",
        "    Likelihood0 = np.prod(listaProbabilidades[0])\n",
        "    Likelihood1 = np.prod(listaProbabilidades[1])\n",
        "\n",
        "    ProbStroke0 = len(conjuntoTreino[conjuntoTreino['stroke']==0])/len(conjuntoTreino)\n",
        "    ProbStroke1 = len(conjuntoTreino[conjuntoTreino['stroke']==1])/len(conjuntoTreino)\n",
        "\n",
        "\n",
        "    ProbTotal = (ProbStroke0*Likelihood0) + (ProbStroke1*Likelihood1)\n",
        "\n",
        "    probNao = (ProbStroke0*Likelihood0)/ProbTotal\n",
        "    probSim = (ProbStroke1*Likelihood1)/ProbTotal\n",
        "    return 0 if probNao>probSim else 1"
      ]
    },
    {
      "cell_type": "code",
      "execution_count": 136,
      "metadata": {},
      "outputs": [],
      "source": [
        "##Iterar sobre a base de teste\n",
        "def predictStroke(conjuntoTreino, conjuntoTeste) :\n",
        "\n",
        "    arrayPred = []\n",
        "    ##Loop que determina todas as predicoes\n",
        "    for index, linha in conjuntoTeste.iterrows():\n",
        "        resposta = calculoProbCond(linha, conjuntoTreino)\n",
        "        predicao = calculoProbabilidadePred(resposta, conjuntoTreino)\n",
        "        print(index , \": \", predicao)\n",
        "        arrayPred.append(predicao)\n",
        "   \n",
        "    return arrayPred"
      ]
    },
    {
      "cell_type": "code",
      "execution_count": 137,
      "metadata": {},
      "outputs": [
        {
          "name": "stdout",
          "output_type": "stream",
          "text": [
            "1133 :  0\n",
            "2085 :  0\n",
            "3083 :  0\n",
            "1533 :  0\n",
            "636 :  0\n",
            "3190 :  0\n",
            "1969 :  0\n",
            "3547 :  0\n",
            "266 :  0\n",
            "4375 :  0\n",
            "4608 :  0\n",
            "1518 :  0\n",
            "2598 :  0\n",
            "3157 :  0\n",
            "1943 :  0\n",
            "2984 :  0\n",
            "661 :  0\n",
            "4236 :  0\n",
            "5008 :  0\n",
            "1216 :  0\n",
            "42 :  1\n",
            "3603 :  0\n",
            "2989 :  0\n",
            "3579 :  0\n",
            "4386 :  0\n",
            "232 :  0\n",
            "1552 :  0\n",
            "4176 :  0\n",
            "69 :  0\n",
            "96 :  0\n",
            "3799 :  0\n",
            "979 :  0\n",
            "652 :  0\n",
            "686 :  0\n",
            "4749 :  0\n",
            "1255 :  0\n",
            "1190 :  0\n",
            "4169 :  0\n",
            "4085 :  0\n",
            "1204 :  0\n",
            "4449 :  0\n",
            "407 :  0\n",
            "2547 :  0\n",
            "4351 :  0\n",
            "359 :  0\n",
            "2100 :  0\n",
            "187 :  1\n",
            "4554 :  0\n",
            "2647 :  0\n",
            "4621 :  0\n",
            "4057 :  0\n",
            "2190 :  1\n",
            "4947 :  0\n",
            "1491 :  0\n",
            "4190 :  0\n",
            "1347 :  0\n",
            "4739 :  0\n",
            "3309 :  0\n",
            "1892 :  0\n",
            "257 :  0\n",
            "2404 :  0\n",
            "2293 :  0\n",
            "3145 :  0\n",
            "2558 :  0\n",
            "2168 :  0\n",
            "2635 :  0\n",
            "2751 :  0\n",
            "928 :  0\n",
            "3235 :  0\n",
            "2463 :  0\n",
            "4434 :  0\n",
            "4551 :  0\n",
            "2485 :  0\n",
            "2818 :  0\n",
            "71 :  0\n",
            "1722 :  0\n",
            "1120 :  0\n",
            "1250 :  0\n",
            "1620 :  0\n",
            "4632 :  0\n",
            "2682 :  0\n",
            "1090 :  0\n",
            "1556 :  0\n",
            "2829 :  0\n",
            "2208 :  0\n",
            "5085 :  0\n",
            "2585 :  0\n",
            "1173 :  0\n",
            "22 :  0\n",
            "580 :  0\n",
            "644 :  0\n",
            "1807 :  0\n",
            "455 :  0\n",
            "4858 :  0\n",
            "1627 :  0\n",
            "3159 :  0\n",
            "4051 :  0\n",
            "440 :  0\n",
            "2703 :  0\n",
            "4354 :  0\n",
            "3484 :  0\n",
            "268 :  0\n",
            "1127 :  0\n",
            "4966 :  0\n",
            "2454 :  0\n",
            "35 :  0\n",
            "2713 :  0\n",
            "1789 :  0\n",
            "462 :  0\n",
            "1871 :  0\n",
            "418 :  0\n",
            "1575 :  0\n",
            "1368 :  0\n",
            "2070 :  0\n",
            "3406 :  0\n",
            "468 :  0\n",
            "3875 :  0\n",
            "2278 :  0\n",
            "3508 :  0\n",
            "40 :  0\n",
            "2919 :  0\n",
            "4937 :  0\n",
            "1628 :  0\n",
            "1613 :  0\n",
            "2033 :  0\n",
            "201 :  1\n",
            "193 :  1\n",
            "728 :  0\n",
            "3882 :  1\n",
            "2363 :  0\n",
            "454 :  0\n",
            "403 :  0\n",
            "1030 :  0\n",
            "4796 :  0\n",
            "630 :  0\n",
            "441 :  0\n",
            "326 :  0\n",
            "3794 :  0\n",
            "2380 :  0\n",
            "1403 :  0\n",
            "559 :  0\n",
            "4320 :  0\n",
            "4892 :  0\n",
            "2035 :  0\n",
            "5000 :  0\n",
            "3014 :  0\n",
            "4506 :  0\n",
            "256 :  0\n",
            "2935 :  0\n",
            "2182 :  0\n",
            "1480 :  0\n",
            "815 :  0\n",
            "4419 :  0\n",
            "5009 :  0\n",
            "866 :  0\n",
            "2516 :  0\n",
            "863 :  0\n",
            "3055 :  0\n",
            "4639 :  0\n",
            "3062 :  0\n",
            "4643 :  0\n",
            "594 :  0\n",
            "4676 :  0\n",
            "4797 :  0\n",
            "1851 :  0\n",
            "1168 :  0\n",
            "434 :  0\n",
            "2637 :  1\n",
            "1160 :  0\n",
            "2913 :  0\n",
            "3854 :  0\n",
            "768 :  0\n",
            "1473 :  0\n",
            "1691 :  0\n",
            "4532 :  0\n",
            "3088 :  0\n",
            "1316 :  0\n",
            "110 :  1\n",
            "2062 :  0\n",
            "3572 :  0\n",
            "130 :  0\n",
            "4296 :  0\n",
            "3347 :  0\n",
            "2470 :  0\n",
            "4809 :  0\n",
            "278 :  0\n",
            "635 :  0\n",
            "1534 :  0\n",
            "2108 :  0\n",
            "2901 :  0\n",
            "3278 :  0\n",
            "1835 :  0\n",
            "3531 :  0\n",
            "4555 :  0\n",
            "1479 :  0\n",
            "391 :  0\n",
            "1434 :  0\n",
            "4104 :  0\n",
            "3541 :  0\n",
            "1977 :  0\n",
            "3408 :  0\n",
            "4515 :  1\n",
            "2131 :  0\n",
            "1142 :  0\n",
            "228 :  0\n",
            "3653 :  0\n",
            "3386 :  0\n",
            "3723 :  0\n",
            "1019 :  0\n",
            "3032 :  0\n",
            "3691 :  0\n",
            "4188 :  0\n",
            "629 :  0\n",
            "414 :  0\n",
            "4035 :  0\n",
            "695 :  0\n",
            "793 :  0\n",
            "339 :  0\n",
            "3764 :  0\n",
            "3597 :  0\n",
            "1004 :  0\n",
            "3565 :  0\n",
            "3019 :  0\n",
            "598 :  0\n",
            "3308 :  0\n",
            "1051 :  0\n",
            "239 :  0\n",
            "4036 :  0\n",
            "1678 :  0\n",
            "2711 :  0\n",
            "1271 :  0\n",
            "1901 :  0\n",
            "2924 :  0\n",
            "271 :  0\n",
            "4924 :  0\n",
            "142 :  0\n",
            "2943 :  0\n",
            "593 :  0\n",
            "4318 :  0\n",
            "340 :  0\n",
            "3962 :  0\n",
            "2405 :  0\n",
            "2146 :  0\n",
            "4721 :  0\n",
            "4888 :  0\n",
            "2589 :  0\n",
            "419 :  0\n",
            "4652 :  0\n",
            "4942 :  0\n",
            "3224 :  0\n",
            "622 :  0\n",
            "60 :  0\n",
            "3133 :  0\n",
            "4793 :  0\n",
            "106 :  0\n",
            "3886 :  0\n",
            "658 :  0\n",
            "3766 :  0\n",
            "1519 :  0\n",
            "1698 :  0\n",
            "3600 :  0\n",
            "77 :  0\n",
            "3524 :  0\n",
            "1285 :  0\n",
            "2690 :  1\n",
            "4822 :  0\n",
            "4443 :  0\n",
            "2656 :  0\n",
            "1453 :  0\n",
            "3044 :  0\n",
            "1891 :  0\n",
            "2408 :  0\n",
            "906 :  0\n",
            "570 :  0\n",
            "948 :  0\n",
            "4160 :  0\n",
            "1870 :  0\n",
            "3668 :  0\n",
            "3010 :  0\n",
            "4346 :  0\n",
            "341 :  0\n",
            "4499 :  0\n",
            "4023 :  0\n",
            "1153 :  0\n",
            "1232 :  0\n",
            "2911 :  0\n",
            "4700 :  0\n",
            "1727 :  0\n",
            "2982 :  0\n",
            "1302 :  0\n",
            "211 :  0\n",
            "3456 :  0\n",
            "1659 :  0\n",
            "2732 :  0\n",
            "2438 :  0\n",
            "358 :  0\n",
            "3990 :  0\n",
            "5092 :  0\n",
            "3115 :  0\n",
            "2226 :  0\n",
            "4331 :  0\n",
            "846 :  0\n",
            "1077 :  0\n",
            "243 :  1\n",
            "3388 :  0\n",
            "1294 :  0\n",
            "4620 :  0\n",
            "4699 :  0\n",
            "3549 :  1\n",
            "2280 :  0\n",
            "3453 :  0\n",
            "512 :  0\n",
            "3284 :  0\n",
            "4925 :  0\n",
            "18 :  0\n",
            "3947 :  0\n",
            "238 :  0\n",
            "687 :  0\n",
            "2201 :  0\n",
            "3899 :  0\n",
            "5066 :  0\n",
            "2679 :  0\n",
            "2270 :  0\n",
            "4806 :  0\n",
            "880 :  0\n",
            "3865 :  0\n",
            "2399 :  0\n",
            "1953 :  0\n",
            "5014 :  0\n",
            "2701 :  0\n",
            "2979 :  1\n",
            "5027 :  0\n",
            "87 :  0\n",
            "372 :  0\n",
            "1165 :  0\n",
            "1203 :  0\n",
            "216 :  0\n",
            "3498 :  0\n",
            "2948 :  0\n",
            "4861 :  0\n",
            "356 :  0\n",
            "3469 :  0\n",
            "2204 :  0\n",
            "4022 :  1\n",
            "786 :  0\n",
            "173 :  0\n",
            "5034 :  0\n",
            "368 :  0\n",
            "806 :  0\n",
            "2151 :  0\n",
            "2135 :  0\n",
            "4867 :  0\n",
            "4597 :  0\n",
            "4846 :  0\n",
            "4971 :  0\n",
            "3536 :  0\n",
            "2572 :  0\n",
            "120 :  0\n",
            "1494 :  0\n",
            "4120 :  0\n",
            "1416 :  0\n",
            "3489 :  0\n",
            "3143 :  0\n",
            "4212 :  0\n",
            "2581 :  0\n",
            "1451 :  0\n",
            "1314 :  0\n",
            "165 :  0\n",
            "5107 :  0\n",
            "3318 :  1\n",
            "4399 :  0\n",
            "3409 :  0\n",
            "5026 :  0\n",
            "3468 :  0\n",
            "3071 :  0\n",
            "2546 :  0\n",
            "2227 :  0\n",
            "386 :  0\n",
            "151 :  0\n",
            "1562 :  0\n",
            "1738 :  0\n",
            "302 :  0\n",
            "4483 :  0\n",
            "723 :  0\n",
            "1376 :  0\n",
            "822 :  0\n",
            "4983 :  1\n",
            "526 :  0\n",
            "2575 :  0\n",
            "2156 :  0\n",
            "1164 :  0\n",
            "5044 :  0\n",
            "2309 :  0\n",
            "963 :  0\n",
            "3593 :  0\n",
            "4928 :  0\n",
            "2806 :  0\n",
            "1063 :  0\n",
            "61 :  0\n",
            "3297 :  0\n",
            "854 :  0\n",
            "4138 :  0\n",
            "308 :  0\n",
            "2382 :  0\n",
            "707 :  0\n",
            "2433 :  1\n",
            "2810 :  0\n",
            "1592 :  0\n",
            "4874 :  0\n",
            "470 :  0\n",
            "353 :  0\n",
            "506 :  0\n",
            "2214 :  0\n",
            "3350 :  0\n",
            "5010 :  0\n",
            "1978 :  0\n",
            "3948 :  0\n",
            "4027 :  0\n",
            "2160 :  0\n",
            "4130 :  0\n",
            "1886 :  0\n",
            "3380 :  0\n",
            "1656 :  0\n",
            "1634 :  0\n",
            "3212 :  0\n",
            "591 :  0\n",
            "3680 :  0\n",
            "1744 :  0\n",
            "2966 :  1\n",
            "1157 :  0\n",
            "2287 :  0\n",
            "4068 :  0\n",
            "0 :  0\n",
            "4650 :  0\n",
            "1262 :  0\n",
            "4907 :  0\n",
            "843 :  0\n",
            "2327 :  0\n",
            "4325 :  0\n",
            "4519 :  0\n",
            "611 :  0\n",
            "3588 :  0\n",
            "776 :  0\n",
            "5045 :  0\n",
            "958 :  0\n",
            "297 :  0\n",
            "942 :  1\n",
            "1806 :  0\n",
            "495 :  0\n",
            "379 :  0\n",
            "2001 :  0\n",
            "4629 :  0\n",
            "4828 :  0\n",
            "457 :  0\n",
            "1058 :  0\n",
            "206 :  0\n",
            "3223 :  0\n",
            "240 :  0\n",
            "390 :  0\n",
            "4181 :  0\n",
            "1567 :  0\n",
            "1207 :  0\n",
            "1761 :  0\n",
            "2032 :  0\n",
            "3641 :  0\n",
            "3237 :  0\n",
            "44 :  0\n",
            "246 :  0\n",
            "2906 :  0\n",
            "2334 :  0\n",
            "600 :  0\n",
            "1311 :  0\n",
            "2937 :  0\n",
            "349 :  0\n",
            "3670 :  0\n",
            "3078 :  0\n",
            "2927 :  0\n",
            "4611 :  0\n",
            "715 :  0\n",
            "1027 :  0\n",
            "2180 :  0\n",
            "3264 :  0\n",
            "3769 :  0\n",
            "2789 :  0\n",
            "801 :  0\n",
            "1564 :  0\n",
            "2633 :  0\n",
            "931 :  0\n",
            "620 :  0\n",
            "643 :  0\n",
            "1497 :  0\n",
            "3286 :  0\n",
            "1748 :  0\n",
            "1259 :  0\n",
            "3383 :  0\n",
            "1641 :  0\n",
            "624 :  0\n",
            "749 :  0\n",
            "530 :  0\n",
            "4216 :  0\n",
            "3577 :  0\n",
            "1242 :  0\n",
            "262 :  0\n",
            "789 :  0\n",
            "3342 :  0\n",
            "2583 :  0\n",
            "4541 :  0\n",
            "2250 :  0\n",
            "3275 :  0\n",
            "1163 :  0\n",
            "1239 :  0\n",
            "1175 :  0\n",
            "3621 :  0\n",
            "348 :  0\n",
            "4355 :  0\n",
            "2707 :  0\n",
            "2672 :  0\n",
            "1041 :  0\n",
            "4437 :  0\n",
            "4789 :  0\n",
            "4468 :  0\n",
            "3069 :  1\n",
            "2338 :  0\n",
            "1268 :  0\n",
            "1341 :  0\n",
            "4016 :  0\n",
            "3228 :  0\n",
            "694 :  0\n",
            "4659 :  0\n",
            "3359 :  0\n",
            "3717 :  0\n",
            "4751 :  0\n",
            "1524 :  0\n",
            "2983 :  0\n",
            "3745 :  0\n",
            "3688 :  0\n",
            "2658 :  0\n",
            "1487 :  1\n",
            "2088 :  0\n",
            "4851 :  0\n",
            "3167 :  0\n",
            "1508 :  0\n",
            "415 :  0\n",
            "1967 :  0\n",
            "724 :  0\n",
            "1394 :  0\n",
            "3936 :  0\n",
            "2221 :  0\n",
            "2453 :  0\n",
            "3994 :  1\n",
            "858 :  0\n",
            "4919 :  0\n",
            "1192 :  0\n",
            "2934 :  1\n",
            "1771 :  0\n",
            "4444 :  0\n",
            "2938 :  0\n",
            "960 :  0\n",
            "1149 :  0\n",
            "2769 :  0\n",
            "34 :  0\n",
            "2421 :  0\n",
            "1078 :  0\n",
            "5042 :  0\n",
            "4476 :  0\n",
            "3008 :  0\n",
            "4754 :  0\n",
            "92 :  0\n",
            "2381 :  0\n",
            "4912 :  0\n",
            "4524 :  0\n",
            "4486 :  0\n",
            "1353 :  0\n",
            "41 :  0\n",
            "2323 :  0\n",
            "3696 :  0\n",
            "3413 :  0\n",
            "4736 :  0\n",
            "491 :  0\n",
            "2081 :  0\n",
            "2576 :  0\n",
            "4717 :  0\n",
            "4557 :  0\n",
            "3710 :  0\n",
            "1682 :  0\n",
            "3271 :  0\n",
            "2367 :  0\n",
            "4139 :  0\n",
            "4177 :  0\n",
            "4034 :  0\n",
            "4656 :  0\n",
            "1905 :  0\n",
            "751 :  0\n",
            "241 :  0\n",
            "608 :  0\n",
            "3299 :  0\n",
            "2210 :  0\n",
            "1803 :  0\n",
            "851 :  0\n",
            "4787 :  0\n",
            "4234 :  0\n",
            "401 :  0\n",
            "2456 :  0\n",
            "3390 :  0\n",
            "4433 :  0\n",
            "242 :  0\n",
            "3845 :  0\n",
            "1448 :  0\n",
            "1880 :  0\n",
            "2098 :  0\n",
            "528 :  0\n",
            "1994 :  0\n",
            "849 :  0\n",
            "3246 :  0\n",
            "4186 :  0\n",
            "2735 :  0\n",
            "1460 :  0\n",
            "3963 :  0\n",
            "3236 :  0\n",
            "2822 :  0\n",
            "195 :  0\n",
            "2552 :  0\n",
            "1606 :  0\n",
            "3218 :  0\n",
            "674 :  0\n",
            "3673 :  0\n",
            "3711 :  0\n",
            "983 :  0\n",
            "4683 :  0\n",
            "3333 :  0\n",
            "270 :  0\n",
            "761 :  0\n",
            "3553 :  0\n",
            "3108 :  0\n",
            "4974 :  0\n",
            "964 :  0\n",
            "1363 :  0\n",
            "790 :  0\n",
            "3853 :  0\n",
            "3874 :  0\n",
            "2974 :  0\n",
            "4573 :  0\n",
            "2073 :  0\n",
            "890 :  1\n",
            "3996 :  0\n",
            "2104 :  0\n",
            "222 :  0\n",
            "1334 :  0\n",
            "1655 :  0\n",
            "3590 :  0\n",
            "1723 :  0\n",
            "4180 :  0\n",
            "779 :  0\n",
            "4235 :  0\n",
            "2616 :  0\n",
            "807 :  0\n",
            "1418 :  0\n",
            "3591 :  0\n",
            "3312 :  0\n",
            "864 :  0\n",
            "2179 :  0\n",
            "4695 :  0\n",
            "2926 :  0\n",
            "4471 :  0\n",
            "3645 :  0\n",
            "2039 :  0\n",
            "825 :  0\n",
            "3929 :  0\n",
            "1202 :  0\n",
            "99 :  0\n",
            "65 :  0\n",
            "2527 :  1\n",
            "4545 :  0\n",
            "4155 :  0\n",
            "4572 :  0\n",
            "4156 :  0\n",
            "3086 :  0\n",
            "3485 :  0\n",
            "2645 :  0\n",
            "1456 :  0\n",
            "1934 :  0\n",
            "1840 :  0\n",
            "5011 :  0\n",
            "813 :  0\n",
            "2288 :  0\n",
            "4509 :  0\n",
            "4302 :  0\n",
            "1113 :  0\n",
            "3787 :  0\n",
            "4909 :  0\n",
            "4672 :  0\n",
            "3576 :  0\n",
            "1872 :  0\n",
            "3403 :  0\n",
            "3120 :  0\n",
            "4719 :  0\n",
            "362 :  0\n",
            "3067 :  0\n",
            "4464 :  0\n",
            "4626 :  0\n",
            "4214 :  0\n",
            "2069 :  0\n",
            "3988 :  0\n",
            "4024 :  0\n",
            "4943 :  0\n",
            "2111 :  0\n",
            "1675 :  0\n",
            "4264 :  0\n",
            "4050 :  0\n",
            "3960 :  0\n",
            "1344 :  0\n",
            "2331 :  0\n",
            "2996 :  0\n",
            "2396 :  0\n",
            "3873 :  0\n",
            "5074 :  0\n",
            "4542 :  0\n",
            "3896 :  0\n",
            "4217 :  0\n",
            "149 :  0\n",
            "4037 :  0\n",
            "1657 :  0\n",
            "1084 :  0\n",
            "450 :  0\n",
            "82 :  0\n",
            "2197 :  0\n",
            "4800 :  0\n",
            "4167 :  0\n",
            "1717 :  0\n",
            "4970 :  0\n",
            "4129 :  0\n",
            "1234 :  0\n",
            "1711 :  0\n",
            "1082 :  0\n",
            "1615 :  0\n",
            "1037 :  0\n",
            "2824 :  0\n",
            "2236 :  0\n",
            "313 :  0\n",
            "2289 :  0\n",
            "826 :  0\n",
            "4926 :  0\n",
            "1557 :  0\n",
            "1088 :  0\n",
            "75 :  0\n",
            "261 :  0\n",
            "2841 :  0\n",
            "3451 :  0\n",
            "1129 :  0\n",
            "670 :  0\n",
            "1521 :  0\n",
            "3346 :  0\n",
            "2799 :  0\n",
            "764 :  0\n",
            "4343 :  0\n",
            "4238 :  0\n",
            "1608 :  0\n",
            "4311 :  0\n",
            "3574 :  0\n",
            "4525 :  0\n",
            "5100 :  0\n",
            "2980 :  0\n",
            "95 :  0\n",
            "1049 :  0\n",
            "4708 :  0\n",
            "4653 :  0\n",
            "4487 :  0\n",
            "3029 :  0\n",
            "627 :  0\n",
            "3438 :  0\n",
            "4830 :  0\n",
            "2224 :  0\n",
            "293 :  0\n",
            "1649 :  0\n",
            "802 :  0\n",
            "439 :  0\n",
            "853 :  0\n",
            "331 :  1\n",
            "4895 :  0\n",
            "4898 :  0\n",
            "3428 :  0\n",
            "16 :  0\n",
            "153 :  0\n",
            "2209 :  0\n",
            "5057 :  0\n",
            "3035 :  0\n",
            "4000 :  0\n",
            "3559 :  0\n",
            "1439 :  0\n",
            "675 :  0\n",
            "2565 :  0\n",
            "5031 :  0\n",
            "1379 :  0\n",
            "4647 :  0\n",
            "1397 :  0\n",
            "3904 :  0\n",
            "2265 :  0\n",
            "4374 :  0\n",
            "5029 :  0\n",
            "929 :  1\n",
            "2257 :  0\n",
            "515 :  0\n",
            "188 :  0\n",
            "2384 :  0\n",
            "4507 :  0\n",
            "4935 :  0\n",
            "3856 :  0\n",
            "523 :  0\n",
            "3172 :  0\n",
            "3328 :  0\n",
            "39 :  0\n",
            "4271 :  0\n",
            "30 :  0\n",
            "2770 :  0\n",
            "1694 :  0\n",
            "2385 :  0\n",
            "4070 :  0\n",
            "985 :  0\n",
            "4845 :  0\n",
            "997 :  0\n",
            "604 :  0\n",
            "967 :  0\n",
            "2686 :  0\n",
            "655 :  0\n",
            "59 :  0\n",
            "119 :  0\n",
            "2115 :  0\n",
            "5081 :  0\n",
            "3602 :  0\n",
            "797 :  0\n",
            "394 :  0\n",
            "1357 :  0\n",
            "2691 :  0\n",
            "4873 :  0\n",
            "4847 :  0\n",
            "2362 :  0\n",
            "664 :  0\n",
            "2894 :  0\n",
            "2753 :  0\n",
            "762 :  0\n",
            "3933 :  0\n",
            "4852 :  0\n",
            "1732 :  0\n",
            "2678 :  0\n",
            "4884 :  0\n",
            "4081 :  0\n",
            "1992 :  0\n",
            "3596 :  0\n",
            "3732 :  0\n",
            "5024 :  0\n",
            "1612 :  0\n",
            "1595 :  0\n",
            "2564 :  0\n",
            "899 :  0\n",
            "2147 :  0\n",
            "4114 :  0\n",
            "3703 :  0\n",
            "4615 :  0\n",
            "4722 :  1\n",
            "4905 :  0\n",
            "1501 :  0\n",
            "2612 :  0\n",
            "1815 :  0\n",
            "314 :  1\n",
            "774 :  0\n",
            "2336 :  1\n",
            "4896 :  0\n",
            "970 :  1\n",
            "3393 :  0\n",
            "1283 :  1\n",
            "3151 :  0\n",
            "2005 :  0\n",
            "4805 :  0\n",
            "1131 :  0\n",
            "4523 :  0\n",
            "2141 :  0\n",
            "1584 :  0\n",
            "3098 :  0\n",
            "4321 :  0\n",
            "2445 :  0\n",
            "2060 :  0\n",
            "4292 :  0\n",
            "382 :  0\n",
            "3842 :  0\n",
            "743 :  0\n",
            "744 :  0\n",
            "3569 :  0\n",
            "2450 :  0\n",
            "1776 :  0\n",
            "501 :  0\n",
            "2275 :  0\n",
            "4687 :  0\n",
            "2037 :  0\n",
            "4011 :  0\n",
            "1864 :  0\n",
            "3959 :  0\n",
            "1631 :  0\n",
            "920 :  0\n",
            "4339 :  0\n",
            "3595 :  0\n",
            "1573 :  0\n",
            "4436 :  0\n",
            "4737 :  0\n",
            "2449 :  0\n",
            "2142 :  0\n",
            "1855 :  0\n",
            "3659 :  0\n",
            "230 :  0\n",
            "4279 :  0\n",
            "1800 :  0\n",
            "4741 :  0\n",
            "1568 :  0\n",
            "1154 :  0\n",
            "4931 :  0\n",
            "659 :  0\n",
            "2891 :  0\n",
            "2720 :  0\n",
            "2636 :  0\n",
            "3426 :  0\n",
            "2400 :  0\n",
            "3815 :  0\n",
            "309 :  0\n",
            "524 :  0\n",
            "3728 :  0\n",
            "782 :  0\n",
            "3887 :  0\n",
            "3925 :  0\n",
            "2539 :  0\n",
            "502 :  0\n",
            "2392 :  0\n",
            "1107 :  0\n",
            "4782 :  0\n",
            "3247 :  0\n",
            "701 :  0\n",
            "4596 :  0\n",
            "4048 :  0\n",
            "711 :  0\n",
            "3105 :  0\n",
            "296 :  0\n",
            "3599 :  0\n",
            "4768 :  0\n",
            "917 :  0\n",
            "324 :  0\n",
            "521 :  0\n",
            "1340 :  0\n",
            "2095 :  0\n",
            "2065 :  0\n",
            "388 :  0\n",
            "3396 :  0\n",
            "908 :  0\n",
            "2016 :  0\n",
            "4899 :  0\n",
            "1537 :  0\n",
            "589 :  0\n",
            "3918 :  0\n",
            "1774 :  0\n",
            "3992 :  0\n",
            "1579 :  0\n",
            "1396 :  0\n",
            "4111 :  0\n",
            "4661 :  0\n",
            "1211 :  0\n",
            "10 :  0\n",
            "4857 :  0\n",
            "2346 :  0\n",
            "1662 :  0\n",
            "5016 :  0\n",
            "599 :  0\n",
            "1823 :  0\n",
            "4125 :  0\n",
            "1511 :  0\n",
            "2712 :  0\n",
            "4759 :  0\n",
            "1804 :  0\n",
            "1322 :  0\n",
            "2912 :  0\n",
            "1367 :  0\n",
            "274 :  0\n",
            "5030 :  0\n",
            "2848 :  0\n",
            "3679 :  0\n",
            "1152 :  0\n",
            "5013 :  0\n",
            "4556 :  0\n",
            "395 :  0\n",
            "3720 :  0\n",
            "329 :  0\n",
            "2080 :  0\n",
            "2750 :  0\n",
            "1514 :  0\n",
            "1857 :  0\n",
            "134 :  0\n",
            "3523 :  0\n",
            "4396 :  0\n",
            "4461 :  0\n",
            "4477 :  0\n",
            "3598 :  0\n",
            "4380 :  0\n",
            "4875 :  0\n",
            "4429 :  0\n",
            "4558 :  0\n",
            "2674 :  0\n",
            "144 :  0\n",
            "3804 :  0\n",
            "2953 :  0\n",
            "4618 :  0\n",
            "2102 :  1\n",
            "4106 :  0\n",
            "1541 :  0\n",
            "4031 :  0\n",
            "626 :  0\n",
            "4601 :  0\n",
            "1060 :  0\n",
            "319 :  0\n",
            "2113 :  0\n",
            "2120 :  0\n",
            "3570 :  0\n",
            "3924 :  0\n",
            "2961 :  0\n",
            "3061 :  0\n",
            "2106 :  0\n",
            "3900 :  0\n",
            "3665 :  0\n",
            "1963 :  0\n",
            "3229 :  0\n",
            "2096 :  0\n",
            "4976 :  0\n",
            "2491 :  0\n"
          ]
        }
      ],
      "source": [
        "pred_Y  =  predictStroke(trainNB, X_test)\n"
      ]
    },
    {
      "cell_type": "code",
      "execution_count": 138,
      "metadata": {},
      "outputs": [
        {
          "data": {
            "text/plain": [
              "[0,\n",
              " 0,\n",
              " 0,\n",
              " 0,\n",
              " 0,\n",
              " 0,\n",
              " 0,\n",
              " 0,\n",
              " 0,\n",
              " 0,\n",
              " 0,\n",
              " 0,\n",
              " 0,\n",
              " 0,\n",
              " 0,\n",
              " 0,\n",
              " 0,\n",
              " 0,\n",
              " 0,\n",
              " 0,\n",
              " 1,\n",
              " 0,\n",
              " 0,\n",
              " 0,\n",
              " 0,\n",
              " 0,\n",
              " 0,\n",
              " 0,\n",
              " 0,\n",
              " 0,\n",
              " 0,\n",
              " 0,\n",
              " 0,\n",
              " 0,\n",
              " 0,\n",
              " 0,\n",
              " 0,\n",
              " 0,\n",
              " 0,\n",
              " 0,\n",
              " 0,\n",
              " 0,\n",
              " 0,\n",
              " 0,\n",
              " 0,\n",
              " 0,\n",
              " 1,\n",
              " 0,\n",
              " 0,\n",
              " 0,\n",
              " 0,\n",
              " 1,\n",
              " 0,\n",
              " 0,\n",
              " 0,\n",
              " 0,\n",
              " 0,\n",
              " 0,\n",
              " 0,\n",
              " 0,\n",
              " 0,\n",
              " 0,\n",
              " 0,\n",
              " 0,\n",
              " 0,\n",
              " 0,\n",
              " 0,\n",
              " 0,\n",
              " 0,\n",
              " 0,\n",
              " 0,\n",
              " 0,\n",
              " 0,\n",
              " 0,\n",
              " 0,\n",
              " 0,\n",
              " 0,\n",
              " 0,\n",
              " 0,\n",
              " 0,\n",
              " 0,\n",
              " 0,\n",
              " 0,\n",
              " 0,\n",
              " 0,\n",
              " 0,\n",
              " 0,\n",
              " 0,\n",
              " 0,\n",
              " 0,\n",
              " 0,\n",
              " 0,\n",
              " 0,\n",
              " 0,\n",
              " 0,\n",
              " 0,\n",
              " 0,\n",
              " 0,\n",
              " 0,\n",
              " 0,\n",
              " 0,\n",
              " 0,\n",
              " 0,\n",
              " 0,\n",
              " 0,\n",
              " 0,\n",
              " 0,\n",
              " 0,\n",
              " 0,\n",
              " 0,\n",
              " 0,\n",
              " 0,\n",
              " 0,\n",
              " 0,\n",
              " 0,\n",
              " 0,\n",
              " 0,\n",
              " 0,\n",
              " 0,\n",
              " 0,\n",
              " 0,\n",
              " 0,\n",
              " 0,\n",
              " 0,\n",
              " 0,\n",
              " 1,\n",
              " 1,\n",
              " 0,\n",
              " 1,\n",
              " 0,\n",
              " 0,\n",
              " 0,\n",
              " 0,\n",
              " 0,\n",
              " 0,\n",
              " 0,\n",
              " 0,\n",
              " 0,\n",
              " 0,\n",
              " 0,\n",
              " 0,\n",
              " 0,\n",
              " 0,\n",
              " 0,\n",
              " 0,\n",
              " 0,\n",
              " 0,\n",
              " 0,\n",
              " 0,\n",
              " 0,\n",
              " 0,\n",
              " 0,\n",
              " 0,\n",
              " 0,\n",
              " 0,\n",
              " 0,\n",
              " 0,\n",
              " 0,\n",
              " 0,\n",
              " 0,\n",
              " 0,\n",
              " 0,\n",
              " 0,\n",
              " 0,\n",
              " 0,\n",
              " 0,\n",
              " 0,\n",
              " 1,\n",
              " 0,\n",
              " 0,\n",
              " 0,\n",
              " 0,\n",
              " 0,\n",
              " 0,\n",
              " 0,\n",
              " 0,\n",
              " 0,\n",
              " 1,\n",
              " 0,\n",
              " 0,\n",
              " 0,\n",
              " 0,\n",
              " 0,\n",
              " 0,\n",
              " 0,\n",
              " 0,\n",
              " 0,\n",
              " 0,\n",
              " 0,\n",
              " 0,\n",
              " 0,\n",
              " 0,\n",
              " 0,\n",
              " 0,\n",
              " 0,\n",
              " 0,\n",
              " 0,\n",
              " 0,\n",
              " 0,\n",
              " 0,\n",
              " 0,\n",
              " 1,\n",
              " 0,\n",
              " 0,\n",
              " 0,\n",
              " 0,\n",
              " 0,\n",
              " 0,\n",
              " 0,\n",
              " 0,\n",
              " 0,\n",
              " 0,\n",
              " 0,\n",
              " 0,\n",
              " 0,\n",
              " 0,\n",
              " 0,\n",
              " 0,\n",
              " 0,\n",
              " 0,\n",
              " 0,\n",
              " 0,\n",
              " 0,\n",
              " 0,\n",
              " 0,\n",
              " 0,\n",
              " 0,\n",
              " 0,\n",
              " 0,\n",
              " 0,\n",
              " 0,\n",
              " 0,\n",
              " 0,\n",
              " 0,\n",
              " 0,\n",
              " 0,\n",
              " 0,\n",
              " 0,\n",
              " 0,\n",
              " 0,\n",
              " 0,\n",
              " 0,\n",
              " 0,\n",
              " 0,\n",
              " 0,\n",
              " 0,\n",
              " 0,\n",
              " 0,\n",
              " 0,\n",
              " 0,\n",
              " 0,\n",
              " 0,\n",
              " 0,\n",
              " 0,\n",
              " 0,\n",
              " 0,\n",
              " 0,\n",
              " 0,\n",
              " 0,\n",
              " 0,\n",
              " 0,\n",
              " 0,\n",
              " 0,\n",
              " 0,\n",
              " 1,\n",
              " 0,\n",
              " 0,\n",
              " 0,\n",
              " 0,\n",
              " 0,\n",
              " 0,\n",
              " 0,\n",
              " 0,\n",
              " 0,\n",
              " 0,\n",
              " 0,\n",
              " 0,\n",
              " 0,\n",
              " 0,\n",
              " 0,\n",
              " 0,\n",
              " 0,\n",
              " 0,\n",
              " 0,\n",
              " 0,\n",
              " 0,\n",
              " 0,\n",
              " 0,\n",
              " 0,\n",
              " 0,\n",
              " 0,\n",
              " 0,\n",
              " 0,\n",
              " 0,\n",
              " 0,\n",
              " 0,\n",
              " 0,\n",
              " 0,\n",
              " 0,\n",
              " 0,\n",
              " 0,\n",
              " 0,\n",
              " 0,\n",
              " 1,\n",
              " 0,\n",
              " 0,\n",
              " 0,\n",
              " 0,\n",
              " 1,\n",
              " 0,\n",
              " 0,\n",
              " 0,\n",
              " 0,\n",
              " 0,\n",
              " 0,\n",
              " 0,\n",
              " 0,\n",
              " 0,\n",
              " 0,\n",
              " 0,\n",
              " 0,\n",
              " 0,\n",
              " 0,\n",
              " 0,\n",
              " 0,\n",
              " 0,\n",
              " 0,\n",
              " 0,\n",
              " 0,\n",
              " 0,\n",
              " 1,\n",
              " 0,\n",
              " 0,\n",
              " 0,\n",
              " 0,\n",
              " 0,\n",
              " 0,\n",
              " 0,\n",
              " 0,\n",
              " 0,\n",
              " 0,\n",
              " 0,\n",
              " 0,\n",
              " 1,\n",
              " 0,\n",
              " 0,\n",
              " 0,\n",
              " 0,\n",
              " 0,\n",
              " 0,\n",
              " 0,\n",
              " 0,\n",
              " 0,\n",
              " 0,\n",
              " 0,\n",
              " 0,\n",
              " 0,\n",
              " 0,\n",
              " 0,\n",
              " 0,\n",
              " 0,\n",
              " 0,\n",
              " 0,\n",
              " 0,\n",
              " 0,\n",
              " 0,\n",
              " 0,\n",
              " 0,\n",
              " 0,\n",
              " 1,\n",
              " 0,\n",
              " 0,\n",
              " 0,\n",
              " 0,\n",
              " 0,\n",
              " 0,\n",
              " 0,\n",
              " 0,\n",
              " 0,\n",
              " 0,\n",
              " 0,\n",
              " 0,\n",
              " 0,\n",
              " 0,\n",
              " 0,\n",
              " 0,\n",
              " 1,\n",
              " 0,\n",
              " 0,\n",
              " 0,\n",
              " 0,\n",
              " 0,\n",
              " 0,\n",
              " 0,\n",
              " 0,\n",
              " 0,\n",
              " 0,\n",
              " 0,\n",
              " 0,\n",
              " 0,\n",
              " 0,\n",
              " 0,\n",
              " 0,\n",
              " 0,\n",
              " 0,\n",
              " 1,\n",
              " 0,\n",
              " 0,\n",
              " 0,\n",
              " 0,\n",
              " 0,\n",
              " 0,\n",
              " 0,\n",
              " 0,\n",
              " 0,\n",
              " 0,\n",
              " 0,\n",
              " 0,\n",
              " 0,\n",
              " 0,\n",
              " 0,\n",
              " 0,\n",
              " 0,\n",
              " 0,\n",
              " 0,\n",
              " 0,\n",
              " 0,\n",
              " 0,\n",
              " 1,\n",
              " 0,\n",
              " 0,\n",
              " 0,\n",
              " 0,\n",
              " 0,\n",
              " 0,\n",
              " 0,\n",
              " 0,\n",
              " 0,\n",
              " 0,\n",
              " 0,\n",
              " 0,\n",
              " 0,\n",
              " 0,\n",
              " 0,\n",
              " 0,\n",
              " 0,\n",
              " 1,\n",
              " 0,\n",
              " 0,\n",
              " 0,\n",
              " 0,\n",
              " 0,\n",
              " 0,\n",
              " 0,\n",
              " 0,\n",
              " 0,\n",
              " 0,\n",
              " 0,\n",
              " 0,\n",
              " 0,\n",
              " 0,\n",
              " 0,\n",
              " 0,\n",
              " 0,\n",
              " 0,\n",
              " 0,\n",
              " 0,\n",
              " 0,\n",
              " 0,\n",
              " 0,\n",
              " 0,\n",
              " 0,\n",
              " 0,\n",
              " 0,\n",
              " 0,\n",
              " 0,\n",
              " 0,\n",
              " 0,\n",
              " 0,\n",
              " 0,\n",
              " 0,\n",
              " 0,\n",
              " 0,\n",
              " 0,\n",
              " 0,\n",
              " 0,\n",
              " 0,\n",
              " 0,\n",
              " 0,\n",
              " 0,\n",
              " 0,\n",
              " 0,\n",
              " 0,\n",
              " 0,\n",
              " 0,\n",
              " 0,\n",
              " 0,\n",
              " 0,\n",
              " 0,\n",
              " 0,\n",
              " 0,\n",
              " 0,\n",
              " 0,\n",
              " 0,\n",
              " 0,\n",
              " 0,\n",
              " 0,\n",
              " 0,\n",
              " 0,\n",
              " 0,\n",
              " 0,\n",
              " 0,\n",
              " 0,\n",
              " 0,\n",
              " 0,\n",
              " 0,\n",
              " 0,\n",
              " 0,\n",
              " 0,\n",
              " 0,\n",
              " 0,\n",
              " 1,\n",
              " 0,\n",
              " 0,\n",
              " 0,\n",
              " 0,\n",
              " 0,\n",
              " 0,\n",
              " 0,\n",
              " 0,\n",
              " 0,\n",
              " 0,\n",
              " 0,\n",
              " 0,\n",
              " 0,\n",
              " 0,\n",
              " 0,\n",
              " 1,\n",
              " 0,\n",
              " 0,\n",
              " 0,\n",
              " 0,\n",
              " 0,\n",
              " 0,\n",
              " 0,\n",
              " 0,\n",
              " 0,\n",
              " 0,\n",
              " 0,\n",
              " 1,\n",
              " 0,\n",
              " 0,\n",
              " 0,\n",
              " 1,\n",
              " 0,\n",
              " 0,\n",
              " 0,\n",
              " 0,\n",
              " 0,\n",
              " 0,\n",
              " 0,\n",
              " 0,\n",
              " 0,\n",
              " 0,\n",
              " 0,\n",
              " 0,\n",
              " 0,\n",
              " 0,\n",
              " 0,\n",
              " 0,\n",
              " 0,\n",
              " 0,\n",
              " 0,\n",
              " 0,\n",
              " 0,\n",
              " 0,\n",
              " 0,\n",
              " 0,\n",
              " 0,\n",
              " 0,\n",
              " 0,\n",
              " 0,\n",
              " 0,\n",
              " 0,\n",
              " 0,\n",
              " 0,\n",
              " 0,\n",
              " 0,\n",
              " 0,\n",
              " 0,\n",
              " 0,\n",
              " 0,\n",
              " 0,\n",
              " 0,\n",
              " 0,\n",
              " 0,\n",
              " 0,\n",
              " 0,\n",
              " 0,\n",
              " 0,\n",
              " 0,\n",
              " 0,\n",
              " 0,\n",
              " 0,\n",
              " 0,\n",
              " 0,\n",
              " 0,\n",
              " 0,\n",
              " 0,\n",
              " 0,\n",
              " 0,\n",
              " 0,\n",
              " 0,\n",
              " 0,\n",
              " 0,\n",
              " 0,\n",
              " 0,\n",
              " 0,\n",
              " 0,\n",
              " 0,\n",
              " 0,\n",
              " 0,\n",
              " 0,\n",
              " 0,\n",
              " 0,\n",
              " 0,\n",
              " 0,\n",
              " 0,\n",
              " 0,\n",
              " 0,\n",
              " 0,\n",
              " 0,\n",
              " 0,\n",
              " 0,\n",
              " 0,\n",
              " 0,\n",
              " 0,\n",
              " 0,\n",
              " 0,\n",
              " 0,\n",
              " 0,\n",
              " 0,\n",
              " 0,\n",
              " 1,\n",
              " 0,\n",
              " 0,\n",
              " 0,\n",
              " 0,\n",
              " 0,\n",
              " 0,\n",
              " 0,\n",
              " 0,\n",
              " 0,\n",
              " 0,\n",
              " 0,\n",
              " 0,\n",
              " 0,\n",
              " 0,\n",
              " 0,\n",
              " 0,\n",
              " 0,\n",
              " 0,\n",
              " 0,\n",
              " 0,\n",
              " 0,\n",
              " 0,\n",
              " 0,\n",
              " 0,\n",
              " 0,\n",
              " 0,\n",
              " 0,\n",
              " 1,\n",
              " 0,\n",
              " 0,\n",
              " 0,\n",
              " 0,\n",
              " 0,\n",
              " 0,\n",
              " 0,\n",
              " 0,\n",
              " 0,\n",
              " 0,\n",
              " 0,\n",
              " 0,\n",
              " 0,\n",
              " 0,\n",
              " 0,\n",
              " 0,\n",
              " 0,\n",
              " 0,\n",
              " 0,\n",
              " 0,\n",
              " 0,\n",
              " 0,\n",
              " 0,\n",
              " 0,\n",
              " 0,\n",
              " 0,\n",
              " 0,\n",
              " 0,\n",
              " 0,\n",
              " 0,\n",
              " 0,\n",
              " 0,\n",
              " 0,\n",
              " 0,\n",
              " 0,\n",
              " 0,\n",
              " 0,\n",
              " 0,\n",
              " 0,\n",
              " 0,\n",
              " 0,\n",
              " 0,\n",
              " 0,\n",
              " 0,\n",
              " 0,\n",
              " 0,\n",
              " 0,\n",
              " 0,\n",
              " 0,\n",
              " 0,\n",
              " 0,\n",
              " 0,\n",
              " 0,\n",
              " 0,\n",
              " 0,\n",
              " 0,\n",
              " 0,\n",
              " 0,\n",
              " 0,\n",
              " 0,\n",
              " 0,\n",
              " 0,\n",
              " 0,\n",
              " 0,\n",
              " 0,\n",
              " 0,\n",
              " 0,\n",
              " 0,\n",
              " 0,\n",
              " 0,\n",
              " 0,\n",
              " 0,\n",
              " 0,\n",
              " 0,\n",
              " 0,\n",
              " 0,\n",
              " 0,\n",
              " 0,\n",
              " 0,\n",
              " 0,\n",
              " 0,\n",
              " 0,\n",
              " 0,\n",
              " 0,\n",
              " 0,\n",
              " 0,\n",
              " 0,\n",
              " 0,\n",
              " 0,\n",
              " 0,\n",
              " 0,\n",
              " 0,\n",
              " 0,\n",
              " 0,\n",
              " 0,\n",
              " 0,\n",
              " 0,\n",
              " 0,\n",
              " 0,\n",
              " 0,\n",
              " 0,\n",
              " 0,\n",
              " 0,\n",
              " 0,\n",
              " 0,\n",
              " 1,\n",
              " 0,\n",
              " 0,\n",
              " 0,\n",
              " 0,\n",
              " 0,\n",
              " 0,\n",
              " 0,\n",
              " 0,\n",
              " 0,\n",
              " 0,\n",
              " 0,\n",
              " 0,\n",
              " 0,\n",
              " 0,\n",
              " 0,\n",
              " 0,\n",
              " 0,\n",
              " 0,\n",
              " 0,\n",
              " 0,\n",
              " 0,\n",
              " 1,\n",
              " 0,\n",
              " 0,\n",
              " 0,\n",
              " 0,\n",
              " 0,\n",
              " 0,\n",
              " 0,\n",
              " 0,\n",
              " 0,\n",
              " 0,\n",
              " 0,\n",
              " 0,\n",
              " 0,\n",
              " 0,\n",
              " 0,\n",
              " 0,\n",
              " 0,\n",
              " 0,\n",
              " 0,\n",
              " 0,\n",
              " 0,\n",
              " 0,\n",
              " 0,\n",
              " 0,\n",
              " 0,\n",
              " 0,\n",
              " 0,\n",
              " 0,\n",
              " 0,\n",
              " 0,\n",
              " 0,\n",
              " 0,\n",
              " 0,\n",
              " 0,\n",
              " 0,\n",
              " 0,\n",
              " 0,\n",
              " 0,\n",
              " 0,\n",
              " 0,\n",
              " 0,\n",
              " 0,\n",
              " 0,\n",
              " 0,\n",
              " 0,\n",
              " 0,\n",
              " 0,\n",
              " 0,\n",
              " 0,\n",
              " 0,\n",
              " 0,\n",
              " 0,\n",
              " 0,\n",
              " 0,\n",
              " 0,\n",
              " 0,\n",
              " 0,\n",
              " 0,\n",
              " 1,\n",
              " 0,\n",
              " 0,\n",
              " 0,\n",
              " 0,\n",
              " 1,\n",
              " 0,\n",
              " 1,\n",
              " 0,\n",
              " 1,\n",
              " 0,\n",
              " 1,\n",
              " 0,\n",
              " 0,\n",
              " 0,\n",
              " 0,\n",
              " 0,\n",
              " 0,\n",
              " 0,\n",
              " 0,\n",
              " 0,\n",
              " 0,\n",
              " 0,\n",
              " 0,\n",
              " 0,\n",
              " 0,\n",
              " 0,\n",
              " 0,\n",
              " 0,\n",
              " 0,\n",
              " 0,\n",
              " 0,\n",
              " 0,\n",
              " 0,\n",
              " 0,\n",
              " 0,\n",
              " 0,\n",
              " 0,\n",
              " 0,\n",
              " 0,\n",
              " 0,\n",
              " 0,\n",
              " 0,\n",
              " 0,\n",
              " 0,\n",
              " 0,\n",
              " 0,\n",
              " 0,\n",
              " 0,\n",
              " 0,\n",
              " 0,\n",
              " 0,\n",
              " 0,\n",
              " 0,\n",
              " 0,\n",
              " 0,\n",
              " 0,\n",
              " 0,\n",
              " 0,\n",
              " 0,\n",
              " 0,\n",
              " 0,\n",
              " 0,\n",
              " 0,\n",
              " 0,\n",
              " 0,\n",
              " 0,\n",
              " 0,\n",
              " 0,\n",
              " 0,\n",
              " 0,\n",
              " 0,\n",
              " 0,\n",
              " 0,\n",
              " 0,\n",
              " 0,\n",
              " 0,\n",
              " 0,\n",
              " 0,\n",
              " 0,\n",
              " 0,\n",
              " 0,\n",
              " 0,\n",
              " 0,\n",
              " 0,\n",
              " 0,\n",
              " 0,\n",
              " 0,\n",
              " 0,\n",
              " 0,\n",
              " 0,\n",
              " 0,\n",
              " 0,\n",
              " 0,\n",
              " 0,\n",
              " 0,\n",
              " 0,\n",
              " 0,\n",
              " 0,\n",
              " 0,\n",
              " 0,\n",
              " 0,\n",
              " 0,\n",
              " 0,\n",
              " 0,\n",
              " 0,\n",
              " 0,\n",
              " 0,\n",
              " 0,\n",
              " 0,\n",
              " 0,\n",
              " 0,\n",
              " 0,\n",
              " 0,\n",
              " 0,\n",
              " 0,\n",
              " 0,\n",
              " 0,\n",
              " 0,\n",
              " 0,\n",
              " 0,\n",
              " 0,\n",
              " 0,\n",
              " 0,\n",
              " 0,\n",
              " 0,\n",
              " 0,\n",
              " 0,\n",
              " 0,\n",
              " 0,\n",
              " 0,\n",
              " 0,\n",
              " 0,\n",
              " 0,\n",
              " 0,\n",
              " 0,\n",
              " 0,\n",
              " 0,\n",
              " 0,\n",
              " 0,\n",
              " 0,\n",
              " 0,\n",
              " ...]"
            ]
          },
          "execution_count": 138,
          "metadata": {},
          "output_type": "execute_result"
        }
      ],
      "source": [
        "pred_Y"
      ]
    },
    {
      "cell_type": "code",
      "execution_count": 139,
      "metadata": {},
      "outputs": [
        {
          "data": {
            "text/plain": [
              "0.9221789883268483"
            ]
          },
          "execution_count": 139,
          "metadata": {},
          "output_type": "execute_result"
        }
      ],
      "source": [
        "accuracy_score(y_test, pred_Y)"
      ]
    },
    {
      "cell_type": "code",
      "execution_count": 140,
      "metadata": {},
      "outputs": [
        {
          "data": {
            "text/plain": [
              "array([0.9592668 , 0.13043478])"
            ]
          },
          "execution_count": 140,
          "metadata": {},
          "output_type": "execute_result"
        }
      ],
      "source": [
        "f1_score(y_test, pred_Y, average=None)\n",
        "#([0.9604299 , 0.12903226]) resultado do scikit"
      ]
    },
    {
      "cell_type": "code",
      "execution_count": 141,
      "metadata": {},
      "outputs": [
        {
          "data": {
            "text/plain": [
              "array([[942,  27],\n",
              "       [ 53,   6]], dtype=int64)"
            ]
          },
          "execution_count": 141,
          "metadata": {},
          "output_type": "execute_result"
        }
      ],
      "source": [
        "confusion_matrix(y_test, pred_Y) #tn, fp, fn, tp f1=tp/tp+1/2(fp+fn) f0=942/942+1/2(27+53) e f1=6/6+1/2(27+53)"
      ]
    },
    {
      "cell_type": "code",
      "execution_count": 142,
      "metadata": {},
      "outputs": [
        {
          "name": "stdout",
          "output_type": "stream",
          "text": [
            "              precision    recall  f1-score   support\n",
            "\n",
            "   no stroke       0.95      0.97      0.96       969\n",
            "      stroke       0.18      0.10      0.13        59\n",
            "\n",
            "    accuracy                           0.92      1028\n",
            "   macro avg       0.56      0.54      0.54      1028\n",
            "weighted avg       0.90      0.92      0.91      1028\n",
            "\n"
          ]
        }
      ],
      "source": [
        "target_names = ['no stroke', 'stroke']\n",
        "print(classification_report(y_test, pred_Y, target_names=target_names))"
      ]
    },
    {
      "cell_type": "markdown",
      "metadata": {},
      "source": [
        "## KNN"
      ]
    },
    {
      "cell_type": "code",
      "execution_count": 143,
      "metadata": {},
      "outputs": [],
      "source": [
        "X_trainKN = X_train.drop(columns = [\"faixaIdade\", \"faixaIMC\", \"faixaGlicose\", \"id\"])\n",
        "X_testKN = X_test.drop(columns = [\"faixaIdade\", \"faixaIMC\", \"faixaGlicose\", \"id\"])"
      ]
    },
    {
      "cell_type": "code",
      "execution_count": 144,
      "metadata": {},
      "outputs": [],
      "source": [
        "train_dummies = pd.get_dummies(X_trainKN[[\"work_type\", \"smoking_status\"]].astype(str))\n",
        "test_dummies = pd.get_dummies(X_testKN[[\"work_type\", \"smoking_status\"]].astype(str))"
      ]
    },
    {
      "cell_type": "code",
      "execution_count": 146,
      "metadata": {},
      "outputs": [
        {
          "ename": "NameError",
          "evalue": "name 'pred_KN' is not defined",
          "output_type": "error",
          "traceback": [
            "\u001b[1;31m---------------------------------------------------------------------------\u001b[0m",
            "\u001b[1;31mNameError\u001b[0m                                 Traceback (most recent call last)",
            "\u001b[1;32m<ipython-input-146-0d02965d9096>\u001b[0m in \u001b[0;36m<module>\u001b[1;34m\u001b[0m\n\u001b[1;32m----> 1\u001b[1;33m \u001b[0mconfusion_matrix\u001b[0m\u001b[1;33m(\u001b[0m\u001b[0my_test\u001b[0m\u001b[1;33m,\u001b[0m \u001b[0mpred_KN\u001b[0m\u001b[1;33m)\u001b[0m \u001b[1;31m#tn, fp, fn, tp\u001b[0m\u001b[1;33m\u001b[0m\u001b[1;33m\u001b[0m\u001b[0m\n\u001b[0m",
            "\u001b[1;31mNameError\u001b[0m: name 'pred_KN' is not defined"
          ]
        }
      ],
      "source": [
        "X_trainKN = X_trainKN.join(train_dummies)\n",
        "X_testKN = X_testKN.join(test_dummies)"
      ]
    },
    {
      "cell_type": "code",
      "execution_count": null,
      "metadata": {},
      "outputs": [],
      "source": [
        "knnClassifier = KNeighborsClassifier(n_neighbors=1)\n",
        "knnClassifier.fit(X_trainKN, y_train)\n",
        "pred_KN = knnClassifier.predict(X_testKN)\n"
      ]
    },
    {
      "cell_type": "code",
      "execution_count": null,
      "metadata": {},
      "outputs": [],
      "source": [
        "f1_score(y_test, pred_KN, average=None)"
      ]
    },
    {
      "cell_type": "code",
      "execution_count": null,
      "metadata": {},
      "outputs": [],
      "source": [
        "accuracy_score(y_test, pred_KN)"
      ]
    },
    {
      "cell_type": "code",
      "execution_count": null,
      "metadata": {},
      "outputs": [],
      "source": [
        "confusion_matrix(y_test, pred_KN) #tn, fp, fn, tp"
      ]
    },
    {
      "cell_type": "code",
      "execution_count": null,
      "metadata": {},
      "outputs": [],
      "source": [
        "target_names = ['no stroke', 'stroke']\n",
        "print(classification_report(y_test, pred_KN, target_names=target_names))"
      ]
    },
    {
      "cell_type": "code",
      "execution_count": null,
      "metadata": {},
      "outputs": [],
      "source": [
        "tn, fp, fn, tp = confusion_matrix(y_test, pred_KN).ravel()\n",
        "tn, fp, fn, tp"
      ]
    },
    {
      "cell_type": "code",
      "execution_count": null,
      "metadata": {},
      "outputs": [],
      "source": [
        "len(dados[dados['stroke']==1])\n",
        "len(dados)#[dados['stroke']==1])"
      ]
    },
    {
      "cell_type": "markdown",
      "metadata": {},
      "source": [
        "# Experimento balanceamento"
      ]
    },
    {
      "cell_type": "code",
      "execution_count": null,
      "metadata": {},
      "outputs": [],
      "source": [
        "avcSim = dados[dados['stroke']==1]\n",
        "avcNao = dados[dados['stroke']==0]\n",
        "avcNao = avcNao.sample(frac=0.0555, replace=False, random_state=195)"
      ]
    },
    {
      "cell_type": "code",
      "execution_count": null,
      "metadata": {},
      "outputs": [],
      "source": [
        "len(avcNao)\n",
        "len(avcSim)"
      ]
    },
    {
      "cell_type": "code",
      "execution_count": null,
      "metadata": {},
      "outputs": [],
      "source": [
        "balanceado = avcSim.append(avcNao)"
      ]
    },
    {
      "cell_type": "code",
      "execution_count": null,
      "metadata": {},
      "outputs": [],
      "source": [
        "Xb = balanceado.drop(columns='stroke')\n",
        "\n",
        "yb = balanceado['stroke']\n",
        "\n",
        "Xb_train, Xb_test, yb_train, yb_test = train_test_split(X, y, test_size=0.3, random_state=42)\n"
      ]
    },
    {
      "cell_type": "code",
      "execution_count": null,
      "metadata": {},
      "outputs": [],
      "source": []
    },
    {
      "cell_type": "markdown",
      "metadata": {},
      "source": [
        "## Naive Bayes"
      ]
    },
    {
      "cell_type": "code",
      "execution_count": null,
      "metadata": {},
      "outputs": [],
      "source": []
    },
    {
      "cell_type": "markdown",
      "metadata": {},
      "source": [
        "## Knn"
      ]
    }
  ],
  "metadata": {
    "colab": {
      "name": "projetoEstatisticaDescritiva.ipynb",
      "provenance": []
    },
    "interpreter": {
      "hash": "0e1898d504e473bdd4635340539d41a5cecc72accb8598f6f0c7bcb5921af418"
    },
    "kernelspec": {
      "display_name": "Python 3.8.8 64-bit ('base': conda)",
      "name": "python3"
    },
    "language_info": {
      "codemirror_mode": {
        "name": "ipython",
        "version": 3
      },
      "file_extension": ".py",
      "mimetype": "text/x-python",
      "name": "python",
      "nbconvert_exporter": "python",
      "pygments_lexer": "ipython3",
      "version": "3.9.7"
    }
  },
  "nbformat": 4,
  "nbformat_minor": 0
}
