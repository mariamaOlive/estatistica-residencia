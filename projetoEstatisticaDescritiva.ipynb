{
  "cells": [
    {
      "cell_type": "markdown",
      "metadata": {
        "id": "-nX1TdbTgL87"
      },
      "source": [
        "# Projeto Estatística Descritiva de Dados\n",
        "## Lucas Natan Correia Couri e Mariama Oliveira"
      ]
    },
    {
      "cell_type": "markdown",
      "metadata": {
        "id": "K7hgBrxasDXN"
      },
      "source": [
        "# Análise exploratória"
      ]
    },
    {
      "cell_type": "code",
      "execution_count": null,
      "metadata": {},
      "outputs": [],
      "source": [
        "import pandas as pd\n",
        "import seaborn as sns\n",
        "import numpy as np\n",
        "import matplotlib.pyplot as plt\n",
        "import scipy.stats as stats\n",
        "import researchpy as rp\n",
        "from sklearn.model_selection import train_test_split\n",
        "from sklearn.naive_bayes import CategoricalNB\n",
        "from sklearn.metrics import f1_score\n",
        "from sklearn.metrics import accuracy_score\n",
        "from sklearn.neighbors import KNeighborsClassifier\n",
        "from IPython.core.interactiveshell import InteractiveShell\n",
        "from sklearn.metrics import confusion_matrix\n",
        "from sklearn.metrics import classification_report\n",
        "InteractiveShell.ast_node_interactivity = 'all'"
      ]
    },
    {
      "cell_type": "code",
      "execution_count": null,
      "metadata": {},
      "outputs": [],
      "source": [
        "dados = pd.read_csv(\"dataset_stroke.csv\")"
      ]
    },
    {
      "cell_type": "code",
      "execution_count": null,
      "metadata": {
        "id": "IaCtHNE0gB2-"
      },
      "outputs": [],
      "source": [
        "dados.head()"
      ]
    },
    {
      "cell_type": "code",
      "execution_count": null,
      "metadata": {},
      "outputs": [],
      "source": [
        "dados.shape"
      ]
    },
    {
      "cell_type": "markdown",
      "metadata": {},
      "source": [
        "## Pré-processamento de dados"
      ]
    },
    {
      "cell_type": "code",
      "execution_count": null,
      "metadata": {},
      "outputs": [],
      "source": [
        "dados.dtypes"
      ]
    },
    {
      "cell_type": "markdown",
      "metadata": {},
      "source": [
        "Convertendos tipos \"object\" para \"category\""
      ]
    },
    {
      "cell_type": "code",
      "execution_count": null,
      "metadata": {
        "id": "bLUYhOJFsRnA"
      },
      "outputs": [],
      "source": [
        "dados['gender'] = dados['gender'].astype('category')\n",
        "dados['ever_married'] = dados['ever_married'].astype('category')\n",
        "dados['work_type'] = dados['work_type'].astype('category')\n",
        "dados['Residence_type'] = dados['Residence_type'].astype('category')\n",
        "dados['smoking_status'] = dados['smoking_status'].astype('category')\n",
        "dados['hypertension'] = dados['hypertension'].astype('category')\n",
        "dados['heart_disease'] = dados['heart_disease'].astype('category')\n",
        "dados['stroke'] = dados['stroke'].astype('category')\n"
      ]
    },
    {
      "cell_type": "code",
      "execution_count": null,
      "metadata": {},
      "outputs": [],
      "source": [
        "dados[(dados['age']<2) & (dados['stroke']==0)]"
      ]
    },
    {
      "cell_type": "code",
      "execution_count": null,
      "metadata": {},
      "outputs": [],
      "source": [
        "dados.describe()"
      ]
    },
    {
      "cell_type": "code",
      "execution_count": null,
      "metadata": {},
      "outputs": [],
      "source": [
        "dados['bmi'].plot.box()"
      ]
    },
    {
      "cell_type": "markdown",
      "metadata": {},
      "source": [
        "### **Verificando dados nulos**"
      ]
    },
    {
      "cell_type": "code",
      "execution_count": null,
      "metadata": {},
      "outputs": [],
      "source": [
        "dados.isnull().sum()/len(dados)"
      ]
    },
    {
      "cell_type": "code",
      "execution_count": null,
      "metadata": {},
      "outputs": [],
      "source": [
        "dados['gender'].value_counts() \n",
        "dados['ever_married'].value_counts()\n",
        "dados['work_type'].value_counts()\n",
        "dados['Residence_type'].value_counts()\n",
        "dados['smoking_status'].value_counts()"
      ]
    },
    {
      "cell_type": "code",
      "execution_count": null,
      "metadata": {},
      "outputs": [],
      "source": [
        "dados[['hypertension', 'heart_disease','stroke']].apply(pd.Series.value_counts)"
      ]
    },
    {
      "cell_type": "code",
      "execution_count": null,
      "metadata": {},
      "outputs": [],
      "source": [
        "dados[(dados['bmi'].isnull()) & (dados['stroke']==1)].shape"
      ]
    },
    {
      "cell_type": "code",
      "execution_count": null,
      "metadata": {},
      "outputs": [],
      "source": [
        "dados[(dados['stroke']==1)].shape"
      ]
    },
    {
      "cell_type": "markdown",
      "metadata": {},
      "source": [
        "### Iremos retirar as instâncias que apresentam valores nulos para bmi (IMC). Futuramente, iremos comparar se caso esse atributo for inputado, o classificador apresentará uma melhor performance."
      ]
    },
    {
      "cell_type": "code",
      "execution_count": null,
      "metadata": {},
      "outputs": [],
      "source": [
        "dados.dropna(inplace = True)\n",
        "#dados['bmi'] = dados['bmi'].fillna(dados['bmi'].mean())"
      ]
    },
    {
      "cell_type": "code",
      "execution_count": null,
      "metadata": {},
      "outputs": [],
      "source": [
        "dados[dados.duplicated()]"
      ]
    },
    {
      "cell_type": "code",
      "execution_count": null,
      "metadata": {},
      "outputs": [],
      "source": [
        "dados[ ( dados['smoking_status']==\"Unknown\" ) & ( dados['stroke']==1 ) ].shape"
      ]
    },
    {
      "cell_type": "code",
      "execution_count": null,
      "metadata": {},
      "outputs": [],
      "source": [
        "#dados.shape #4909\n",
        "dados = dados[dados['smoking_status']!=\"Unknown\"]"
      ]
    },
    {
      "cell_type": "code",
      "execution_count": null,
      "metadata": {},
      "outputs": [],
      "source": [
        "dados = dados[dados['gender']!=\"Other\"]"
      ]
    },
    {
      "cell_type": "markdown",
      "metadata": {},
      "source": [
        "## Discretizando variáveis contínuas"
      ]
    },
    {
      "cell_type": "code",
      "execution_count": null,
      "metadata": {},
      "outputs": [],
      "source": [
        "dados['faixaIdade'] = pd.cut(dados['age'], [0, 10, 25, 50, 75, 90])\n",
        "dados['faixaIMC'] = pd.cut(dados['bmi'], [0, 18.5, 25, 30, 40, 100])\n",
        "dados['faixaGlicose'] = pd.cut(dados['avg_glucose_level'], [0, 70, 100, 125, 300])\n",
        "#https://www.who.int/data/gho/indicator-metadata-registry/imr-details/2380\n",
        "dados['faixaIdade'] = dados['faixaIdade'].astype('category')\n",
        "dados['faixaIMC'] = dados['faixaIMC'].astype('category')\n",
        "dados['faixaGlicose'] = dados['faixaGlicose'].astype('category')\n"
      ]
    },
    {
      "cell_type": "markdown",
      "metadata": {},
      "source": [
        "# Análise"
      ]
    },
    {
      "cell_type": "markdown",
      "metadata": {},
      "source": [
        "Verificando distribuição dos atributos"
      ]
    },
    {
      "cell_type": "code",
      "execution_count": null,
      "metadata": {},
      "outputs": [],
      "source": [
        "# ax = sns.countplot(x=\"stroke\", data=dados)\n",
        "#ax = sns.barplot(x=\"day\", y=\"total_bill\", hue=\"sex\", data=tips)\n"
      ]
    },
    {
      "cell_type": "code",
      "execution_count": null,
      "metadata": {},
      "outputs": [],
      "source": [
        "#dados['hypertension'] \n",
        "#dados['heart_disease']\n",
        "#dados['stroke']\n",
        "dados[['hypertension', 'heart_disease','stroke']].apply(pd.Series.value_counts)"
      ]
    },
    {
      "cell_type": "code",
      "execution_count": null,
      "metadata": {},
      "outputs": [],
      "source": [
        "sns.countplot(x=\"heart_disease\", data=dados[dados['stroke']==1])"
      ]
    },
    {
      "cell_type": "code",
      "execution_count": null,
      "metadata": {},
      "outputs": [],
      "source": [
        "sns.histplot(data=dados, x=\"age\")"
      ]
    },
    {
      "cell_type": "code",
      "execution_count": null,
      "metadata": {},
      "outputs": [],
      "source": [
        "sns.histplot(data=dados, x=\"avg_glucose_level\")"
      ]
    },
    {
      "cell_type": "code",
      "execution_count": null,
      "metadata": {},
      "outputs": [],
      "source": [
        "sns.histplot(data=dados, x=\"bmi\")"
      ]
    },
    {
      "cell_type": "code",
      "execution_count": null,
      "metadata": {},
      "outputs": [],
      "source": [
        "sns.scatterplot(data=dados, x=\"age\", y=\"bmi\", hue=dados['stroke'])"
      ]
    },
    {
      "cell_type": "code",
      "execution_count": null,
      "metadata": {},
      "outputs": [],
      "source": [
        "sns.scatterplot(data=dados, x=\"bmi\", y=\"avg_glucose_level\", hue=dados['stroke'])"
      ]
    },
    {
      "cell_type": "code",
      "execution_count": null,
      "metadata": {},
      "outputs": [],
      "source": [
        "### Fazer os graficos para as categoricas (4 plots por janela)\n",
        "### Fazer os graficos para as categoricas apenas para stroke==1"
      ]
    },
    {
      "cell_type": "code",
      "execution_count": null,
      "metadata": {},
      "outputs": [],
      "source": [
        "dados.head()"
      ]
    },
    {
      "cell_type": "code",
      "execution_count": null,
      "metadata": {},
      "outputs": [],
      "source": [
        "fig, axes = plt.subplots(2, 2, figsize=(14, 10), sharey=False)\n",
        "\n",
        "sns.countplot(ax=axes[0,0], x=\"heart_disease\", data=dados)\n",
        "axes[0,0].tick_params(rotation=90, axis='x')\n",
        "#axes[0,0].set_title(nomes_series[0])\n",
        "#axes[0,0].set_ylabel('Número Total de Twitts')\n",
        "#axes[0,0].set_xlabel('Dia')\n",
        "\n",
        "sns.countplot(ax=axes[0,1], x=\"hypertension\", data=dados)\n",
        "axes[0,1].tick_params(rotation=90, axis='x')\n",
        "#axes[0,1].set_title(nomes_series[1])\n",
        "#axes[0,1].set_ylabel('Número Total de Twitts')\n",
        "#axes[0,1].set_xlabel('Dia')\n",
        "\n",
        "sns.countplot(ax=axes[1,0], x=\"faixaIdade\", data=dados)\n",
        "axes[1,0].tick_params(rotation=90, axis='x')\n",
        "#axes[1,0].set_title(nomes_series[2])\n",
        "#axes[1,0].set_ylabel('Número Total de Twitts')\n",
        "#axes[1,0].set_xlabel('Dia')\n",
        "\n",
        "sns.countplot(ax=axes[1,1], x=\"faixaGlicose\", data=dados)\n",
        "axes[1,1].tick_params(rotation=90, axis='x')\n",
        "#axes[1,1].set_title(nomes_series[3])\n",
        "#axes[1,1].set_ylabel('Número Total de Twitts')\n",
        "#axes[1,1].set_xlabel('Dia')"
      ]
    },
    {
      "cell_type": "code",
      "execution_count": null,
      "metadata": {},
      "outputs": [],
      "source": [
        "fig, axes = plt.subplots(2, 2, figsize=(14, 10), sharey=False)\n",
        "\n",
        "sns.countplot(ax=axes[0,0], x=\"heart_disease\", data=dados[dados['stroke']==1])\n",
        "axes[0,0].tick_params(rotation=90, axis='x')\n",
        "#axes[0,0].set_title(nomes_series[0])\n",
        "#axes[0,0].set_ylabel('Número Total de Twitts')\n",
        "#axes[0,0].set_xlabel('Dia')\n",
        "\n",
        "sns.countplot(ax=axes[0,1], x=\"hypertension\", data=dados[dados['stroke']==1])\n",
        "axes[0,1].tick_params(rotation=90, axis='x')\n",
        "#axes[0,1].set_title(nomes_series[1])\n",
        "#axes[0,1].set_ylabel('Número Total de Twitts')\n",
        "#axes[0,1].set_xlabel('Dia')\n",
        "\n",
        "sns.countplot(ax=axes[1,0], x=\"faixaIdade\", data=dados[dados['stroke']==1])\n",
        "axes[1,0].tick_params(rotation=90, axis='x')\n",
        "#axes[1,0].set_title(nomes_series[2])\n",
        "#axes[1,0].set_ylabel('Número Total de Twitts')\n",
        "#axes[1,0].set_xlabel('Dia')\n",
        "\n",
        "sns.countplot(ax=axes[1,1], x=\"faixaGlicose\", data=dados[dados['stroke']==1])\n",
        "axes[1,1].tick_params(rotation=90, axis='x')\n",
        "#axes[1,1].set_title(nomes_series[3])\n",
        "#axes[1,1].set_ylabel('Número Total de Twitts')\n",
        "#axes[1,1].set_xlabel('Dia')"
      ]
    },
    {
      "cell_type": "code",
      "execution_count": null,
      "metadata": {},
      "outputs": [],
      "source": [
        "dados.corr(method='pearson')"
      ]
    },
    {
      "cell_type": "code",
      "execution_count": null,
      "metadata": {},
      "outputs": [],
      "source": [
        "correlation_mat = dados.drop(columns = \"id\").corr()\n",
        "\n",
        "sns.heatmap(correlation_mat, annot = True)\n",
        "\n",
        "plt.show()"
      ]
    },
    {
      "cell_type": "code",
      "execution_count": null,
      "metadata": {},
      "outputs": [],
      "source": [
        "varCategoricas = ['gender', 'hypertension', 'heart_disease', 'ever_married', 'work_type', 'smoking_status', 'Residence_type', 'faixaIdade', 'faixaIMC', 'faixaGlicose']\n",
        "\n",
        "pvalores = []\n",
        "\n",
        "for variavel in varCategoricas:\n",
        "    crosstab = pd.crosstab(dados[\"stroke\"], dados[variavel])\n",
        "    pvalor = stats.chi2_contingency(crosstab)[1]\n",
        "    pvalores.append(pvalor)\n",
        "    print(variavel, pvalor)"
      ]
    },
    {
      "cell_type": "code",
      "execution_count": null,
      "metadata": {},
      "outputs": [],
      "source": [
        "crosstab, test_results, expected = rp.crosstab(dados[\"stroke\"], dados[\"heart_disease\"],\n",
        "                                               test= \"chi-square\",\n",
        "                                               expected_freqs = True,\n",
        "                                               prop= \"cell\")\n",
        "\n",
        "#crosstab\n",
        "test_results"
      ]
    },
    {
      "cell_type": "markdown",
      "metadata": {},
      "source": [
        "## Discretizando variáveis contínuas"
      ]
    },
    {
      "cell_type": "code",
      "execution_count": null,
      "metadata": {},
      "outputs": [],
      "source": [
        "dados['faixaIdade'] = pd.cut(dados['age'], [0, 10, 25, 50, 75, 90])"
      ]
    },
    {
      "cell_type": "code",
      "execution_count": null,
      "metadata": {},
      "outputs": [],
      "source": [
        "dados['faixaIMC'] = pd.cut(dados['bmi'], [0, 18.5, 25, 30, 40, 100])"
      ]
    },
    {
      "cell_type": "code",
      "execution_count": null,
      "metadata": {},
      "outputs": [],
      "source": [
        "dados['faixaGlicose'] = pd.cut(dados['avg_glucose_level'], [0, 70, 100, 125, 300])\n",
        "#https://www.who.int/data/gho/indicator-metadata-registry/imr-details/2380"
      ]
    },
    {
      "cell_type": "code",
      "execution_count": null,
      "metadata": {},
      "outputs": [],
      "source": [
        "dados['faixaIdade'] = dados['faixaIdade'].astype('category')\n",
        "dados['faixaIMC'] = dados['faixaIMC'].astype('category')\n",
        "dados['faixaGlicose'] = dados['faixaGlicose'].astype('category')"
      ]
    },
    {
      "cell_type": "markdown",
      "metadata": {
        "id": "yYx_yZ-msOp0"
      },
      "source": [
        "# Classificador Naive Bayes"
      ]
    },
    {
      "cell_type": "markdown",
      "metadata": {},
      "source": [
        "## Com scikit"
      ]
    },
    {
      "cell_type": "markdown",
      "metadata": {},
      "source": [
        "Separando em dados de treinamento e teste"
      ]
    },
    {
      "cell_type": "code",
      "execution_count": null,
      "metadata": {},
      "outputs": [],
      "source": [
        "dados.head()"
      ]
    },
    {
      "cell_type": "code",
      "execution_count": null,
      "metadata": {},
      "outputs": [],
      "source": [
        "X = dados.drop(columns='stroke')\n",
        "\n",
        "y = dados['stroke']\n",
        "\n",
        "X_train, X_test, y_train, y_test = train_test_split(X, y, test_size=0.3, random_state=42)\n",
        "\n"
      ]
    },
    {
      "cell_type": "markdown",
      "metadata": {},
      "source": [
        "Codificando as variáveis"
      ]
    },
    {
      "cell_type": "code",
      "execution_count": null,
      "metadata": {},
      "outputs": [],
      "source": [
        "X_trainNB = X_train\n",
        "X_testNB = X_test\n",
        "#X_trainNB\n",
        "#X_testNB"
      ]
    },
    {
      "cell_type": "code",
      "execution_count": null,
      "metadata": {},
      "outputs": [],
      "source": [
        "cat_columns = X_trainNB.select_dtypes(['category']).columns\n",
        "X_trainNB[cat_columns] = X_trainNB[cat_columns].apply(lambda x: x.cat.codes)\n",
        "\n",
        "cat_columns = X_testNB.select_dtypes(['category']).columns\n",
        "X_testNB[cat_columns] = X_testNB[cat_columns].apply(lambda x: x.cat.codes)\n",
        "\n",
        "X_trainNB = X_trainNB.drop(columns=[\"age\", \"bmi\", \"avg_glucose_level\", \"id\"])\n",
        "X_testNB = X_testNB.drop(columns=[\"age\", \"bmi\", \"avg_glucose_level\", \"id\"])\n",
        "\n",
        "\n"
      ]
    },
    {
      "cell_type": "code",
      "execution_count": null,
      "metadata": {},
      "outputs": [],
      "source": [
        "# With sklearn\n",
        "ctgrclNB = CategoricalNB(alpha=1)\n",
        "ctgrclNB.fit(X_trainNB, y_train)\n",
        "ctgrclNB.predict_proba(np.array(X_testNB))"
      ]
    },
    {
      "cell_type": "code",
      "execution_count": null,
      "metadata": {},
      "outputs": [],
      "source": [
        "y_pred = ctgrclNB.predict(np.array(X_testNB))"
      ]
    },
    {
      "cell_type": "code",
      "execution_count": null,
      "metadata": {},
      "outputs": [],
      "source": [
        "f1_score(y_test, y_pred, average=None)\n",
        "# accuracy_score(y_test, y_pred)\n",
        "\n",
        "#res_df = pd.DataFrame(resultado_predicao, y_test)"
      ]
    },
    {
      "cell_type": "code",
      "execution_count": null,
      "metadata": {},
      "outputs": [],
      "source": [
        "confusion_matrix(y_test, y_pred) #tn, fp, fn, tp"
      ]
    },
    {
      "cell_type": "code",
      "execution_count": null,
      "metadata": {},
      "outputs": [],
      "source": [
        "target_names = ['no stroke', 'stroke']\n",
        "print(classification_report(y_test, y_pred, target_names=target_names))"
      ]
    },
    {
      "cell_type": "markdown",
      "metadata": {},
      "source": [
        "## Sem scikit"
      ]
    },
    {
      "cell_type": "code",
      "execution_count": null,
      "metadata": {},
      "outputs": [],
      "source": [
        "trainNB = X_trainNB\n",
        "trainNB['stroke'] = y_train\n",
        "trainNB.head()"
      ]
    },
    {
      "cell_type": "code",
      "execution_count": null,
      "metadata": {},
      "outputs": [],
      "source": [
        "def calculoProbCond(entradaTestar, conjuntoTreino):\n",
        "    \n",
        "    arrayProbabilidades = [[],[]]\n",
        "    for nomeColuna in conjuntoTreino.columns: #exceto stroke?\n",
        "\n",
        "        if nomeColuna!=\"stroke\":   \n",
        "            valorTestar = entradaTestar[nomeColuna] #Ver se precisa passar o valor da linha (0)\n",
        " \n",
        "            atributoNao = len(conjuntoTreino[(conjuntoTreino[nomeColuna]==valorTestar)&(conjuntoTreino['stroke']==0)]) / len(conjuntoTreino[conjuntoTreino['stroke']==0])\n",
        "            atributoSim = len(conjuntoTreino[(conjuntoTreino[nomeColuna]==valorTestar)&(conjuntoTreino['stroke']==1)]) / len(conjuntoTreino[conjuntoTreino['stroke']==1])\n",
        "\n",
        "            arrayProbabilidades[0].append(atributoNao)\n",
        "            arrayProbabilidades[1].append(atributoSim)\n",
        "\n",
        "        #genderp0 = (len(XcomY[(XcomY['gender']==1)&(XcomY['stroke']==0)])+1) / (len(XcomY[XcomY['Y']==0])+(1*5))\n",
        "        #ctgrclX15p1 = (len(XcomY[(XcomY['gender']==1)&(XcomY['stroke']==1)])+1) / (len(XcomY[XcomY['Y']==1])+(1*5))\n",
        "\n",
        "\n",
        "    return arrayProbabilidades\n",
        "\n",
        "\n"
      ]
    },
    {
      "cell_type": "code",
      "execution_count": null,
      "metadata": {},
      "outputs": [],
      "source": [
        "def calculoProbabilidadePred(listaProbabilidades, conjuntoTreino):\n",
        "\n",
        "    Likelihood0 = np.prod(listaProbabilidades[0])\n",
        "    Likelihood1 = np.prod(listaProbabilidades[1])\n",
        "\n",
        "    ProbStroke0 = len(conjuntoTreino[conjuntoTreino['stroke']==0])/len(conjuntoTreino)\n",
        "    ProbStroke1 = len(conjuntoTreino[conjuntoTreino['stroke']==1])/len(conjuntoTreino)\n",
        "\n",
        "\n",
        "    ProbTotal = (ProbStroke0*Likelihood0) + (ProbStroke1*Likelihood1)\n",
        "\n",
        "    probNao = (ProbStroke0*Likelihood0)/ProbTotal\n",
        "    probSim = (ProbStroke1*Likelihood1)/ProbTotal\n",
        "    return 0 if probNao>probSim else 1"
      ]
    },
    {
      "cell_type": "code",
      "execution_count": null,
      "metadata": {},
      "outputs": [],
      "source": [
        "##Iterar sobre a base de teste\n",
        "def predictStroke(conjuntoTreino, conjuntoTeste) :\n",
        "\n",
        "    arrayPred = []\n",
        "    ##Loop que determina todas as predicoes\n",
        "    for index, linha in conjuntoTeste.iterrows():\n",
        "        resposta = calculoProbPosteriori(linha, conjuntoTreino)\n",
        "        predicao = calculoProbabilidadePred(resposta, conjuntoTreino)\n",
        "        print(index , \": \", predicao)\n",
        "        arrayPred.append(predicao)\n",
        "   \n",
        "    return arrayPred"
      ]
    },
    {
      "cell_type": "code",
      "execution_count": null,
      "metadata": {},
      "outputs": [],
      "source": [
        "pred_Y  =  predictStroke(trainNB, X_test)\n"
      ]
    },
    {
      "cell_type": "code",
      "execution_count": null,
      "metadata": {},
      "outputs": [],
      "source": [
        "pred_Y"
      ]
    },
    {
      "cell_type": "code",
      "execution_count": null,
      "metadata": {},
      "outputs": [],
      "source": [
        "accuracy_score(y_test, pred_Y)"
      ]
    },
    {
      "cell_type": "code",
      "execution_count": null,
      "metadata": {},
      "outputs": [],
      "source": [
        "f1_score(y_test, pred_Y, average=None)\n",
        "#([0.9604299 , 0.12903226]) resultado do scikit"
      ]
    },
    {
      "cell_type": "code",
      "execution_count": null,
      "metadata": {},
      "outputs": [],
      "source": [
        "confusion_matrix(y_test, pred_Y) #tn, fp, fn, tp f1=tp/tp+1/2(fp+fn) f0=942/942+1/2(27+53) e f1=6/6+1/2(27+53)"
      ]
    },
    {
      "cell_type": "code",
      "execution_count": null,
      "metadata": {},
      "outputs": [],
      "source": [
        "target_names = ['no stroke', 'stroke']\n",
        "print(classification_report(y_test, pred_Y, target_names=target_names))"
      ]
    },
    {
      "cell_type": "markdown",
      "metadata": {},
      "source": [
        "## KNN"
      ]
    },
    {
      "cell_type": "code",
      "execution_count": null,
      "metadata": {},
      "outputs": [],
      "source": [
        "X_trainKN = X_train.drop(columns = [\"faixaIdade\", \"faixaIMC\", \"faixaGlicose\", \"id\"])\n",
        "X_testKN = X_test.drop(columns = [\"faixaIdade\", \"faixaIMC\", \"faixaGlicose\", \"id\"])"
      ]
    },
    {
      "cell_type": "code",
      "execution_count": null,
      "metadata": {},
      "outputs": [],
      "source": [
        "train_dummies = pd.get_dummies(X_trainKN[[\"work_type\", \"smoking_status\"]].astype(str))\n",
        "test_dummies = pd.get_dummies(X_testKN[[\"work_type\", \"smoking_status\"]].astype(str))"
      ]
    },
    {
      "cell_type": "code",
      "execution_count": null,
      "metadata": {},
      "outputs": [],
      "source": [
        "X_trainKN = X_trainKN.join(train_dummies)\n",
        "X_testKN = X_testKN.join(test_dummies)"
      ]
    },
    {
      "cell_type": "code",
      "execution_count": null,
      "metadata": {},
      "outputs": [],
      "source": [
        "knnClassifier = KNeighborsClassifier(n_neighbors=1)\n",
        "knnClassifier.fit(X_trainKN, y_train)\n",
        "pred_KN = knnClassifier.predict(X_testKN)\n"
      ]
    },
    {
      "cell_type": "code",
      "execution_count": null,
      "metadata": {},
      "outputs": [],
      "source": [
        "f1_score(y_test, pred_KN, average=None)"
      ]
    },
    {
      "cell_type": "code",
      "execution_count": null,
      "metadata": {},
      "outputs": [],
      "source": [
        "accuracy_score(y_test, pred_KN)"
      ]
    },
    {
      "cell_type": "code",
      "execution_count": null,
      "metadata": {},
      "outputs": [],
      "source": [
        "confusion_matrix(y_test, pred_KN) #tn, fp, fn, tp"
      ]
    },
    {
      "cell_type": "code",
      "execution_count": null,
      "metadata": {},
      "outputs": [],
      "source": [
        "target_names = ['no stroke', 'stroke']\n",
        "print(classification_report(y_test, pred_KN, target_names=target_names))"
      ]
    },
    {
      "cell_type": "code",
      "execution_count": null,
      "metadata": {},
      "outputs": [],
      "source": [
        "tn, fp, fn, tp = confusion_matrix(y_test, pred_KN).ravel()\n",
        "tn, fp, fn, tp"
      ]
    },
    {
      "cell_type": "code",
      "execution_count": null,
      "metadata": {},
      "outputs": [],
      "source": [
        "len(dados[dados['stroke']==1])\n",
        "len(dados)#[dados['stroke']==1])"
      ]
    },
    {
      "cell_type": "markdown",
      "metadata": {},
      "source": [
        "# Experimento balanceamento"
      ]
    },
    {
      "cell_type": "code",
      "execution_count": null,
      "metadata": {},
      "outputs": [],
      "source": [
        "avcSim = dados[dados['stroke']==1]\n",
        "avcNao = dados[dados['stroke']==0]\n",
        "avcNao = avcNao.sample(frac=0.0555, replace=False, random_state=195)"
      ]
    },
    {
      "cell_type": "code",
      "execution_count": null,
      "metadata": {},
      "outputs": [],
      "source": [
        "len(avcNao)\n",
        "len(avcSim)"
      ]
    },
    {
      "cell_type": "code",
      "execution_count": null,
      "metadata": {},
      "outputs": [],
      "source": [
        "balanceado = avcSim.append(avcNao)"
      ]
    },
    {
      "cell_type": "code",
      "execution_count": null,
      "metadata": {},
      "outputs": [],
      "source": [
        "Xb = balanceado.drop(columns='stroke')\n",
        "\n",
        "yb = balanceado['stroke']\n",
        "\n",
        "Xb_train, Xb_test, yb_train, yb_test = train_test_split(X, y, test_size=0.3, random_state=42)\n"
      ]
    },
    {
      "cell_type": "code",
      "execution_count": null,
      "metadata": {},
      "outputs": [],
      "source": []
    },
    {
      "cell_type": "markdown",
      "metadata": {},
      "source": [
        "## Naive Bayes"
      ]
    },
    {
      "cell_type": "code",
      "execution_count": null,
      "metadata": {},
      "outputs": [],
      "source": []
    },
    {
      "cell_type": "markdown",
      "metadata": {},
      "source": [
        "## Knn"
      ]
    }
  ],
  "metadata": {
    "colab": {
      "name": "projetoEstatisticaDescritiva.ipynb",
      "provenance": []
    },
    "interpreter": {
      "hash": "0e1898d504e473bdd4635340539d41a5cecc72accb8598f6f0c7bcb5921af418"
    },
    "kernelspec": {
      "display_name": "Python 3.8.8 64-bit ('base': conda)",
      "name": "python3"
    },
    "language_info": {
      "codemirror_mode": {
        "name": "ipython",
        "version": 3
      },
      "file_extension": ".py",
      "mimetype": "text/x-python",
      "name": "python",
      "nbconvert_exporter": "python",
      "pygments_lexer": "ipython3",
      "version": "3.8.8"
    }
  },
  "nbformat": 4,
  "nbformat_minor": 0
}
