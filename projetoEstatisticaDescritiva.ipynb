{
  "nbformat": 4,
  "nbformat_minor": 0,
  "metadata": {
    "colab": {
      "name": "projetoEstatisticaDescritiva.ipynb",
      "provenance": []
    },
    "kernelspec": {
      "name": "python3",
      "display_name": "Python 3"
    },
    "language_info": {
      "name": "python"
    }
  },
  "cells": [
    {
      "cell_type": "markdown",
      "metadata": {
        "id": "-nX1TdbTgL87"
      },
      "source": [
        "# Projeto Estatística Descritiva de Dados\n",
        "## Lucas Natan Correia Couri e Mariama Oliveira"
      ]
    },
    {
      "cell_type": "markdown",
      "metadata": {
        "id": "K7hgBrxasDXN"
      },
      "source": [
        "# Análise exploratória"
      ]
    },
    {
      "cell_type": "code",
      "metadata": {
        "id": "IaCtHNE0gB2-"
      },
      "source": [
        ""
      ],
      "execution_count": null,
      "outputs": []
    },
    {
      "cell_type": "markdown",
      "metadata": {
        "id": "yYx_yZ-msOp0"
      },
      "source": [
        "# Teste"
      ]
    },
    {
      "cell_type": "code",
      "metadata": {
        "id": "bLUYhOJFsRnA"
      },
      "source": [
        ""
      ],
      "execution_count": null,
      "outputs": []
    }
  ]
}